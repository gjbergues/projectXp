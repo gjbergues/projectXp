{
 "cells": [
  {
   "cell_type": "markdown",
   "id": "40da4d57-1233-4e0e-ad77-040704b3957a",
   "metadata": {},
   "source": [
    "<div align=\"center\">\n",
    "    <img src='../../xepimage.png' style='height:100px;'>\n",
    "</div>\n",
    "\n",
    "\n",
    "<center><h1 style='font-size:25px'>Model</h1></center>\n",
    "\n",
    "---\n",
    "\n",
    "**Autor: Guillermo J. Bergues**\n",
    "\n",
    "AutoluOn model for Xepelin project.\n",
    "\n",
    "Data = basic (first approach)."
   ]
  },
  {
   "cell_type": "code",
   "execution_count": 1,
   "id": "abb89766-c3a0-4700-a603-85abbcef55bd",
   "metadata": {},
   "outputs": [
    {
     "name": "stdout",
     "output_type": "stream",
     "text": [
      "\u001b[33mWARNING: Running pip as the 'root' user can result in broken permissions and conflicting behaviour with the system package manager. It is recommended to use a virtual environment instead: https://pip.pypa.io/warnings/venv\u001b[0m\n"
     ]
    }
   ],
   "source": [
    "pip install autogluon"
   ]
  },
  {
   "cell_type": "code",
   "execution_count": 2,
   "id": "f1bde28a-5afa-45a6-97a0-38b680f0e003",
   "metadata": {},
   "outputs": [
    {
     "name": "stderr",
     "output_type": "stream",
     "text": [
      "/opt/miniconda3/envs/myenv/lib/python3.8/site-packages/tqdm/auto.py:22: TqdmWarning: IProgress not found. Please update jupyter and ipywidgets. See https://ipywidgets.readthedocs.io/en/stable/user_install.html\n",
      "  from .autonotebook import tqdm as notebook_tqdm\n"
     ]
    }
   ],
   "source": [
    "import pandas as pd \n",
    "import numpy as np\n",
    "\n",
    "from autogluon.tabular import TabularPredictor, TabularDataset\n",
    "\n",
    "# Metrics\n",
    "from sklearn import metrics\n",
    "\n",
    "import seaborn as sns\n",
    "import matplotlib.pyplot as plt\n",
    "%matplotlib inline"
   ]
  },
  {
   "cell_type": "code",
   "execution_count": 3,
   "id": "df059cb8-14bb-49f6-aec9-cc75a35184be",
   "metadata": {},
   "outputs": [],
   "source": [
    "df = pd.read_csv('../../Data/ds_basic.csv')"
   ]
  },
  {
   "cell_type": "code",
   "execution_count": 4,
   "id": "618161b3-a434-42d8-9350-7bb82c0bbc00",
   "metadata": {},
   "outputs": [
    {
     "data": {
      "text/html": [
       "<div>\n",
       "<style scoped>\n",
       "    .dataframe tbody tr th:only-of-type {\n",
       "        vertical-align: middle;\n",
       "    }\n",
       "\n",
       "    .dataframe tbody tr th {\n",
       "        vertical-align: top;\n",
       "    }\n",
       "\n",
       "    .dataframe thead th {\n",
       "        text-align: right;\n",
       "    }\n",
       "</style>\n",
       "<table border=\"1\" class=\"dataframe\">\n",
       "  <thead>\n",
       "    <tr style=\"text-align: right;\">\n",
       "      <th></th>\n",
       "      <th>PayerId</th>\n",
       "      <th>ReceiverId</th>\n",
       "      <th>days</th>\n",
       "      <th>amount</th>\n",
       "      <th>amountfinancedByXepelin</th>\n",
       "    </tr>\n",
       "  </thead>\n",
       "  <tbody>\n",
       "    <tr>\n",
       "      <th>0</th>\n",
       "      <td>151</td>\n",
       "      <td>19</td>\n",
       "      <td>0</td>\n",
       "      <td>1490.46</td>\n",
       "      <td>0.00</td>\n",
       "    </tr>\n",
       "    <tr>\n",
       "      <th>1</th>\n",
       "      <td>126</td>\n",
       "      <td>18</td>\n",
       "      <td>0</td>\n",
       "      <td>920.26</td>\n",
       "      <td>0.00</td>\n",
       "    </tr>\n",
       "    <tr>\n",
       "      <th>2</th>\n",
       "      <td>114</td>\n",
       "      <td>37</td>\n",
       "      <td>7</td>\n",
       "      <td>4035.26</td>\n",
       "      <td>0.00</td>\n",
       "    </tr>\n",
       "    <tr>\n",
       "      <th>3</th>\n",
       "      <td>122</td>\n",
       "      <td>12</td>\n",
       "      <td>10</td>\n",
       "      <td>27979.20</td>\n",
       "      <td>10520.15</td>\n",
       "    </tr>\n",
       "    <tr>\n",
       "      <th>4</th>\n",
       "      <td>55</td>\n",
       "      <td>34</td>\n",
       "      <td>22</td>\n",
       "      <td>1477.46</td>\n",
       "      <td>0.00</td>\n",
       "    </tr>\n",
       "  </tbody>\n",
       "</table>\n",
       "</div>"
      ],
      "text/plain": [
       "   PayerId  ReceiverId  days    amount  amountfinancedByXepelin\n",
       "0      151          19     0   1490.46                     0.00\n",
       "1      126          18     0    920.26                     0.00\n",
       "2      114          37     7   4035.26                     0.00\n",
       "3      122          12    10  27979.20                 10520.15\n",
       "4       55          34    22   1477.46                     0.00"
      ]
     },
     "execution_count": 4,
     "metadata": {},
     "output_type": "execute_result"
    }
   ],
   "source": [
    "df.head()"
   ]
  },
  {
   "cell_type": "code",
   "execution_count": 5,
   "id": "b2685814-0f2a-4b45-8894-09e20c7b96cd",
   "metadata": {},
   "outputs": [
    {
     "data": {
      "text/plain": [
       "<AxesSubplot:>"
      ]
     },
     "execution_count": 5,
     "metadata": {},
     "output_type": "execute_result"
    },
    {
     "data": {
      "image/png": "[encoded data removed]",
      "text/plain": [
       "<Figure size 432x288 with 1 Axes>"
      ]
     },
     "metadata": {
      "needs_background": "light"
     },
     "output_type": "display_data"
    }
   ],
   "source": [
    "df['days'].hist()"
   ]
  },
  {
   "cell_type": "code",
   "execution_count": 6,
   "id": "aca93c1b-0799-4665-b04b-ee2e2da5a05e",
   "metadata": {},
   "outputs": [],
   "source": [
    "save_path = \"agModels\""
   ]
  },
  {
   "cell_type": "code",
   "execution_count": 7,
   "id": "cadc57c4-5a1e-438f-b05d-b4a9424a75c4",
   "metadata": {},
   "outputs": [],
   "source": [
    "df_train = df[df[\"days\"] < 180]"
   ]
  },
  {
   "cell_type": "code",
   "execution_count": 8,
   "id": "3470f9a0-5f6a-41bc-a442-e7a530fbb0d0",
   "metadata": {},
   "outputs": [],
   "source": [
    "label = 'amountfinancedByXepelin'"
   ]
  },
  {
   "cell_type": "code",
   "execution_count": 9,
   "id": "590dee7b-4bab-4b59-baa4-8ea820fe6f9d",
   "metadata": {},
   "outputs": [],
   "source": [
    "df_train = TabularDataset(df)"
   ]
  },
  {
   "cell_type": "code",
   "execution_count": 10,
   "id": "31181acd-301b-4541-ba0c-c344010a6fef",
   "metadata": {
    "collapsed": true,
    "jupyter": {
     "outputs_hidden": true
    },
    "tags": []
   },
   "outputs": [
    {
     "name": "stderr",
     "output_type": "stream",
     "text": [
      "Warning: path already exists! This predictor may overwrite an existing predictor! path=\"agModels\"\n",
      "Beginning AutoGluon training ... Time limit = 18000s\n",
      "AutoGluon will save models to \"agModels/\"\n",
      "AutoGluon Version:  0.4.2\n",
      "Python Version:     3.8.10\n",
      "Operating System:   Linux\n",
      "Train Data Rows:    892\n",
      "Train Data Columns: 4\n",
      "Label Column: amountfinancedByXepelin\n",
      "Preprocessing data ...\n",
      "AutoGluon infers your prediction problem is: 'regression' (because dtype of label-column == float and many unique label-values observed).\n",
      "\tLabel info (max, min, mean, stddev): (3370741.92, 0.0, 18548.1092, 131859.22527)\n",
      "\tIf 'regression' is not the correct problem_type, please manually specify the problem_type parameter during predictor init (You may specify problem_type as one of: ['binary', 'multiclass', 'regression'])\n",
      "Using Feature Generators to preprocess the data ...\n",
      "Fitting AutoMLPipelineFeatureGenerator...\n",
      "\tAvailable Memory:                    64271.61 MB\n",
      "\tTrain Data (Original)  Memory Usage: 0.03 MB (0.0% of available memory)\n",
      "\tInferring data type of each feature based on column values. Set feature_metadata_in to manually specify special dtypes of the features.\n",
      "\tStage 1 Generators:\n",
      "\t\tFitting AsTypeFeatureGenerator...\n",
      "\tStage 2 Generators:\n",
      "\t\tFitting FillNaFeatureGenerator...\n",
      "\tStage 3 Generators:\n",
      "\t\tFitting IdentityFeatureGenerator...\n",
      "\tStage 4 Generators:\n",
      "\t\tFitting DropUniqueFeatureGenerator...\n",
      "\tTypes of features in original data (raw dtype, special dtypes):\n",
      "\t\t('float', []) : 1 | ['amount']\n",
      "\t\t('int', [])   : 3 | ['PayerId', 'ReceiverId', 'days']\n",
      "\tTypes of features in processed data (raw dtype, special dtypes):\n",
      "\t\t('float', []) : 1 | ['amount']\n",
      "\t\t('int', [])   : 3 | ['PayerId', 'ReceiverId', 'days']\n",
      "\t0.0s = Fit runtime\n",
      "\t4 features in original data used to generate 4 features in processed data.\n",
      "\tTrain Data (Processed) Memory Usage: 0.03 MB (0.0% of available memory)\n",
      "Data preprocessing and feature engineering runtime = 0.05s ...\n",
      "AutoGluon will gauge predictive performance using evaluation metric: 'median_absolute_error'\n",
      "\tTo change this, specify the eval_metric parameter of Predictor()\n",
      "Automatically generating train/validation split with holdout_frac=0.2, Train Rows: 713, Val Rows: 179\n",
      "Fitting 11 L1 models ...\n",
      "Fitting model: KNeighborsUnif ... Training model for up to 17999.95s of the 17999.95s of remaining time.\n",
      "\t-0.0\t = Validation score   (median_absolute_error)\n",
      "\t0.01s\t = Training   runtime\n",
      "\t0.01s\t = Validation runtime\n",
      "Fitting model: KNeighborsDist ... Training model for up to 17999.88s of the 17999.88s of remaining time.\n",
      "\t-0.0\t = Validation score   (median_absolute_error)\n",
      "\t0.0s\t = Training   runtime\n",
      "\t0.01s\t = Validation runtime\n",
      "Fitting model: LightGBMXT ... Training model for up to 17999.82s of the 17999.82s of remaining time.\n",
      "\t-1523.0618\t = Validation score   (median_absolute_error)\n",
      "\t0.79s\t = Training   runtime\n",
      "\t0.0s\t = Validation runtime\n",
      "Fitting model: LightGBM ... Training model for up to 17998.97s of the 17998.97s of remaining time.\n",
      "\t-232.1549\t = Validation score   (median_absolute_error)\n",
      "\t0.37s\t = Training   runtime\n",
      "\t0.0s\t = Validation runtime\n",
      "Fitting model: RandomForestMSE ... Training model for up to 17998.53s of the 17998.52s of remaining time.\n",
      "\t-0.0\t = Validation score   (median_absolute_error)\n",
      "\t0.61s\t = Training   runtime\n",
      "\t0.07s\t = Validation runtime\n",
      "Fitting model: CatBoost ... Training model for up to 17997.7s of the 17997.7s of remaining time.\n",
      "\t-854.2831\t = Validation score   (median_absolute_error)\n",
      "\t10.26s\t = Training   runtime\n",
      "\t0.0s\t = Validation runtime\n",
      "Fitting model: ExtraTreesMSE ... Training model for up to 17987.33s of the 17987.33s of remaining time.\n",
      "\t-10.5367\t = Validation score   (median_absolute_error)\n",
      "\t0.59s\t = Training   runtime\n",
      "\t0.07s\t = Validation runtime\n",
      "Fitting model: NeuralNetFastAI ... Training model for up to 17986.53s of the 17986.52s of remaining time.\n",
      "\t-5059.8682\t = Validation score   (median_absolute_error)\n",
      "\t1.37s\t = Training   runtime\n",
      "\t0.01s\t = Validation runtime\n",
      "Fitting model: XGBoost ... Training model for up to 17985.05s of the 17985.05s of remaining time.\n",
      "\t-1.1191\t = Validation score   (median_absolute_error)\n",
      "\t0.4s\t = Training   runtime\n",
      "\t0.01s\t = Validation runtime\n",
      "Fitting model: NeuralNetTorch ... Training model for up to 17984.54s of the 17984.54s of remaining time.\n",
      "\t-0.0\t = Validation score   (median_absolute_error)\n",
      "\t53.0s\t = Training   runtime\n",
      "\t0.01s\t = Validation runtime\n",
      "Fitting model: LightGBMLarge ... Training model for up to 17931.43s of the 17931.43s of remaining time.\n",
      "\t-95.5951\t = Validation score   (median_absolute_error)\n",
      "\t0.92s\t = Training   runtime\n",
      "\t0.0s\t = Validation runtime\n",
      "Fitting model: WeightedEnsemble_L2 ... Training model for up to 1800.0s of the 17930.1s of remaining time.\n",
      "\t-0.0\t = Validation score   (median_absolute_error)\n",
      "\t0.31s\t = Training   runtime\n",
      "\t0.0s\t = Validation runtime\n",
      "AutoGluon training complete, total runtime = 70.49s ... Best model: \"WeightedEnsemble_L2\"\n",
      "TabularPredictor saved. To load, use: predictor = TabularPredictor.load(\"agModels/\")\n"
     ]
    }
   ],
   "source": [
    "# Metric for optimization MAE\n",
    "predictor = TabularPredictor(label=label, path=save_path, eval_metric='median_absolute_error').fit(df_train, time_limit=18000)"
   ]
  },
  {
   "cell_type": "code",
   "execution_count": 11,
   "id": "d7327254-a7dc-44c6-b141-56088cf9fbb9",
   "metadata": {},
   "outputs": [],
   "source": [
    "test_data = df[df[\"days\"] >= 180]"
   ]
  },
  {
   "cell_type": "code",
   "execution_count": 12,
   "id": "6ce7a879-83e2-413b-80b8-10a4c5e3e728",
   "metadata": {},
   "outputs": [],
   "source": [
    "df_test = TabularDataset(test_data)"
   ]
  },
  {
   "cell_type": "code",
   "execution_count": 13,
   "id": "ca35a04b-8469-42f1-88ab-2bab4a69e68b",
   "metadata": {},
   "outputs": [],
   "source": [
    "# values to predict\n",
    "y_test = df_test[label]  "
   ]
  },
  {
   "cell_type": "code",
   "execution_count": 14,
   "id": "5658d422-bffa-4e03-b423-11c79fd3d79a",
   "metadata": {},
   "outputs": [],
   "source": [
    "# delete label column to prove we're not cheating\n",
    "test_data_nolab = df_test.drop(columns=[label])  "
   ]
  },
  {
   "cell_type": "code",
   "execution_count": 15,
   "id": "b9c12c0c-6b65-489c-bd05-56f3e6ff955a",
   "metadata": {},
   "outputs": [
    {
     "data": {
      "text/html": [
       "<div>\n",
       "<style scoped>\n",
       "    .dataframe tbody tr th:only-of-type {\n",
       "        vertical-align: middle;\n",
       "    }\n",
       "\n",
       "    .dataframe tbody tr th {\n",
       "        vertical-align: top;\n",
       "    }\n",
       "\n",
       "    .dataframe thead th {\n",
       "        text-align: right;\n",
       "    }\n",
       "</style>\n",
       "<table border=\"1\" class=\"dataframe\">\n",
       "  <thead>\n",
       "    <tr style=\"text-align: right;\">\n",
       "      <th></th>\n",
       "      <th>PayerId</th>\n",
       "      <th>ReceiverId</th>\n",
       "      <th>days</th>\n",
       "      <th>amount</th>\n",
       "    </tr>\n",
       "  </thead>\n",
       "  <tbody>\n",
       "    <tr>\n",
       "      <th>628</th>\n",
       "      <td>187</td>\n",
       "      <td>55</td>\n",
       "      <td>182</td>\n",
       "      <td>725.46</td>\n",
       "    </tr>\n",
       "    <tr>\n",
       "      <th>629</th>\n",
       "      <td>174</td>\n",
       "      <td>82</td>\n",
       "      <td>182</td>\n",
       "      <td>1792.46</td>\n",
       "    </tr>\n",
       "    <tr>\n",
       "      <th>630</th>\n",
       "      <td>145</td>\n",
       "      <td>42</td>\n",
       "      <td>183</td>\n",
       "      <td>1139.86</td>\n",
       "    </tr>\n",
       "    <tr>\n",
       "      <th>631</th>\n",
       "      <td>138</td>\n",
       "      <td>44</td>\n",
       "      <td>183</td>\n",
       "      <td>2052.66</td>\n",
       "    </tr>\n",
       "    <tr>\n",
       "      <th>632</th>\n",
       "      <td>169</td>\n",
       "      <td>38</td>\n",
       "      <td>183</td>\n",
       "      <td>1447.86</td>\n",
       "    </tr>\n",
       "  </tbody>\n",
       "</table>\n",
       "</div>"
      ],
      "text/plain": [
       "     PayerId  ReceiverId  days   amount\n",
       "628      187          55   182   725.46\n",
       "629      174          82   182  1792.46\n",
       "630      145          42   183  1139.86\n",
       "631      138          44   183  2052.66\n",
       "632      169          38   183  1447.86"
      ]
     },
     "execution_count": 15,
     "metadata": {},
     "output_type": "execute_result"
    }
   ],
   "source": [
    "test_data_nolab.head()"
   ]
  },
  {
   "cell_type": "code",
   "execution_count": 16,
   "id": "c8231538-266e-47b0-9838-142e71672b96",
   "metadata": {},
   "outputs": [],
   "source": [
    "predictor = TabularPredictor.load(save_path)  "
   ]
  },
  {
   "cell_type": "code",
   "execution_count": 17,
   "id": "2e319bab-1554-429e-a7f3-7a1fbd2c70ba",
   "metadata": {},
   "outputs": [
    {
     "name": "stdout",
     "output_type": "stream",
     "text": [
      "Predictions:  \n",
      " 628       0.000000\n",
      "629       0.000000\n",
      "630       0.000000\n",
      "631       0.000000\n",
      "632       0.000000\n",
      "          ...     \n",
      "887       0.000000\n",
      "888       0.000000\n",
      "889    8965.536133\n",
      "890       0.000000\n",
      "891       0.000000\n",
      "Name: amountfinancedByXepelin, Length: 264, dtype: float32\n"
     ]
    }
   ],
   "source": [
    "y_pred = predictor.predict(test_data_nolab)\n",
    "print(\"Predictions:  \\n\", y_pred)"
   ]
  },
  {
   "cell_type": "code",
   "execution_count": 18,
   "id": "a40d50cb-361a-47b6-9ab8-6a0a1ba36353",
   "metadata": {},
   "outputs": [
    {
     "name": "stderr",
     "output_type": "stream",
     "text": [
      "Evaluation: median_absolute_error on test data: -0.0\n",
      "Evaluations on test data:\n",
      "{\n",
      "    \"median_absolute_error\": -0.0,\n",
      "    \"root_mean_squared_error\": -18979.749368865476,\n",
      "    \"mean_squared_error\": -360230886.1049494,\n",
      "    \"mean_absolute_error\": -5218.375419505726,\n",
      "    \"r2\": 0.8733080036348294,\n",
      "    \"pearsonr\": 0.9504725217575404\n",
      "}\n"
     ]
    }
   ],
   "source": [
    "perf = predictor.evaluate_predictions(y_true=y_test, y_pred=y_pred, auxiliary_metrics=True)"
   ]
  },
  {
   "cell_type": "code",
   "execution_count": 19,
   "id": "0d15a516-ee8a-4abd-8964-559bca28fa43",
   "metadata": {},
   "outputs": [
    {
     "data": {
      "text/html": [
       "<div>\n",
       "<style scoped>\n",
       "    .dataframe tbody tr th:only-of-type {\n",
       "        vertical-align: middle;\n",
       "    }\n",
       "\n",
       "    .dataframe tbody tr th {\n",
       "        vertical-align: top;\n",
       "    }\n",
       "\n",
       "    .dataframe thead th {\n",
       "        text-align: right;\n",
       "    }\n",
       "</style>\n",
       "<table border=\"1\" class=\"dataframe\">\n",
       "  <thead>\n",
       "    <tr style=\"text-align: right;\">\n",
       "      <th></th>\n",
       "      <th>test</th>\n",
       "      <th>prediction</th>\n",
       "      <th>residual</th>\n",
       "    </tr>\n",
       "  </thead>\n",
       "  <tbody>\n",
       "    <tr>\n",
       "      <th>628</th>\n",
       "      <td>0.0</td>\n",
       "      <td>0.0</td>\n",
       "      <td>0.0</td>\n",
       "    </tr>\n",
       "    <tr>\n",
       "      <th>629</th>\n",
       "      <td>0.0</td>\n",
       "      <td>0.0</td>\n",
       "      <td>0.0</td>\n",
       "    </tr>\n",
       "    <tr>\n",
       "      <th>630</th>\n",
       "      <td>0.0</td>\n",
       "      <td>0.0</td>\n",
       "      <td>0.0</td>\n",
       "    </tr>\n",
       "    <tr>\n",
       "      <th>631</th>\n",
       "      <td>0.0</td>\n",
       "      <td>0.0</td>\n",
       "      <td>0.0</td>\n",
       "    </tr>\n",
       "    <tr>\n",
       "      <th>632</th>\n",
       "      <td>0.0</td>\n",
       "      <td>0.0</td>\n",
       "      <td>0.0</td>\n",
       "    </tr>\n",
       "  </tbody>\n",
       "</table>\n",
       "</div>"
      ],
      "text/plain": [
       "     test  prediction  residual\n",
       "628   0.0         0.0       0.0\n",
       "629   0.0         0.0       0.0\n",
       "630   0.0         0.0       0.0\n",
       "631   0.0         0.0       0.0\n",
       "632   0.0         0.0       0.0"
      ]
     },
     "execution_count": 19,
     "metadata": {},
     "output_type": "execute_result"
    }
   ],
   "source": [
    "# Predictions and test data set\n",
    "df_test_pred = pd.concat([y_test, y_pred], axis=1)\n",
    "df_test_pred.columns = ['test', 'prediction']\n",
    "df_test_pred['residual'] = df_test_pred['test'] - df_test_pred['prediction']\n",
    "df_test_pred.head()"
   ]
  },
  {
   "cell_type": "code",
   "execution_count": 20,
   "id": "72c1bf6e-ad0b-47ae-91a4-8a27ecfaa837",
   "metadata": {},
   "outputs": [
    {
     "data": {
      "text/plain": [
       "Text(0, 0.5, 'Predicted values')"
      ]
     },
     "execution_count": 20,
     "metadata": {},
     "output_type": "execute_result"
    },
    {
     "data": {
      "image/png": "[encoded data removed]",
      "text/plain": [
       "<Figure size 432x288 with 1 Axes>"
      ]
     },
     "metadata": {
      "needs_background": "light"
     },
     "output_type": "display_data"
    }
   ],
   "source": [
    "sns.regplot(x=y_test, y=y_pred);\n",
    "plt.xlabel('Test values')\n",
    "plt.ylabel('Predicted values')"
   ]
  },
  {
   "cell_type": "code",
   "execution_count": 21,
   "id": "b7625a89-18c2-4c5d-b523-7c2b12be1cec",
   "metadata": {},
   "outputs": [
    {
     "data": {
      "text/html": [
       "<div>\n",
       "<style scoped>\n",
       "    .dataframe tbody tr th:only-of-type {\n",
       "        vertical-align: middle;\n",
       "    }\n",
       "\n",
       "    .dataframe tbody tr th {\n",
       "        vertical-align: top;\n",
       "    }\n",
       "\n",
       "    .dataframe thead th {\n",
       "        text-align: right;\n",
       "    }\n",
       "</style>\n",
       "<table border=\"1\" class=\"dataframe\">\n",
       "  <thead>\n",
       "    <tr style=\"text-align: right;\">\n",
       "      <th></th>\n",
       "      <th>model</th>\n",
       "      <th>score_test</th>\n",
       "      <th>score_val</th>\n",
       "      <th>pred_time_test</th>\n",
       "      <th>pred_time_val</th>\n",
       "      <th>fit_time</th>\n",
       "      <th>pred_time_test_marginal</th>\n",
       "      <th>pred_time_val_marginal</th>\n",
       "      <th>fit_time_marginal</th>\n",
       "      <th>stack_level</th>\n",
       "      <th>can_infer</th>\n",
       "      <th>fit_order</th>\n",
       "    </tr>\n",
       "  </thead>\n",
       "  <tbody>\n",
       "    <tr>\n",
       "      <th>0</th>\n",
       "      <td>KNeighborsUnif</td>\n",
       "      <td>-0.000000e+00</td>\n",
       "      <td>-0.000000e+00</td>\n",
       "      <td>0.007553</td>\n",
       "      <td>0.008132</td>\n",
       "      <td>0.005064</td>\n",
       "      <td>0.007553</td>\n",
       "      <td>0.008132</td>\n",
       "      <td>0.005064</td>\n",
       "      <td>1</td>\n",
       "      <td>True</td>\n",
       "      <td>1</td>\n",
       "    </tr>\n",
       "    <tr>\n",
       "      <th>1</th>\n",
       "      <td>KNeighborsDist</td>\n",
       "      <td>-0.000000e+00</td>\n",
       "      <td>-0.000000e+00</td>\n",
       "      <td>0.009078</td>\n",
       "      <td>0.007332</td>\n",
       "      <td>0.004634</td>\n",
       "      <td>0.009078</td>\n",
       "      <td>0.007332</td>\n",
       "      <td>0.004634</td>\n",
       "      <td>1</td>\n",
       "      <td>True</td>\n",
       "      <td>2</td>\n",
       "    </tr>\n",
       "    <tr>\n",
       "      <th>2</th>\n",
       "      <td>WeightedEnsemble_L2</td>\n",
       "      <td>-0.000000e+00</td>\n",
       "      <td>-0.000000e+00</td>\n",
       "      <td>0.010937</td>\n",
       "      <td>0.008590</td>\n",
       "      <td>0.314079</td>\n",
       "      <td>0.003383</td>\n",
       "      <td>0.000459</td>\n",
       "      <td>0.309015</td>\n",
       "      <td>2</td>\n",
       "      <td>True</td>\n",
       "      <td>12</td>\n",
       "    </tr>\n",
       "    <tr>\n",
       "      <th>3</th>\n",
       "      <td>ExtraTreesMSE</td>\n",
       "      <td>-0.000000e+00</td>\n",
       "      <td>-1.053667e+01</td>\n",
       "      <td>0.080055</td>\n",
       "      <td>0.067400</td>\n",
       "      <td>0.585547</td>\n",
       "      <td>0.080055</td>\n",
       "      <td>0.067400</td>\n",
       "      <td>0.585547</td>\n",
       "      <td>1</td>\n",
       "      <td>True</td>\n",
       "      <td>7</td>\n",
       "    </tr>\n",
       "    <tr>\n",
       "      <th>4</th>\n",
       "      <td>RandomForestMSE</td>\n",
       "      <td>-0.000000e+00</td>\n",
       "      <td>-0.000000e+00</td>\n",
       "      <td>0.081635</td>\n",
       "      <td>0.068470</td>\n",
       "      <td>0.613172</td>\n",
       "      <td>0.081635</td>\n",
       "      <td>0.068470</td>\n",
       "      <td>0.613172</td>\n",
       "      <td>1</td>\n",
       "      <td>True</td>\n",
       "      <td>5</td>\n",
       "    </tr>\n",
       "    <tr>\n",
       "      <th>5</th>\n",
       "      <td>NeuralNetTorch</td>\n",
       "      <td>-6.386543e-12</td>\n",
       "      <td>-1.506869e-11</td>\n",
       "      <td>0.026810</td>\n",
       "      <td>0.007949</td>\n",
       "      <td>52.997553</td>\n",
       "      <td>0.026810</td>\n",
       "      <td>0.007949</td>\n",
       "      <td>52.997553</td>\n",
       "      <td>1</td>\n",
       "      <td>True</td>\n",
       "      <td>10</td>\n",
       "    </tr>\n",
       "    <tr>\n",
       "      <th>6</th>\n",
       "      <td>XGBoost</td>\n",
       "      <td>-1.119088e+00</td>\n",
       "      <td>-1.119088e+00</td>\n",
       "      <td>0.012995</td>\n",
       "      <td>0.005680</td>\n",
       "      <td>0.399566</td>\n",
       "      <td>0.012995</td>\n",
       "      <td>0.005680</td>\n",
       "      <td>0.399566</td>\n",
       "      <td>1</td>\n",
       "      <td>True</td>\n",
       "      <td>9</td>\n",
       "    </tr>\n",
       "    <tr>\n",
       "      <th>7</th>\n",
       "      <td>LightGBMLarge</td>\n",
       "      <td>-5.269197e+01</td>\n",
       "      <td>-9.559508e+01</td>\n",
       "      <td>0.015091</td>\n",
       "      <td>0.003740</td>\n",
       "      <td>0.918630</td>\n",
       "      <td>0.015091</td>\n",
       "      <td>0.003740</td>\n",
       "      <td>0.918630</td>\n",
       "      <td>1</td>\n",
       "      <td>True</td>\n",
       "      <td>11</td>\n",
       "    </tr>\n",
       "    <tr>\n",
       "      <th>8</th>\n",
       "      <td>LightGBM</td>\n",
       "      <td>-1.891918e+02</td>\n",
       "      <td>-2.321549e+02</td>\n",
       "      <td>0.006270</td>\n",
       "      <td>0.002730</td>\n",
       "      <td>0.366276</td>\n",
       "      <td>0.006270</td>\n",
       "      <td>0.002730</td>\n",
       "      <td>0.366276</td>\n",
       "      <td>1</td>\n",
       "      <td>True</td>\n",
       "      <td>4</td>\n",
       "    </tr>\n",
       "    <tr>\n",
       "      <th>9</th>\n",
       "      <td>CatBoost</td>\n",
       "      <td>-2.576421e+02</td>\n",
       "      <td>-8.542831e+02</td>\n",
       "      <td>0.005124</td>\n",
       "      <td>0.002200</td>\n",
       "      <td>10.256403</td>\n",
       "      <td>0.005124</td>\n",
       "      <td>0.002200</td>\n",
       "      <td>10.256403</td>\n",
       "      <td>1</td>\n",
       "      <td>True</td>\n",
       "      <td>6</td>\n",
       "    </tr>\n",
       "    <tr>\n",
       "      <th>10</th>\n",
       "      <td>LightGBMXT</td>\n",
       "      <td>-9.150301e+02</td>\n",
       "      <td>-1.523062e+03</td>\n",
       "      <td>0.004520</td>\n",
       "      <td>0.002549</td>\n",
       "      <td>0.790476</td>\n",
       "      <td>0.004520</td>\n",
       "      <td>0.002549</td>\n",
       "      <td>0.790476</td>\n",
       "      <td>1</td>\n",
       "      <td>True</td>\n",
       "      <td>3</td>\n",
       "    </tr>\n",
       "    <tr>\n",
       "      <th>11</th>\n",
       "      <td>NeuralNetFastAI</td>\n",
       "      <td>-6.526993e+03</td>\n",
       "      <td>-5.059868e+03</td>\n",
       "      <td>0.036610</td>\n",
       "      <td>0.009725</td>\n",
       "      <td>1.373322</td>\n",
       "      <td>0.036610</td>\n",
       "      <td>0.009725</td>\n",
       "      <td>1.373322</td>\n",
       "      <td>1</td>\n",
       "      <td>True</td>\n",
       "      <td>8</td>\n",
       "    </tr>\n",
       "  </tbody>\n",
       "</table>\n",
       "</div>"
      ],
      "text/plain": [
       "                  model    score_test     score_val  pred_time_test  \\\n",
       "0        KNeighborsUnif -0.000000e+00 -0.000000e+00        0.007553   \n",
       "1        KNeighborsDist -0.000000e+00 -0.000000e+00        0.009078   \n",
       "2   WeightedEnsemble_L2 -0.000000e+00 -0.000000e+00        0.010937   \n",
       "3         ExtraTreesMSE -0.000000e+00 -1.053667e+01        0.080055   \n",
       "4       RandomForestMSE -0.000000e+00 -0.000000e+00        0.081635   \n",
       "5        NeuralNetTorch -6.386543e-12 -1.506869e-11        0.026810   \n",
       "6               XGBoost -1.119088e+00 -1.119088e+00        0.012995   \n",
       "7         LightGBMLarge -5.269197e+01 -9.559508e+01        0.015091   \n",
       "8              LightGBM -1.891918e+02 -2.321549e+02        0.006270   \n",
       "9              CatBoost -2.576421e+02 -8.542831e+02        0.005124   \n",
       "10           LightGBMXT -9.150301e+02 -1.523062e+03        0.004520   \n",
       "11      NeuralNetFastAI -6.526993e+03 -5.059868e+03        0.036610   \n",
       "\n",
       "    pred_time_val   fit_time  pred_time_test_marginal  pred_time_val_marginal  \\\n",
       "0        0.008132   0.005064                 0.007553                0.008132   \n",
       "1        0.007332   0.004634                 0.009078                0.007332   \n",
       "2        0.008590   0.314079                 0.003383                0.000459   \n",
       "3        0.067400   0.585547                 0.080055                0.067400   \n",
       "4        0.068470   0.613172                 0.081635                0.068470   \n",
       "5        0.007949  52.997553                 0.026810                0.007949   \n",
       "6        0.005680   0.399566                 0.012995                0.005680   \n",
       "7        0.003740   0.918630                 0.015091                0.003740   \n",
       "8        0.002730   0.366276                 0.006270                0.002730   \n",
       "9        0.002200  10.256403                 0.005124                0.002200   \n",
       "10       0.002549   0.790476                 0.004520                0.002549   \n",
       "11       0.009725   1.373322                 0.036610                0.009725   \n",
       "\n",
       "    fit_time_marginal  stack_level  can_infer  fit_order  \n",
       "0            0.005064            1       True          1  \n",
       "1            0.004634            1       True          2  \n",
       "2            0.309015            2       True         12  \n",
       "3            0.585547            1       True          7  \n",
       "4            0.613172            1       True          5  \n",
       "5           52.997553            1       True         10  \n",
       "6            0.399566            1       True          9  \n",
       "7            0.918630            1       True         11  \n",
       "8            0.366276            1       True          4  \n",
       "9           10.256403            1       True          6  \n",
       "10           0.790476            1       True          3  \n",
       "11           1.373322            1       True          8  "
      ]
     },
     "execution_count": 21,
     "metadata": {},
     "output_type": "execute_result"
    }
   ],
   "source": [
    "predictor.leaderboard(test_data, silent=True)"
   ]
  },
  {
   "cell_type": "code",
   "execution_count": 22,
   "id": "3aeca123-7665-4b1c-8778-6a73547a164c",
   "metadata": {},
   "outputs": [
    {
     "name": "stdout",
     "output_type": "stream",
     "text": [
      "MAE: 5218.375419505726\n",
      "MSE: 360230886.1049494\n",
      "RMSE: 18979.749368865476\n"
     ]
    }
   ],
   "source": [
    "print('MAE:', metrics.mean_absolute_error(y_test, y_pred))\n",
    "print('MSE:', metrics.mean_squared_error(y_test, y_pred))\n",
    "print('RMSE:', np.sqrt(metrics.mean_squared_error(y_test, y_pred)))"
   ]
  },
  {
   "cell_type": "code",
   "execution_count": 23,
   "id": "d82d3c4c-6750-4173-b337-2ea877ec6a03",
   "metadata": {},
   "outputs": [
    {
     "data": {
      "image/png": "[encoded data removed]",
      "text/plain": [
       "<Figure size 432x288 with 1 Axes>"
      ]
     },
     "metadata": {
      "needs_background": "light"
     },
     "output_type": "display_data"
    }
   ],
   "source": [
    "# Distributions of residuals\n",
    "sns.histplot(data=df_test_pred, x='residual', kde=True, bins=30);"
   ]
  },
  {
   "cell_type": "code",
   "execution_count": 24,
   "id": "ffc84ed1-1829-4f6b-8aaa-9205de2733ad",
   "metadata": {},
   "outputs": [
    {
     "name": "stderr",
     "output_type": "stream",
     "text": [
      "Computing feature importance via permutation shuffling for 4 features using 264 rows with 5 shuffle sets...\n",
      "\t0.37s\t= Expected runtime (0.07s per shuffle set)\n",
      "\t0.12s\t= Actual runtime (Completed 5 of 5 shuffle sets)\n"
     ]
    },
    {
     "data": {
      "text/html": [
       "<div>\n",
       "<style scoped>\n",
       "    .dataframe tbody tr th:only-of-type {\n",
       "        vertical-align: middle;\n",
       "    }\n",
       "\n",
       "    .dataframe tbody tr th {\n",
       "        vertical-align: top;\n",
       "    }\n",
       "\n",
       "    .dataframe thead th {\n",
       "        text-align: right;\n",
       "    }\n",
       "</style>\n",
       "<table border=\"1\" class=\"dataframe\">\n",
       "  <thead>\n",
       "    <tr style=\"text-align: right;\">\n",
       "      <th></th>\n",
       "      <th>importance</th>\n",
       "      <th>stddev</th>\n",
       "      <th>p_value</th>\n",
       "      <th>n</th>\n",
       "      <th>p99_high</th>\n",
       "      <th>p99_low</th>\n",
       "    </tr>\n",
       "  </thead>\n",
       "  <tbody>\n",
       "    <tr>\n",
       "      <th>PayerId</th>\n",
       "      <td>0.0</td>\n",
       "      <td>0.0</td>\n",
       "      <td>0.5</td>\n",
       "      <td>5</td>\n",
       "      <td>0.0</td>\n",
       "      <td>0.0</td>\n",
       "    </tr>\n",
       "    <tr>\n",
       "      <th>ReceiverId</th>\n",
       "      <td>0.0</td>\n",
       "      <td>0.0</td>\n",
       "      <td>0.5</td>\n",
       "      <td>5</td>\n",
       "      <td>0.0</td>\n",
       "      <td>0.0</td>\n",
       "    </tr>\n",
       "    <tr>\n",
       "      <th>days</th>\n",
       "      <td>0.0</td>\n",
       "      <td>0.0</td>\n",
       "      <td>0.5</td>\n",
       "      <td>5</td>\n",
       "      <td>0.0</td>\n",
       "      <td>0.0</td>\n",
       "    </tr>\n",
       "    <tr>\n",
       "      <th>amount</th>\n",
       "      <td>0.0</td>\n",
       "      <td>0.0</td>\n",
       "      <td>0.5</td>\n",
       "      <td>5</td>\n",
       "      <td>0.0</td>\n",
       "      <td>0.0</td>\n",
       "    </tr>\n",
       "  </tbody>\n",
       "</table>\n",
       "</div>"
      ],
      "text/plain": [
       "            importance  stddev  p_value  n  p99_high  p99_low\n",
       "PayerId            0.0     0.0      0.5  5       0.0      0.0\n",
       "ReceiverId         0.0     0.0      0.5  5       0.0      0.0\n",
       "days               0.0     0.0      0.5  5       0.0      0.0\n",
       "amount             0.0     0.0      0.5  5       0.0      0.0"
      ]
     },
     "execution_count": 24,
     "metadata": {},
     "output_type": "execute_result"
    }
   ],
   "source": [
    "f_importance = predictor.feature_importance(df_test)\n",
    "f_importance.head()"
   ]
  }
 ],
 "metadata": {
  "kernelspec": {
   "display_name": "Python 3 (ipykernel)",
   "language": "python",
   "name": "python3"
  },
  "language_info": {
   "codemirror_mode": {
    "name": "ipython",
    "version": 3
   },
   "file_extension": ".py",
   "mimetype": "text/x-python",
   "name": "python",
   "nbconvert_exporter": "python",
   "pygments_lexer": "ipython3",
   "version": "3.9.7"
  }
 },
 "nbformat": 4,
 "nbformat_minor": 5
}
