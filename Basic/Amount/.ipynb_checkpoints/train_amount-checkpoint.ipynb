{
 "cells": [
  {
   "cell_type": "markdown",
   "id": "40da4d57-1233-4e0e-ad77-040704b3957a",
   "metadata": {},
   "source": [
    "<div align=\"center\">\n",
    "    <img src='../../xepimage.png' style='height:100px;'>\n",
    "</div>\n",
    "\n",
    "\n",
    "<center><h1 style='font-size:25px'>Model</h1></center>\n",
    "\n",
    "---\n",
    "\n",
    "**Autor: Guillermo J. Bergues**\n",
    "\n",
    "* PayerId = Id de la empresa que va a realizar el pago\n",
    "* ReceiverId\n",
    "* invoiceId\n",
    "* paidAt\n",
    "* amount = Monto de la factura pagada\n",
    "* amountfinancedByXepelin =  Monto de la factura que Xepelin financió al pagador para realizar la transacción\n",
    "* Status =  Estado de cada transacción Pagada, Procesando, Fallida.\n",
    "\n",
    "\n",
    "El objetivo del presente notebook es realizar un Autogluon para el modelo de Xepelin"
   ]
  },
  {
   "cell_type": "code",
   "execution_count": 68,
   "id": "abb89766-c3a0-4700-a603-85abbcef55bd",
   "metadata": {},
   "outputs": [
    {
     "name": "stdout",
     "output_type": "stream",
     "text": [
      "\u001b[33mWARNING: autogluon-core 0.5.0 does not provide the extra 'ray-tune'\u001b[0m\n",
      "\u001b[33mWARNING: Running pip as the 'root' user can result in broken permissions and conflicting behaviour with the system package manager. It is recommended to use a virtual environment instead: https://pip.pypa.io/warnings/venv\u001b[0m\n"
     ]
    }
   ],
   "source": [
    "! /opt/miniconda3/envs/myenv/bin/pip install --no-cache-dir autogluon -q"
   ]
  },
  {
   "cell_type": "code",
   "execution_count": 69,
   "id": "f1bde28a-5afa-45a6-97a0-38b680f0e003",
   "metadata": {},
   "outputs": [],
   "source": [
    "import pandas as pd \n",
    "import numpy as np\n",
    "\n",
    "from autogluon.tabular import TabularPredictor, TabularDataset\n",
    "\n",
    "import seaborn as sns\n",
    "import matplotlib.pyplot as plt\n",
    "%matplotlib inline"
   ]
  },
  {
   "cell_type": "code",
   "execution_count": 70,
   "id": "df059cb8-14bb-49f6-aec9-cc75a35184be",
   "metadata": {},
   "outputs": [],
   "source": [
    "df = pd.read_csv('../../Data/ds_basic.csv')"
   ]
  },
  {
   "cell_type": "code",
   "execution_count": 71,
   "id": "618161b3-a434-42d8-9350-7bb82c0bbc00",
   "metadata": {},
   "outputs": [
    {
     "data": {
      "text/html": [
       "<div>\n",
       "<style scoped>\n",
       "    .dataframe tbody tr th:only-of-type {\n",
       "        vertical-align: middle;\n",
       "    }\n",
       "\n",
       "    .dataframe tbody tr th {\n",
       "        vertical-align: top;\n",
       "    }\n",
       "\n",
       "    .dataframe thead th {\n",
       "        text-align: right;\n",
       "    }\n",
       "</style>\n",
       "<table border=\"1\" class=\"dataframe\">\n",
       "  <thead>\n",
       "    <tr style=\"text-align: right;\">\n",
       "      <th></th>\n",
       "      <th>PayerId</th>\n",
       "      <th>ReceiverId</th>\n",
       "      <th>days</th>\n",
       "      <th>amount</th>\n",
       "      <th>amountfinancedByXepelin</th>\n",
       "    </tr>\n",
       "  </thead>\n",
       "  <tbody>\n",
       "    <tr>\n",
       "      <th>0</th>\n",
       "      <td>151</td>\n",
       "      <td>19</td>\n",
       "      <td>0</td>\n",
       "      <td>1490.46</td>\n",
       "      <td>0.00</td>\n",
       "    </tr>\n",
       "    <tr>\n",
       "      <th>1</th>\n",
       "      <td>126</td>\n",
       "      <td>18</td>\n",
       "      <td>0</td>\n",
       "      <td>920.26</td>\n",
       "      <td>0.00</td>\n",
       "    </tr>\n",
       "    <tr>\n",
       "      <th>2</th>\n",
       "      <td>114</td>\n",
       "      <td>37</td>\n",
       "      <td>7</td>\n",
       "      <td>4035.26</td>\n",
       "      <td>0.00</td>\n",
       "    </tr>\n",
       "    <tr>\n",
       "      <th>3</th>\n",
       "      <td>122</td>\n",
       "      <td>12</td>\n",
       "      <td>10</td>\n",
       "      <td>27979.20</td>\n",
       "      <td>10520.15</td>\n",
       "    </tr>\n",
       "    <tr>\n",
       "      <th>4</th>\n",
       "      <td>55</td>\n",
       "      <td>34</td>\n",
       "      <td>22</td>\n",
       "      <td>1477.46</td>\n",
       "      <td>0.00</td>\n",
       "    </tr>\n",
       "  </tbody>\n",
       "</table>\n",
       "</div>"
      ],
      "text/plain": [
       "   PayerId  ReceiverId  days    amount  amountfinancedByXepelin\n",
       "0      151          19     0   1490.46                     0.00\n",
       "1      126          18     0    920.26                     0.00\n",
       "2      114          37     7   4035.26                     0.00\n",
       "3      122          12    10  27979.20                 10520.15\n",
       "4       55          34    22   1477.46                     0.00"
      ]
     },
     "execution_count": 71,
     "metadata": {},
     "output_type": "execute_result"
    }
   ],
   "source": [
    "df.head()"
   ]
  },
  {
   "cell_type": "code",
   "execution_count": 72,
   "id": "b2685814-0f2a-4b45-8894-09e20c7b96cd",
   "metadata": {},
   "outputs": [
    {
     "data": {
      "text/plain": [
       "<AxesSubplot:>"
      ]
     },
     "execution_count": 72,
     "metadata": {},
     "output_type": "execute_result"
    },
    {
     "data": {
      "image/png": "[encoded data removed]",
      "text/plain": [
       "<Figure size 432x288 with 1 Axes>"
      ]
     },
     "metadata": {
      "needs_background": "light"
     },
     "output_type": "display_data"
    }
   ],
   "source": [
    "df['days'].hist()"
   ]
  },
  {
   "cell_type": "code",
   "execution_count": 73,
   "id": "aca93c1b-0799-4665-b04b-ee2e2da5a05e",
   "metadata": {},
   "outputs": [],
   "source": [
    "save_path = \"agModels\""
   ]
  },
  {
   "cell_type": "code",
   "execution_count": 74,
   "id": "cadc57c4-5a1e-438f-b05d-b4a9424a75c4",
   "metadata": {},
   "outputs": [],
   "source": [
    "df_train = df[df[\"days\"] < 180]"
   ]
  },
  {
   "cell_type": "code",
   "execution_count": 75,
   "id": "3470f9a0-5f6a-41bc-a442-e7a530fbb0d0",
   "metadata": {},
   "outputs": [],
   "source": [
    "label = 'amount'"
   ]
  },
  {
   "cell_type": "code",
   "execution_count": 76,
   "id": "590dee7b-4bab-4b59-baa4-8ea820fe6f9d",
   "metadata": {},
   "outputs": [],
   "source": [
    "df_train = TabularDataset(df)"
   ]
  },
  {
   "cell_type": "code",
   "execution_count": 77,
   "id": "31181acd-301b-4541-ba0c-c344010a6fef",
   "metadata": {},
   "outputs": [
    {
     "name": "stderr",
     "output_type": "stream",
     "text": [
      "Warning: path already exists! This predictor may overwrite an existing predictor! path=\"agModels\"\n",
      "Beginning AutoGluon training ... Time limit = 18000s\n",
      "AutoGluon will save models to \"agModels/\"\n",
      "AutoGluon Version:  0.5.0\n",
      "Python Version:     3.8.10\n",
      "Operating System:   Linux\n",
      "Train Data Rows:    892\n",
      "Train Data Columns: 4\n",
      "Label Column: amount\n",
      "Preprocessing data ...\n",
      "AutoGluon infers your prediction problem is: 'regression' (because dtype of label-column == float and many unique label-values observed).\n",
      "\tLabel info (max, min, mean, stddev): (3370741.92, 58.16, 30752.25663, 154172.74947)\n",
      "\tIf 'regression' is not the correct problem_type, please manually specify the problem_type parameter during predictor init (You may specify problem_type as one of: ['binary', 'multiclass', 'regression'])\n",
      "Using Feature Generators to preprocess the data ...\n",
      "Fitting AutoMLPipelineFeatureGenerator...\n",
      "\tAvailable Memory:                    64873.51 MB\n",
      "\tTrain Data (Original)  Memory Usage: 0.03 MB (0.0% of available memory)\n",
      "\tInferring data type of each feature based on column values. Set feature_metadata_in to manually specify special dtypes of the features.\n",
      "\tStage 1 Generators:\n",
      "\t\tFitting AsTypeFeatureGenerator...\n",
      "\tStage 2 Generators:\n",
      "\t\tFitting FillNaFeatureGenerator...\n",
      "\tStage 3 Generators:\n",
      "\t\tFitting IdentityFeatureGenerator...\n",
      "\tStage 4 Generators:\n",
      "\t\tFitting DropUniqueFeatureGenerator...\n",
      "\tTypes of features in original data (raw dtype, special dtypes):\n",
      "\t\t('float', []) : 1 | ['amountfinancedByXepelin']\n",
      "\t\t('int', [])   : 3 | ['PayerId', 'ReceiverId', 'days']\n",
      "\tTypes of features in processed data (raw dtype, special dtypes):\n",
      "\t\t('float', []) : 1 | ['amountfinancedByXepelin']\n",
      "\t\t('int', [])   : 3 | ['PayerId', 'ReceiverId', 'days']\n",
      "\t0.0s = Fit runtime\n",
      "\t4 features in original data used to generate 4 features in processed data.\n",
      "\tTrain Data (Processed) Memory Usage: 0.03 MB (0.0% of available memory)\n",
      "Data preprocessing and feature engineering runtime = 0.04s ...\n",
      "AutoGluon will gauge predictive performance using evaluation metric: 'median_absolute_error'\n",
      "\tThis metric's sign has been flipped to adhere to being higher_is_better. The metric score can be multiplied by -1 to get the metric value.\n",
      "\tTo change this, specify the eval_metric parameter of Predictor()\n",
      "Automatically generating train/validation split with holdout_frac=0.2, Train Rows: 713, Val Rows: 179\n",
      "Fitting 11 L1 models ...\n",
      "Fitting model: KNeighborsUnif ... Training model for up to 17999.96s of the 17999.96s of remaining time.\n",
      "\t-970.64\t = Validation score   (-median_absolute_error)\n",
      "\t0.01s\t = Training   runtime\n",
      "\t0.01s\t = Validation runtime\n",
      "Fitting model: KNeighborsDist ... Training model for up to 17999.9s of the 17999.89s of remaining time.\n",
      "\t-928.1324\t = Validation score   (-median_absolute_error)\n",
      "\t0.0s\t = Training   runtime\n",
      "\t0.01s\t = Validation runtime\n",
      "Fitting model: LightGBMXT ... Training model for up to 17999.84s of the 17999.84s of remaining time.\n",
      "\t-2496.6072\t = Validation score   (-median_absolute_error)\n",
      "\t0.44s\t = Training   runtime\n",
      "\t0.0s\t = Validation runtime\n",
      "Fitting model: LightGBM ... Training model for up to 17999.34s of the 17999.34s of remaining time.\n",
      "\t-2699.0625\t = Validation score   (-median_absolute_error)\n",
      "\t0.51s\t = Training   runtime\n",
      "\t0.0s\t = Validation runtime\n",
      "Fitting model: RandomForestMSE ... Training model for up to 17998.74s of the 17998.74s of remaining time.\n",
      "\t-1487.3218\t = Validation score   (-median_absolute_error)\n",
      "\t0.63s\t = Training   runtime\n",
      "\t0.07s\t = Validation runtime\n",
      "Fitting model: CatBoost ... Training model for up to 17997.84s of the 17997.84s of remaining time.\n",
      "\t-2726.6209\t = Validation score   (-median_absolute_error)\n",
      "\t1.95s\t = Training   runtime\n",
      "\t0.0s\t = Validation runtime\n",
      "Fitting model: ExtraTreesMSE ... Training model for up to 17995.81s of the 17995.8s of remaining time.\n",
      "\t-1808.537\t = Validation score   (-median_absolute_error)\n",
      "\t0.62s\t = Training   runtime\n",
      "\t0.07s\t = Validation runtime\n",
      "Fitting model: NeuralNetFastAI ... Training model for up to 17994.82s of the 17994.81s of remaining time.\n",
      "\t-8568.2222\t = Validation score   (-median_absolute_error)\n",
      "\t0.82s\t = Training   runtime\n",
      "\t0.01s\t = Validation runtime\n",
      "Fitting model: XGBoost ... Training model for up to 17993.9s of the 17993.9s of remaining time.\n",
      "\t-303.9164\t = Validation score   (-median_absolute_error)\n",
      "\t0.4s\t = Training   runtime\n",
      "\t0.01s\t = Validation runtime\n",
      "Fitting model: NeuralNetTorch ... Training model for up to 17993.41s of the 17993.41s of remaining time.\n",
      "\t-1274.9809\t = Validation score   (-median_absolute_error)\n",
      "\t1.44s\t = Training   runtime\n",
      "\t0.01s\t = Validation runtime\n",
      "Fitting model: LightGBMLarge ... Training model for up to 17991.88s of the 17991.87s of remaining time.\n",
      "\t-1865.162\t = Validation score   (-median_absolute_error)\n",
      "\t0.91s\t = Training   runtime\n",
      "\t0.0s\t = Validation runtime\n",
      "Fitting model: WeightedEnsemble_L2 ... Training model for up to 1800.0s of the 17990.38s of remaining time.\n",
      "\t-279.6964\t = Validation score   (-median_absolute_error)\n",
      "\t0.32s\t = Training   runtime\n",
      "\t0.0s\t = Validation runtime\n",
      "AutoGluon training complete, total runtime = 10.17s ... Best model: \"WeightedEnsemble_L2\"\n",
      "TabularPredictor saved. To load, use: predictor = TabularPredictor.load(\"agModels/\")\n"
     ]
    }
   ],
   "source": [
    "predictor = TabularPredictor(label=label, path=save_path, eval_metric='median_absolute_error').fit(df_train, time_limit=18000)"
   ]
  },
  {
   "cell_type": "code",
   "execution_count": 78,
   "id": "d7327254-a7dc-44c6-b141-56088cf9fbb9",
   "metadata": {},
   "outputs": [],
   "source": [
    "test_data = df[df[\"days\"] >= 180]"
   ]
  },
  {
   "cell_type": "code",
   "execution_count": 79,
   "id": "6ce7a879-83e2-413b-80b8-10a4c5e3e728",
   "metadata": {},
   "outputs": [],
   "source": [
    "df_test = TabularDataset(test_data)"
   ]
  },
  {
   "cell_type": "code",
   "execution_count": 80,
   "id": "ca35a04b-8469-42f1-88ab-2bab4a69e68b",
   "metadata": {},
   "outputs": [],
   "source": [
    "# values to predict\n",
    "y_test = df_test[label]  "
   ]
  },
  {
   "cell_type": "code",
   "execution_count": 81,
   "id": "5658d422-bffa-4e03-b423-11c79fd3d79a",
   "metadata": {},
   "outputs": [],
   "source": [
    "# delete label column to prove we're not cheating\n",
    "test_data_nolab = df_test.drop(columns=[label])  "
   ]
  },
  {
   "cell_type": "code",
   "execution_count": 82,
   "id": "b9c12c0c-6b65-489c-bd05-56f3e6ff955a",
   "metadata": {},
   "outputs": [
    {
     "data": {
      "text/html": [
       "<div>\n",
       "<style scoped>\n",
       "    .dataframe tbody tr th:only-of-type {\n",
       "        vertical-align: middle;\n",
       "    }\n",
       "\n",
       "    .dataframe tbody tr th {\n",
       "        vertical-align: top;\n",
       "    }\n",
       "\n",
       "    .dataframe thead th {\n",
       "        text-align: right;\n",
       "    }\n",
       "</style>\n",
       "<table border=\"1\" class=\"dataframe\">\n",
       "  <thead>\n",
       "    <tr style=\"text-align: right;\">\n",
       "      <th></th>\n",
       "      <th>PayerId</th>\n",
       "      <th>ReceiverId</th>\n",
       "      <th>days</th>\n",
       "      <th>amountfinancedByXepelin</th>\n",
       "    </tr>\n",
       "  </thead>\n",
       "  <tbody>\n",
       "    <tr>\n",
       "      <th>628</th>\n",
       "      <td>174</td>\n",
       "      <td>82</td>\n",
       "      <td>182</td>\n",
       "      <td>0.0</td>\n",
       "    </tr>\n",
       "    <tr>\n",
       "      <th>629</th>\n",
       "      <td>187</td>\n",
       "      <td>55</td>\n",
       "      <td>182</td>\n",
       "      <td>0.0</td>\n",
       "    </tr>\n",
       "    <tr>\n",
       "      <th>630</th>\n",
       "      <td>173</td>\n",
       "      <td>35</td>\n",
       "      <td>183</td>\n",
       "      <td>5220.0</td>\n",
       "    </tr>\n",
       "    <tr>\n",
       "      <th>631</th>\n",
       "      <td>110</td>\n",
       "      <td>46</td>\n",
       "      <td>183</td>\n",
       "      <td>0.0</td>\n",
       "    </tr>\n",
       "    <tr>\n",
       "      <th>632</th>\n",
       "      <td>199</td>\n",
       "      <td>46</td>\n",
       "      <td>183</td>\n",
       "      <td>0.0</td>\n",
       "    </tr>\n",
       "  </tbody>\n",
       "</table>\n",
       "</div>"
      ],
      "text/plain": [
       "     PayerId  ReceiverId  days  amountfinancedByXepelin\n",
       "628      174          82   182                      0.0\n",
       "629      187          55   182                      0.0\n",
       "630      173          35   183                   5220.0\n",
       "631      110          46   183                      0.0\n",
       "632      199          46   183                      0.0"
      ]
     },
     "execution_count": 82,
     "metadata": {},
     "output_type": "execute_result"
    }
   ],
   "source": [
    "test_data_nolab.head()"
   ]
  },
  {
   "cell_type": "code",
   "execution_count": 83,
   "id": "c8231538-266e-47b0-9838-142e71672b96",
   "metadata": {},
   "outputs": [],
   "source": [
    "predictor = TabularPredictor.load(save_path)  "
   ]
  },
  {
   "cell_type": "code",
   "execution_count": 84,
   "id": "2e319bab-1554-429e-a7f3-7a1fbd2c70ba",
   "metadata": {},
   "outputs": [
    {
     "name": "stdout",
     "output_type": "stream",
     "text": [
      "Predictions:  \n",
      " 628     1345.411621\n",
      "629     1353.427490\n",
      "630    16723.160156\n",
      "631     1358.029785\n",
      "632     1368.018555\n",
      "           ...     \n",
      "887     1385.984131\n",
      "888     1495.884399\n",
      "889     1388.448975\n",
      "890     1494.916138\n",
      "891     1449.615479\n",
      "Name: amount, Length: 264, dtype: float32\n"
     ]
    }
   ],
   "source": [
    "y_pred = predictor.predict(test_data_nolab)\n",
    "print(\"Predictions:  \\n\", y_pred)"
   ]
  },
  {
   "cell_type": "code",
   "execution_count": 85,
   "id": "a40d50cb-361a-47b6-9ab8-6a0a1ba36353",
   "metadata": {},
   "outputs": [
    {
     "name": "stderr",
     "output_type": "stream",
     "text": [
      "Evaluation: median_absolute_error on test data: -240.9827856445312\n",
      "\tNote: Scores are always higher_is_better. This metric score can be multiplied by -1 to get the metric value.\n",
      "Evaluations on test data:\n",
      "{\n",
      "    \"median_absolute_error\": -240.9827856445312,\n",
      "    \"root_mean_squared_error\": -34120.6207372845,\n",
      "    \"mean_squared_error\": -1164216759.4976094,\n",
      "    \"mean_absolute_error\": -9078.382825761275,\n",
      "    \"r2\": 0.6595985099537234,\n",
      "    \"pearsonr\": 0.9336449372247447\n",
      "}\n"
     ]
    }
   ],
   "source": [
    "perf = predictor.evaluate_predictions(y_true=y_test, y_pred=y_pred, auxiliary_metrics=True)"
   ]
  },
  {
   "cell_type": "code",
   "execution_count": 86,
   "id": "0d15a516-ee8a-4abd-8964-559bca28fa43",
   "metadata": {},
   "outputs": [
    {
     "data": {
      "text/html": [
       "<div>\n",
       "<style scoped>\n",
       "    .dataframe tbody tr th:only-of-type {\n",
       "        vertical-align: middle;\n",
       "    }\n",
       "\n",
       "    .dataframe tbody tr th {\n",
       "        vertical-align: top;\n",
       "    }\n",
       "\n",
       "    .dataframe thead th {\n",
       "        text-align: right;\n",
       "    }\n",
       "</style>\n",
       "<table border=\"1\" class=\"dataframe\">\n",
       "  <thead>\n",
       "    <tr style=\"text-align: right;\">\n",
       "      <th></th>\n",
       "      <th>test</th>\n",
       "      <th>prediction</th>\n",
       "      <th>residual</th>\n",
       "    </tr>\n",
       "  </thead>\n",
       "  <tbody>\n",
       "    <tr>\n",
       "      <th>628</th>\n",
       "      <td>1792.46</td>\n",
       "      <td>1345.411621</td>\n",
       "      <td>447.048379</td>\n",
       "    </tr>\n",
       "    <tr>\n",
       "      <th>629</th>\n",
       "      <td>725.46</td>\n",
       "      <td>1353.427490</td>\n",
       "      <td>-627.967490</td>\n",
       "    </tr>\n",
       "    <tr>\n",
       "      <th>630</th>\n",
       "      <td>5220.00</td>\n",
       "      <td>16723.160156</td>\n",
       "      <td>-11503.160156</td>\n",
       "    </tr>\n",
       "    <tr>\n",
       "      <th>631</th>\n",
       "      <td>4035.06</td>\n",
       "      <td>1358.029785</td>\n",
       "      <td>2677.030215</td>\n",
       "    </tr>\n",
       "    <tr>\n",
       "      <th>632</th>\n",
       "      <td>1490.26</td>\n",
       "      <td>1368.018555</td>\n",
       "      <td>122.241445</td>\n",
       "    </tr>\n",
       "  </tbody>\n",
       "</table>\n",
       "</div>"
      ],
      "text/plain": [
       "        test    prediction      residual\n",
       "628  1792.46   1345.411621    447.048379\n",
       "629   725.46   1353.427490   -627.967490\n",
       "630  5220.00  16723.160156 -11503.160156\n",
       "631  4035.06   1358.029785   2677.030215\n",
       "632  1490.26   1368.018555    122.241445"
      ]
     },
     "execution_count": 86,
     "metadata": {},
     "output_type": "execute_result"
    }
   ],
   "source": [
    "# Predictions and test data set\n",
    "df_test_pred = pd.concat([y_test, y_pred], axis=1)\n",
    "df_test_pred.columns = ['test', 'prediction']\n",
    "df_test_pred['residual'] = df_test_pred['test'] - df_test_pred['prediction']\n",
    "df_test_pred.head()"
   ]
  },
  {
   "cell_type": "code",
   "execution_count": 87,
   "id": "72c1bf6e-ad0b-47ae-91a4-8a27ecfaa837",
   "metadata": {},
   "outputs": [
    {
     "data": {
      "text/plain": [
       "Text(0, 0.5, 'Predicted Y')"
      ]
     },
     "execution_count": 87,
     "metadata": {},
     "output_type": "execute_result"
    },
    {
     "data": {
      "image/png": "[encoded data removed]",
      "text/plain": [
       "<Figure size 432x288 with 1 Axes>"
      ]
     },
     "metadata": {
      "needs_background": "light"
     },
     "output_type": "display_data"
    }
   ],
   "source": [
    "plt.scatter(y_test, y_pred)\n",
    "plt.xlabel('Y Test')\n",
    "plt.ylabel('Predicted Y')"
   ]
  },
  {
   "cell_type": "code",
   "execution_count": 88,
   "id": "b7625a89-18c2-4c5d-b523-7c2b12be1cec",
   "metadata": {},
   "outputs": [
    {
     "data": {
      "text/html": [
       "<div>\n",
       "<style scoped>\n",
       "    .dataframe tbody tr th:only-of-type {\n",
       "        vertical-align: middle;\n",
       "    }\n",
       "\n",
       "    .dataframe tbody tr th {\n",
       "        vertical-align: top;\n",
       "    }\n",
       "\n",
       "    .dataframe thead th {\n",
       "        text-align: right;\n",
       "    }\n",
       "</style>\n",
       "<table border=\"1\" class=\"dataframe\">\n",
       "  <thead>\n",
       "    <tr style=\"text-align: right;\">\n",
       "      <th></th>\n",
       "      <th>model</th>\n",
       "      <th>score_test</th>\n",
       "      <th>score_val</th>\n",
       "      <th>pred_time_test</th>\n",
       "      <th>pred_time_val</th>\n",
       "      <th>fit_time</th>\n",
       "      <th>pred_time_test_marginal</th>\n",
       "      <th>pred_time_val_marginal</th>\n",
       "      <th>fit_time_marginal</th>\n",
       "      <th>stack_level</th>\n",
       "      <th>can_infer</th>\n",
       "      <th>fit_order</th>\n",
       "    </tr>\n",
       "  </thead>\n",
       "  <tbody>\n",
       "    <tr>\n",
       "      <th>0</th>\n",
       "      <td>KNeighborsDist</td>\n",
       "      <td>-0.000039</td>\n",
       "      <td>-928.132383</td>\n",
       "      <td>0.009994</td>\n",
       "      <td>0.007730</td>\n",
       "      <td>0.004408</td>\n",
       "      <td>0.009994</td>\n",
       "      <td>0.007730</td>\n",
       "      <td>0.004408</td>\n",
       "      <td>1</td>\n",
       "      <td>True</td>\n",
       "      <td>2</td>\n",
       "    </tr>\n",
       "    <tr>\n",
       "      <th>1</th>\n",
       "      <td>XGBoost</td>\n",
       "      <td>-213.100000</td>\n",
       "      <td>-303.916406</td>\n",
       "      <td>0.011485</td>\n",
       "      <td>0.005719</td>\n",
       "      <td>0.396740</td>\n",
       "      <td>0.011485</td>\n",
       "      <td>0.005719</td>\n",
       "      <td>0.396740</td>\n",
       "      <td>1</td>\n",
       "      <td>True</td>\n",
       "      <td>9</td>\n",
       "    </tr>\n",
       "    <tr>\n",
       "      <th>2</th>\n",
       "      <td>WeightedEnsemble_L2</td>\n",
       "      <td>-240.982786</td>\n",
       "      <td>-279.696421</td>\n",
       "      <td>0.137873</td>\n",
       "      <td>0.082003</td>\n",
       "      <td>2.786013</td>\n",
       "      <td>0.005923</td>\n",
       "      <td>0.000462</td>\n",
       "      <td>0.324980</td>\n",
       "      <td>2</td>\n",
       "      <td>True</td>\n",
       "      <td>12</td>\n",
       "    </tr>\n",
       "    <tr>\n",
       "      <th>3</th>\n",
       "      <td>RandomForestMSE</td>\n",
       "      <td>-347.979941</td>\n",
       "      <td>-1487.321836</td>\n",
       "      <td>0.090593</td>\n",
       "      <td>0.067880</td>\n",
       "      <td>0.629228</td>\n",
       "      <td>0.090593</td>\n",
       "      <td>0.067880</td>\n",
       "      <td>0.629228</td>\n",
       "      <td>1</td>\n",
       "      <td>True</td>\n",
       "      <td>5</td>\n",
       "    </tr>\n",
       "    <tr>\n",
       "      <th>4</th>\n",
       "      <td>ExtraTreesMSE</td>\n",
       "      <td>-397.341393</td>\n",
       "      <td>-1808.537021</td>\n",
       "      <td>0.088577</td>\n",
       "      <td>0.068355</td>\n",
       "      <td>0.616178</td>\n",
       "      <td>0.088577</td>\n",
       "      <td>0.068355</td>\n",
       "      <td>0.616178</td>\n",
       "      <td>1</td>\n",
       "      <td>True</td>\n",
       "      <td>7</td>\n",
       "    </tr>\n",
       "    <tr>\n",
       "      <th>5</th>\n",
       "      <td>KNeighborsUnif</td>\n",
       "      <td>-413.634006</td>\n",
       "      <td>-970.639980</td>\n",
       "      <td>0.009389</td>\n",
       "      <td>0.007810</td>\n",
       "      <td>0.006889</td>\n",
       "      <td>0.009389</td>\n",
       "      <td>0.007810</td>\n",
       "      <td>0.006889</td>\n",
       "      <td>1</td>\n",
       "      <td>True</td>\n",
       "      <td>1</td>\n",
       "    </tr>\n",
       "    <tr>\n",
       "      <th>6</th>\n",
       "      <td>LightGBMLarge</td>\n",
       "      <td>-939.204878</td>\n",
       "      <td>-1865.161973</td>\n",
       "      <td>0.014159</td>\n",
       "      <td>0.002388</td>\n",
       "      <td>0.910048</td>\n",
       "      <td>0.014159</td>\n",
       "      <td>0.002388</td>\n",
       "      <td>0.910048</td>\n",
       "      <td>1</td>\n",
       "      <td>True</td>\n",
       "      <td>11</td>\n",
       "    </tr>\n",
       "    <tr>\n",
       "      <th>7</th>\n",
       "      <td>LightGBM</td>\n",
       "      <td>-1099.211484</td>\n",
       "      <td>-2699.062510</td>\n",
       "      <td>0.006614</td>\n",
       "      <td>0.001894</td>\n",
       "      <td>0.511375</td>\n",
       "      <td>0.006614</td>\n",
       "      <td>0.001894</td>\n",
       "      <td>0.511375</td>\n",
       "      <td>1</td>\n",
       "      <td>True</td>\n",
       "      <td>4</td>\n",
       "    </tr>\n",
       "    <tr>\n",
       "      <th>8</th>\n",
       "      <td>CatBoost</td>\n",
       "      <td>-1396.896728</td>\n",
       "      <td>-2726.620908</td>\n",
       "      <td>0.005319</td>\n",
       "      <td>0.001758</td>\n",
       "      <td>1.950213</td>\n",
       "      <td>0.005319</td>\n",
       "      <td>0.001758</td>\n",
       "      <td>1.950213</td>\n",
       "      <td>1</td>\n",
       "      <td>True</td>\n",
       "      <td>6</td>\n",
       "    </tr>\n",
       "    <tr>\n",
       "      <th>9</th>\n",
       "      <td>LightGBMXT</td>\n",
       "      <td>-1474.677053</td>\n",
       "      <td>-2496.607156</td>\n",
       "      <td>0.004991</td>\n",
       "      <td>0.001763</td>\n",
       "      <td>0.439171</td>\n",
       "      <td>0.004991</td>\n",
       "      <td>0.001763</td>\n",
       "      <td>0.439171</td>\n",
       "      <td>1</td>\n",
       "      <td>True</td>\n",
       "      <td>3</td>\n",
       "    </tr>\n",
       "    <tr>\n",
       "      <th>10</th>\n",
       "      <td>NeuralNetTorch</td>\n",
       "      <td>-1517.130957</td>\n",
       "      <td>-1274.980933</td>\n",
       "      <td>0.029872</td>\n",
       "      <td>0.007942</td>\n",
       "      <td>1.435065</td>\n",
       "      <td>0.029872</td>\n",
       "      <td>0.007942</td>\n",
       "      <td>1.435065</td>\n",
       "      <td>1</td>\n",
       "      <td>True</td>\n",
       "      <td>10</td>\n",
       "    </tr>\n",
       "    <tr>\n",
       "      <th>11</th>\n",
       "      <td>NeuralNetFastAI</td>\n",
       "      <td>-8278.972207</td>\n",
       "      <td>-8568.222227</td>\n",
       "      <td>0.029150</td>\n",
       "      <td>0.008855</td>\n",
       "      <td>0.821113</td>\n",
       "      <td>0.029150</td>\n",
       "      <td>0.008855</td>\n",
       "      <td>0.821113</td>\n",
       "      <td>1</td>\n",
       "      <td>True</td>\n",
       "      <td>8</td>\n",
       "    </tr>\n",
       "  </tbody>\n",
       "</table>\n",
       "</div>"
      ],
      "text/plain": [
       "                  model   score_test    score_val  pred_time_test  \\\n",
       "0        KNeighborsDist    -0.000039  -928.132383        0.009994   \n",
       "1               XGBoost  -213.100000  -303.916406        0.011485   \n",
       "2   WeightedEnsemble_L2  -240.982786  -279.696421        0.137873   \n",
       "3       RandomForestMSE  -347.979941 -1487.321836        0.090593   \n",
       "4         ExtraTreesMSE  -397.341393 -1808.537021        0.088577   \n",
       "5        KNeighborsUnif  -413.634006  -970.639980        0.009389   \n",
       "6         LightGBMLarge  -939.204878 -1865.161973        0.014159   \n",
       "7              LightGBM -1099.211484 -2699.062510        0.006614   \n",
       "8              CatBoost -1396.896728 -2726.620908        0.005319   \n",
       "9            LightGBMXT -1474.677053 -2496.607156        0.004991   \n",
       "10       NeuralNetTorch -1517.130957 -1274.980933        0.029872   \n",
       "11      NeuralNetFastAI -8278.972207 -8568.222227        0.029150   \n",
       "\n",
       "    pred_time_val  fit_time  pred_time_test_marginal  pred_time_val_marginal  \\\n",
       "0        0.007730  0.004408                 0.009994                0.007730   \n",
       "1        0.005719  0.396740                 0.011485                0.005719   \n",
       "2        0.082003  2.786013                 0.005923                0.000462   \n",
       "3        0.067880  0.629228                 0.090593                0.067880   \n",
       "4        0.068355  0.616178                 0.088577                0.068355   \n",
       "5        0.007810  0.006889                 0.009389                0.007810   \n",
       "6        0.002388  0.910048                 0.014159                0.002388   \n",
       "7        0.001894  0.511375                 0.006614                0.001894   \n",
       "8        0.001758  1.950213                 0.005319                0.001758   \n",
       "9        0.001763  0.439171                 0.004991                0.001763   \n",
       "10       0.007942  1.435065                 0.029872                0.007942   \n",
       "11       0.008855  0.821113                 0.029150                0.008855   \n",
       "\n",
       "    fit_time_marginal  stack_level  can_infer  fit_order  \n",
       "0            0.004408            1       True          2  \n",
       "1            0.396740            1       True          9  \n",
       "2            0.324980            2       True         12  \n",
       "3            0.629228            1       True          5  \n",
       "4            0.616178            1       True          7  \n",
       "5            0.006889            1       True          1  \n",
       "6            0.910048            1       True         11  \n",
       "7            0.511375            1       True          4  \n",
       "8            1.950213            1       True          6  \n",
       "9            0.439171            1       True          3  \n",
       "10           1.435065            1       True         10  \n",
       "11           0.821113            1       True          8  "
      ]
     },
     "execution_count": 88,
     "metadata": {},
     "output_type": "execute_result"
    }
   ],
   "source": [
    "predictor.leaderboard(test_data, silent=True)"
   ]
  },
  {
   "cell_type": "code",
   "execution_count": 89,
   "id": "3aeca123-7665-4b1c-8778-6a73547a164c",
   "metadata": {},
   "outputs": [
    {
     "name": "stdout",
     "output_type": "stream",
     "text": [
      "MAE: 9078.382825761275\n",
      "MSE: 1164216759.4976094\n",
      "RMSE: 34120.6207372845\n"
     ]
    }
   ],
   "source": [
    "# Metrics\n",
    "from sklearn import metrics\n",
    "\n",
    "print('MAE:', metrics.mean_absolute_error(y_test, y_pred))\n",
    "print('MSE:', metrics.mean_squared_error(y_test, y_pred))\n",
    "print('RMSE:', np.sqrt(metrics.mean_squared_error(y_test, y_pred)))"
   ]
  },
  {
   "cell_type": "code",
   "execution_count": 90,
   "id": "d82d3c4c-6750-4173-b337-2ea877ec6a03",
   "metadata": {},
   "outputs": [
    {
     "data": {
      "image/png": "[encoded data removed]",
      "text/plain": [
       "<Figure size 432x288 with 1 Axes>"
      ]
     },
     "metadata": {
      "needs_background": "light"
     },
     "output_type": "display_data"
    }
   ],
   "source": [
    "# Distributions of residuals\n",
    "sns.histplot(data=df_test_pred, x='residual', kde=True, bins=30);"
   ]
  },
  {
   "cell_type": "code",
   "execution_count": 91,
   "id": "ffc84ed1-1829-4f6b-8aaa-9205de2733ad",
   "metadata": {},
   "outputs": [
    {
     "name": "stderr",
     "output_type": "stream",
     "text": [
      "Computing feature importance via permutation shuffling for 4 features using 264 rows with 5 shuffle sets...\n",
      "\t3.49s\t= Expected runtime (0.7s per shuffle set)\n",
      "\t1.08s\t= Actual runtime (Completed 5 of 5 shuffle sets)\n"
     ]
    },
    {
     "data": {
      "text/html": [
       "<div>\n",
       "<style scoped>\n",
       "    .dataframe tbody tr th:only-of-type {\n",
       "        vertical-align: middle;\n",
       "    }\n",
       "\n",
       "    .dataframe tbody tr th {\n",
       "        vertical-align: top;\n",
       "    }\n",
       "\n",
       "    .dataframe thead th {\n",
       "        text-align: right;\n",
       "    }\n",
       "</style>\n",
       "<table border=\"1\" class=\"dataframe\">\n",
       "  <thead>\n",
       "    <tr style=\"text-align: right;\">\n",
       "      <th></th>\n",
       "      <th>importance</th>\n",
       "      <th>stddev</th>\n",
       "      <th>p_value</th>\n",
       "      <th>n</th>\n",
       "      <th>p99_high</th>\n",
       "      <th>p99_low</th>\n",
       "    </tr>\n",
       "  </thead>\n",
       "  <tbody>\n",
       "    <tr>\n",
       "      <th>amountfinancedByXepelin</th>\n",
       "      <td>313.283184</td>\n",
       "      <td>69.861420</td>\n",
       "      <td>0.000278</td>\n",
       "      <td>5</td>\n",
       "      <td>457.128813</td>\n",
       "      <td>169.437554</td>\n",
       "    </tr>\n",
       "    <tr>\n",
       "      <th>PayerId</th>\n",
       "      <td>15.770151</td>\n",
       "      <td>5.246517</td>\n",
       "      <td>0.001276</td>\n",
       "      <td>5</td>\n",
       "      <td>26.572802</td>\n",
       "      <td>4.967500</td>\n",
       "    </tr>\n",
       "    <tr>\n",
       "      <th>days</th>\n",
       "      <td>15.390007</td>\n",
       "      <td>13.615152</td>\n",
       "      <td>0.032416</td>\n",
       "      <td>5</td>\n",
       "      <td>43.423794</td>\n",
       "      <td>-12.643780</td>\n",
       "    </tr>\n",
       "    <tr>\n",
       "      <th>ReceiverId</th>\n",
       "      <td>1.778092</td>\n",
       "      <td>3.801028</td>\n",
       "      <td>0.177298</td>\n",
       "      <td>5</td>\n",
       "      <td>9.604461</td>\n",
       "      <td>-6.048277</td>\n",
       "    </tr>\n",
       "  </tbody>\n",
       "</table>\n",
       "</div>"
      ],
      "text/plain": [
       "                         importance     stddev   p_value  n    p99_high  \\\n",
       "amountfinancedByXepelin  313.283184  69.861420  0.000278  5  457.128813   \n",
       "PayerId                   15.770151   5.246517  0.001276  5   26.572802   \n",
       "days                      15.390007  13.615152  0.032416  5   43.423794   \n",
       "ReceiverId                 1.778092   3.801028  0.177298  5    9.604461   \n",
       "\n",
       "                            p99_low  \n",
       "amountfinancedByXepelin  169.437554  \n",
       "PayerId                    4.967500  \n",
       "days                     -12.643780  \n",
       "ReceiverId                -6.048277  "
      ]
     },
     "execution_count": 91,
     "metadata": {},
     "output_type": "execute_result"
    }
   ],
   "source": [
    "f_importance = predictor.feature_importance(df_test)\n",
    "f_importance.head()"
   ]
  },
  {
   "cell_type": "code",
   "execution_count": null,
   "id": "492f8e46-1bc9-443a-b7c2-af68302a5925",
   "metadata": {},
   "outputs": [],
   "source": []
  }
 ],
 "metadata": {
  "kernelspec": {
   "display_name": "Python 3 (ipykernel)",
   "language": "python",
   "name": "python3"
  },
  "language_info": {
   "codemirror_mode": {
    "name": "ipython",
    "version": 3
   },
   "file_extension": ".py",
   "mimetype": "text/x-python",
   "name": "python",
   "nbconvert_exporter": "python",
   "pygments_lexer": "ipython3",
   "version": "3.9.7"
  }
 },
 "nbformat": 4,
 "nbformat_minor": 5
}
