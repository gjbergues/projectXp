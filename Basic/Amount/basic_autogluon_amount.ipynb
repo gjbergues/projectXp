{
 "cells": [
  {
   "cell_type": "markdown",
   "id": "40da4d57-1233-4e0e-ad77-040704b3957a",
   "metadata": {},
   "source": [
    "<div align=\"center\">\n",
    "    <img src='../../xepimage.png' style='height:100px;'>\n",
    "</div>\n",
    "\n",
    "\n",
    "<center><h1 style='font-size:25px'>Model</h1></center>\n",
    "\n",
    "---\n",
    "\n",
    "**Autor: Guillermo J. Bergues**\n",
    "\n",
    "AutoluOn model for Xepelin project.\n",
    "\n",
    "Data = basic (first aproach)."
   ]
  },
  {
   "cell_type": "code",
   "execution_count": 1,
   "id": "abb89766-c3a0-4700-a603-85abbcef55bd",
   "metadata": {},
   "outputs": [
    {
     "name": "stdout",
     "output_type": "stream",
     "text": [
      "\u001b[33mWARNING: Running pip as the 'root' user can result in broken permissions and conflicting behaviour with the system package manager. It is recommended to use a virtual environment instead: https://pip.pypa.io/warnings/venv\u001b[0m\n"
     ]
    }
   ],
   "source": [
    "! /opt/miniconda3/envs/myenv/bin/pip install --no-cache-dir autogluon -q"
   ]
  },
  {
   "cell_type": "code",
   "execution_count": 2,
   "id": "f1bde28a-5afa-45a6-97a0-38b680f0e003",
   "metadata": {},
   "outputs": [
    {
     "name": "stderr",
     "output_type": "stream",
     "text": [
      "/opt/miniconda3/envs/myenv/lib/python3.8/site-packages/tqdm/auto.py:22: TqdmWarning: IProgress not found. Please update jupyter and ipywidgets. See https://ipywidgets.readthedocs.io/en/stable/user_install.html\n",
      "  from .autonotebook import tqdm as notebook_tqdm\n"
     ]
    }
   ],
   "source": [
    "import pandas as pd \n",
    "import numpy as np\n",
    "\n",
    "from autogluon.tabular import TabularPredictor, TabularDataset\n",
    "\n",
    "import seaborn as sns\n",
    "import matplotlib.pyplot as plt\n",
    "%matplotlib inline"
   ]
  },
  {
   "cell_type": "code",
   "execution_count": 3,
   "id": "df059cb8-14bb-49f6-aec9-cc75a35184be",
   "metadata": {},
   "outputs": [],
   "source": [
    "df = pd.read_csv('../../Data/ds_basic.csv')"
   ]
  },
  {
   "cell_type": "code",
   "execution_count": 4,
   "id": "618161b3-a434-42d8-9350-7bb82c0bbc00",
   "metadata": {},
   "outputs": [
    {
     "data": {
      "text/html": [
       "<div>\n",
       "<style scoped>\n",
       "    .dataframe tbody tr th:only-of-type {\n",
       "        vertical-align: middle;\n",
       "    }\n",
       "\n",
       "    .dataframe tbody tr th {\n",
       "        vertical-align: top;\n",
       "    }\n",
       "\n",
       "    .dataframe thead th {\n",
       "        text-align: right;\n",
       "    }\n",
       "</style>\n",
       "<table border=\"1\" class=\"dataframe\">\n",
       "  <thead>\n",
       "    <tr style=\"text-align: right;\">\n",
       "      <th></th>\n",
       "      <th>PayerId</th>\n",
       "      <th>ReceiverId</th>\n",
       "      <th>days</th>\n",
       "      <th>amount</th>\n",
       "      <th>amountfinancedByXepelin</th>\n",
       "    </tr>\n",
       "  </thead>\n",
       "  <tbody>\n",
       "    <tr>\n",
       "      <th>0</th>\n",
       "      <td>151</td>\n",
       "      <td>19</td>\n",
       "      <td>0</td>\n",
       "      <td>1490.46</td>\n",
       "      <td>0.00</td>\n",
       "    </tr>\n",
       "    <tr>\n",
       "      <th>1</th>\n",
       "      <td>126</td>\n",
       "      <td>18</td>\n",
       "      <td>0</td>\n",
       "      <td>920.26</td>\n",
       "      <td>0.00</td>\n",
       "    </tr>\n",
       "    <tr>\n",
       "      <th>2</th>\n",
       "      <td>114</td>\n",
       "      <td>37</td>\n",
       "      <td>7</td>\n",
       "      <td>4035.26</td>\n",
       "      <td>0.00</td>\n",
       "    </tr>\n",
       "    <tr>\n",
       "      <th>3</th>\n",
       "      <td>122</td>\n",
       "      <td>12</td>\n",
       "      <td>10</td>\n",
       "      <td>27979.20</td>\n",
       "      <td>10520.15</td>\n",
       "    </tr>\n",
       "    <tr>\n",
       "      <th>4</th>\n",
       "      <td>55</td>\n",
       "      <td>34</td>\n",
       "      <td>22</td>\n",
       "      <td>1477.46</td>\n",
       "      <td>0.00</td>\n",
       "    </tr>\n",
       "  </tbody>\n",
       "</table>\n",
       "</div>"
      ],
      "text/plain": [
       "   PayerId  ReceiverId  days    amount  amountfinancedByXepelin\n",
       "0      151          19     0   1490.46                     0.00\n",
       "1      126          18     0    920.26                     0.00\n",
       "2      114          37     7   4035.26                     0.00\n",
       "3      122          12    10  27979.20                 10520.15\n",
       "4       55          34    22   1477.46                     0.00"
      ]
     },
     "execution_count": 4,
     "metadata": {},
     "output_type": "execute_result"
    }
   ],
   "source": [
    "df.head()"
   ]
  },
  {
   "cell_type": "code",
   "execution_count": 5,
   "id": "b2685814-0f2a-4b45-8894-09e20c7b96cd",
   "metadata": {},
   "outputs": [
    {
     "data": {
      "text/plain": [
       "<AxesSubplot:>"
      ]
     },
     "execution_count": 5,
     "metadata": {},
     "output_type": "execute_result"
    },
    {
     "data": {
      "image/png": "[encoded data removed]",
      "text/plain": [
       "<Figure size 432x288 with 1 Axes>"
      ]
     },
     "metadata": {
      "needs_background": "light"
     },
     "output_type": "display_data"
    }
   ],
   "source": [
    "df['days'].hist()"
   ]
  },
  {
   "cell_type": "code",
   "execution_count": 6,
   "id": "aca93c1b-0799-4665-b04b-ee2e2da5a05e",
   "metadata": {},
   "outputs": [],
   "source": [
    "save_path = \"agModels\""
   ]
  },
  {
   "cell_type": "code",
   "execution_count": 7,
   "id": "cadc57c4-5a1e-438f-b05d-b4a9424a75c4",
   "metadata": {},
   "outputs": [],
   "source": [
    "df_train = df[df[\"days\"] < 180]"
   ]
  },
  {
   "cell_type": "code",
   "execution_count": 8,
   "id": "3470f9a0-5f6a-41bc-a442-e7a530fbb0d0",
   "metadata": {},
   "outputs": [],
   "source": [
    "label = 'amount'"
   ]
  },
  {
   "cell_type": "code",
   "execution_count": 9,
   "id": "590dee7b-4bab-4b59-baa4-8ea820fe6f9d",
   "metadata": {},
   "outputs": [],
   "source": [
    "df_train = TabularDataset(df)"
   ]
  },
  {
   "cell_type": "code",
   "execution_count": 10,
   "id": "31181acd-301b-4541-ba0c-c344010a6fef",
   "metadata": {},
   "outputs": [
    {
     "name": "stderr",
     "output_type": "stream",
     "text": [
      "Warning: path already exists! This predictor may overwrite an existing predictor! path=\"agModels\"\n",
      "Beginning AutoGluon training ... Time limit = 18000s\n",
      "AutoGluon will save models to \"agModels/\"\n",
      "AutoGluon Version:  0.4.2\n",
      "Python Version:     3.8.10\n",
      "Operating System:   Linux\n",
      "Train Data Rows:    892\n",
      "Train Data Columns: 4\n",
      "Label Column: amount\n",
      "Preprocessing data ...\n",
      "AutoGluon infers your prediction problem is: 'regression' (because dtype of label-column == float and many unique label-values observed).\n",
      "\tLabel info (max, min, mean, stddev): (3370741.92, 58.16, 30752.25663, 154172.74947)\n",
      "\tIf 'regression' is not the correct problem_type, please manually specify the problem_type parameter during predictor init (You may specify problem_type as one of: ['binary', 'multiclass', 'regression'])\n",
      "Using Feature Generators to preprocess the data ...\n",
      "Fitting AutoMLPipelineFeatureGenerator...\n",
      "\tAvailable Memory:                    64861.14 MB\n",
      "\tTrain Data (Original)  Memory Usage: 0.03 MB (0.0% of available memory)\n",
      "\tInferring data type of each feature based on column values. Set feature_metadata_in to manually specify special dtypes of the features.\n",
      "\tStage 1 Generators:\n",
      "\t\tFitting AsTypeFeatureGenerator...\n",
      "\tStage 2 Generators:\n",
      "\t\tFitting FillNaFeatureGenerator...\n",
      "\tStage 3 Generators:\n",
      "\t\tFitting IdentityFeatureGenerator...\n",
      "\tStage 4 Generators:\n",
      "\t\tFitting DropUniqueFeatureGenerator...\n",
      "\tTypes of features in original data (raw dtype, special dtypes):\n",
      "\t\t('float', []) : 1 | ['amountfinancedByXepelin']\n",
      "\t\t('int', [])   : 3 | ['PayerId', 'ReceiverId', 'days']\n",
      "\tTypes of features in processed data (raw dtype, special dtypes):\n",
      "\t\t('float', []) : 1 | ['amountfinancedByXepelin']\n",
      "\t\t('int', [])   : 3 | ['PayerId', 'ReceiverId', 'days']\n",
      "\t0.0s = Fit runtime\n",
      "\t4 features in original data used to generate 4 features in processed data.\n",
      "\tTrain Data (Processed) Memory Usage: 0.03 MB (0.0% of available memory)\n",
      "Data preprocessing and feature engineering runtime = 0.04s ...\n",
      "AutoGluon will gauge predictive performance using evaluation metric: 'median_absolute_error'\n",
      "\tTo change this, specify the eval_metric parameter of Predictor()\n",
      "Automatically generating train/validation split with holdout_frac=0.2, Train Rows: 713, Val Rows: 179\n",
      "Fitting 11 L1 models ...\n",
      "Fitting model: KNeighborsUnif ... Training model for up to 17999.96s of the 17999.96s of remaining time.\n",
      "\t-862.5001\t = Validation score   (median_absolute_error)\n",
      "\t0.01s\t = Training   runtime\n",
      "\t0.01s\t = Validation runtime\n",
      "Fitting model: KNeighborsDist ... Training model for up to 17999.9s of the 17999.9s of remaining time.\n",
      "\t-988.9861\t = Validation score   (median_absolute_error)\n",
      "\t0.0s\t = Training   runtime\n",
      "\t0.01s\t = Validation runtime\n",
      "Fitting model: LightGBMXT ... Training model for up to 17999.85s of the 17999.85s of remaining time.\n",
      "\t-2661.4871\t = Validation score   (median_absolute_error)\n",
      "\t0.79s\t = Training   runtime\n",
      "\t0.0s\t = Validation runtime\n",
      "Fitting model: LightGBM ... Training model for up to 17999.0s of the 17999.0s of remaining time.\n",
      "\t-2074.5789\t = Validation score   (median_absolute_error)\n",
      "\t0.37s\t = Training   runtime\n",
      "\t0.0s\t = Validation runtime\n",
      "Fitting model: RandomForestMSE ... Training model for up to 17998.56s of the 17998.56s of remaining time.\n",
      "\t-1012.8259\t = Validation score   (median_absolute_error)\n",
      "\t0.64s\t = Training   runtime\n",
      "\t0.07s\t = Validation runtime\n",
      "Fitting model: CatBoost ... Training model for up to 17997.64s of the 17997.64s of remaining time.\n",
      "\t-1772.6946\t = Validation score   (median_absolute_error)\n",
      "\t4.2s\t = Training   runtime\n",
      "\t0.0s\t = Validation runtime\n",
      "Fitting model: ExtraTreesMSE ... Training model for up to 17993.36s of the 17993.36s of remaining time.\n",
      "\t-1106.0368\t = Validation score   (median_absolute_error)\n",
      "\t0.62s\t = Training   runtime\n",
      "\t0.07s\t = Validation runtime\n",
      "Fitting model: NeuralNetFastAI ... Training model for up to 17992.47s of the 17992.47s of remaining time.\n",
      "\t-7666.36\t = Validation score   (median_absolute_error)\n",
      "\t1.4s\t = Training   runtime\n",
      "\t0.01s\t = Validation runtime\n",
      "Fitting model: XGBoost ... Training model for up to 17991.0s of the 17990.99s of remaining time.\n",
      "\t-349.0351\t = Validation score   (median_absolute_error)\n",
      "\t0.44s\t = Training   runtime\n",
      "\t0.01s\t = Validation runtime\n",
      "Fitting model: NeuralNetTorch ... Training model for up to 17990.48s of the 17990.47s of remaining time.\n",
      "\t-1331.8396\t = Validation score   (median_absolute_error)\n",
      "\t1.38s\t = Training   runtime\n",
      "\t0.01s\t = Validation runtime\n",
      "Fitting model: LightGBMLarge ... Training model for up to 17989.01s of the 17989.0s of remaining time.\n",
      "\t-1631.0235\t = Validation score   (median_absolute_error)\n",
      "\t0.93s\t = Training   runtime\n",
      "\t0.0s\t = Validation runtime\n",
      "Fitting model: WeightedEnsemble_L2 ... Training model for up to 1800.0s of the 17987.59s of remaining time.\n",
      "\t-309.9403\t = Validation score   (median_absolute_error)\n",
      "\t0.32s\t = Training   runtime\n",
      "\t0.0s\t = Validation runtime\n",
      "AutoGluon training complete, total runtime = 12.95s ... Best model: \"WeightedEnsemble_L2\"\n",
      "TabularPredictor saved. To load, use: predictor = TabularPredictor.load(\"agModels/\")\n"
     ]
    }
   ],
   "source": [
    "# Metric for optimization MAE\n",
    "predictor = TabularPredictor(label=label, path=save_path, eval_metric='median_absolute_error').fit(df_train, time_limit=18000)"
   ]
  },
  {
   "cell_type": "code",
   "execution_count": 11,
   "id": "d7327254-a7dc-44c6-b141-56088cf9fbb9",
   "metadata": {},
   "outputs": [],
   "source": [
    "test_data = df[df[\"days\"] >= 180]"
   ]
  },
  {
   "cell_type": "code",
   "execution_count": 12,
   "id": "6ce7a879-83e2-413b-80b8-10a4c5e3e728",
   "metadata": {},
   "outputs": [],
   "source": [
    "df_test = TabularDataset(test_data)"
   ]
  },
  {
   "cell_type": "code",
   "execution_count": 13,
   "id": "ca35a04b-8469-42f1-88ab-2bab4a69e68b",
   "metadata": {},
   "outputs": [],
   "source": [
    "# values to predict\n",
    "y_test = df_test[label]  "
   ]
  },
  {
   "cell_type": "code",
   "execution_count": 14,
   "id": "5658d422-bffa-4e03-b423-11c79fd3d79a",
   "metadata": {},
   "outputs": [],
   "source": [
    "# delete label column to prove we're not cheating\n",
    "test_data_nolab = df_test.drop(columns=[label])  "
   ]
  },
  {
   "cell_type": "code",
   "execution_count": 15,
   "id": "b9c12c0c-6b65-489c-bd05-56f3e6ff955a",
   "metadata": {},
   "outputs": [
    {
     "data": {
      "text/html": [
       "<div>\n",
       "<style scoped>\n",
       "    .dataframe tbody tr th:only-of-type {\n",
       "        vertical-align: middle;\n",
       "    }\n",
       "\n",
       "    .dataframe tbody tr th {\n",
       "        vertical-align: top;\n",
       "    }\n",
       "\n",
       "    .dataframe thead th {\n",
       "        text-align: right;\n",
       "    }\n",
       "</style>\n",
       "<table border=\"1\" class=\"dataframe\">\n",
       "  <thead>\n",
       "    <tr style=\"text-align: right;\">\n",
       "      <th></th>\n",
       "      <th>PayerId</th>\n",
       "      <th>ReceiverId</th>\n",
       "      <th>days</th>\n",
       "      <th>amountfinancedByXepelin</th>\n",
       "    </tr>\n",
       "  </thead>\n",
       "  <tbody>\n",
       "    <tr>\n",
       "      <th>628</th>\n",
       "      <td>187</td>\n",
       "      <td>55</td>\n",
       "      <td>182</td>\n",
       "      <td>0.0</td>\n",
       "    </tr>\n",
       "    <tr>\n",
       "      <th>629</th>\n",
       "      <td>174</td>\n",
       "      <td>82</td>\n",
       "      <td>182</td>\n",
       "      <td>0.0</td>\n",
       "    </tr>\n",
       "    <tr>\n",
       "      <th>630</th>\n",
       "      <td>145</td>\n",
       "      <td>42</td>\n",
       "      <td>183</td>\n",
       "      <td>0.0</td>\n",
       "    </tr>\n",
       "    <tr>\n",
       "      <th>631</th>\n",
       "      <td>138</td>\n",
       "      <td>44</td>\n",
       "      <td>183</td>\n",
       "      <td>0.0</td>\n",
       "    </tr>\n",
       "    <tr>\n",
       "      <th>632</th>\n",
       "      <td>169</td>\n",
       "      <td>38</td>\n",
       "      <td>183</td>\n",
       "      <td>0.0</td>\n",
       "    </tr>\n",
       "  </tbody>\n",
       "</table>\n",
       "</div>"
      ],
      "text/plain": [
       "     PayerId  ReceiverId  days  amountfinancedByXepelin\n",
       "628      187          55   182                      0.0\n",
       "629      174          82   182                      0.0\n",
       "630      145          42   183                      0.0\n",
       "631      138          44   183                      0.0\n",
       "632      169          38   183                      0.0"
      ]
     },
     "execution_count": 15,
     "metadata": {},
     "output_type": "execute_result"
    }
   ],
   "source": [
    "test_data_nolab.head()"
   ]
  },
  {
   "cell_type": "code",
   "execution_count": 16,
   "id": "c8231538-266e-47b0-9838-142e71672b96",
   "metadata": {},
   "outputs": [],
   "source": [
    "predictor = TabularPredictor.load(save_path)  "
   ]
  },
  {
   "cell_type": "code",
   "execution_count": 17,
   "id": "2e319bab-1554-429e-a7f3-7a1fbd2c70ba",
   "metadata": {},
   "outputs": [
    {
     "name": "stdout",
     "output_type": "stream",
     "text": [
      "Predictions:  \n",
      " 628    1369.259644\n",
      "629    1357.518677\n",
      "630    2271.319092\n",
      "631    2273.572021\n",
      "632    1380.713013\n",
      "          ...     \n",
      "887    1447.433960\n",
      "888    1519.357422\n",
      "889    1507.569336\n",
      "890    1393.896118\n",
      "891    1394.450562\n",
      "Name: amount, Length: 264, dtype: float32\n"
     ]
    }
   ],
   "source": [
    "y_pred = predictor.predict(test_data_nolab)\n",
    "print(\"Predictions:  \\n\", y_pred)"
   ]
  },
  {
   "cell_type": "code",
   "execution_count": 18,
   "id": "a40d50cb-361a-47b6-9ab8-6a0a1ba36353",
   "metadata": {},
   "outputs": [
    {
     "name": "stderr",
     "output_type": "stream",
     "text": [
      "Evaluation: median_absolute_error on test data: -291.5165161132812\n",
      "\tNote: Scores are always higher_is_better. This metric score can be multiplied by -1 to get the metric value.\n",
      "Evaluations on test data:\n",
      "{\n",
      "    \"median_absolute_error\": -291.5165161132812,\n",
      "    \"root_mean_squared_error\": -32700.21812527079,\n",
      "    \"mean_squared_error\": -1069304265.4402882,\n",
      "    \"mean_absolute_error\": -9565.182551713424,\n",
      "    \"r2\": 0.6873496603624003,\n",
      "    \"pearsonr\": 0.9170478762304354\n",
      "}\n"
     ]
    }
   ],
   "source": [
    "perf = predictor.evaluate_predictions(y_true=y_test, y_pred=y_pred, auxiliary_metrics=True)"
   ]
  },
  {
   "cell_type": "code",
   "execution_count": 19,
   "id": "0d15a516-ee8a-4abd-8964-559bca28fa43",
   "metadata": {},
   "outputs": [
    {
     "data": {
      "text/html": [
       "<div>\n",
       "<style scoped>\n",
       "    .dataframe tbody tr th:only-of-type {\n",
       "        vertical-align: middle;\n",
       "    }\n",
       "\n",
       "    .dataframe tbody tr th {\n",
       "        vertical-align: top;\n",
       "    }\n",
       "\n",
       "    .dataframe thead th {\n",
       "        text-align: right;\n",
       "    }\n",
       "</style>\n",
       "<table border=\"1\" class=\"dataframe\">\n",
       "  <thead>\n",
       "    <tr style=\"text-align: right;\">\n",
       "      <th></th>\n",
       "      <th>test</th>\n",
       "      <th>prediction</th>\n",
       "      <th>residual</th>\n",
       "    </tr>\n",
       "  </thead>\n",
       "  <tbody>\n",
       "    <tr>\n",
       "      <th>628</th>\n",
       "      <td>725.46</td>\n",
       "      <td>1369.259644</td>\n",
       "      <td>-643.799644</td>\n",
       "    </tr>\n",
       "    <tr>\n",
       "      <th>629</th>\n",
       "      <td>1792.46</td>\n",
       "      <td>1357.518677</td>\n",
       "      <td>434.941323</td>\n",
       "    </tr>\n",
       "    <tr>\n",
       "      <th>630</th>\n",
       "      <td>1139.86</td>\n",
       "      <td>2271.319092</td>\n",
       "      <td>-1131.459092</td>\n",
       "    </tr>\n",
       "    <tr>\n",
       "      <th>631</th>\n",
       "      <td>2052.66</td>\n",
       "      <td>2273.572021</td>\n",
       "      <td>-220.912021</td>\n",
       "    </tr>\n",
       "    <tr>\n",
       "      <th>632</th>\n",
       "      <td>1447.86</td>\n",
       "      <td>1380.713013</td>\n",
       "      <td>67.146987</td>\n",
       "    </tr>\n",
       "  </tbody>\n",
       "</table>\n",
       "</div>"
      ],
      "text/plain": [
       "        test   prediction     residual\n",
       "628   725.46  1369.259644  -643.799644\n",
       "629  1792.46  1357.518677   434.941323\n",
       "630  1139.86  2271.319092 -1131.459092\n",
       "631  2052.66  2273.572021  -220.912021\n",
       "632  1447.86  1380.713013    67.146987"
      ]
     },
     "execution_count": 19,
     "metadata": {},
     "output_type": "execute_result"
    }
   ],
   "source": [
    "# Predictions and test data set\n",
    "df_test_pred = pd.concat([y_test, y_pred], axis=1)\n",
    "df_test_pred.columns = ['test', 'prediction']\n",
    "df_test_pred['residual'] = df_test_pred['test'] - df_test_pred['prediction']\n",
    "df_test_pred.head()"
   ]
  },
  {
   "cell_type": "code",
   "execution_count": 20,
   "id": "72c1bf6e-ad0b-47ae-91a4-8a27ecfaa837",
   "metadata": {},
   "outputs": [
    {
     "data": {
      "text/plain": [
       "Text(0, 0.5, 'Predicted values')"
      ]
     },
     "execution_count": 20,
     "metadata": {},
     "output_type": "execute_result"
    },
    {
     "data": {
      "image/png": "[encoded data removed]",
      "text/plain": [
       "<Figure size 432x288 with 1 Axes>"
      ]
     },
     "metadata": {
      "needs_background": "light"
     },
     "output_type": "display_data"
    }
   ],
   "source": [
    "sns.regplot(x=y_test, y=y_pred);\n",
    "plt.xlabel('Test values')\n",
    "plt.ylabel('Predicted values')"
   ]
  },
  {
   "cell_type": "code",
   "execution_count": 21,
   "id": "b7625a89-18c2-4c5d-b523-7c2b12be1cec",
   "metadata": {},
   "outputs": [
    {
     "data": {
      "text/html": [
       "<div>\n",
       "<style scoped>\n",
       "    .dataframe tbody tr th:only-of-type {\n",
       "        vertical-align: middle;\n",
       "    }\n",
       "\n",
       "    .dataframe tbody tr th {\n",
       "        vertical-align: top;\n",
       "    }\n",
       "\n",
       "    .dataframe thead th {\n",
       "        text-align: right;\n",
       "    }\n",
       "</style>\n",
       "<table border=\"1\" class=\"dataframe\">\n",
       "  <thead>\n",
       "    <tr style=\"text-align: right;\">\n",
       "      <th></th>\n",
       "      <th>model</th>\n",
       "      <th>score_test</th>\n",
       "      <th>score_val</th>\n",
       "      <th>pred_time_test</th>\n",
       "      <th>pred_time_val</th>\n",
       "      <th>fit_time</th>\n",
       "      <th>pred_time_test_marginal</th>\n",
       "      <th>pred_time_val_marginal</th>\n",
       "      <th>fit_time_marginal</th>\n",
       "      <th>stack_level</th>\n",
       "      <th>can_infer</th>\n",
       "      <th>fit_order</th>\n",
       "    </tr>\n",
       "  </thead>\n",
       "  <tbody>\n",
       "    <tr>\n",
       "      <th>0</th>\n",
       "      <td>KNeighborsDist</td>\n",
       "      <td>-0.000039</td>\n",
       "      <td>-988.986118</td>\n",
       "      <td>0.009191</td>\n",
       "      <td>0.007140</td>\n",
       "      <td>0.004394</td>\n",
       "      <td>0.009191</td>\n",
       "      <td>0.007140</td>\n",
       "      <td>0.004394</td>\n",
       "      <td>1</td>\n",
       "      <td>True</td>\n",
       "      <td>2</td>\n",
       "    </tr>\n",
       "    <tr>\n",
       "      <th>1</th>\n",
       "      <td>RandomForestMSE</td>\n",
       "      <td>-236.845176</td>\n",
       "      <td>-1012.825942</td>\n",
       "      <td>0.086971</td>\n",
       "      <td>0.068776</td>\n",
       "      <td>0.644107</td>\n",
       "      <td>0.086971</td>\n",
       "      <td>0.068776</td>\n",
       "      <td>0.644107</td>\n",
       "      <td>1</td>\n",
       "      <td>True</td>\n",
       "      <td>5</td>\n",
       "    </tr>\n",
       "    <tr>\n",
       "      <th>2</th>\n",
       "      <td>XGBoost</td>\n",
       "      <td>-247.035073</td>\n",
       "      <td>-349.035073</td>\n",
       "      <td>0.009666</td>\n",
       "      <td>0.005615</td>\n",
       "      <td>0.437773</td>\n",
       "      <td>0.009666</td>\n",
       "      <td>0.005615</td>\n",
       "      <td>0.437773</td>\n",
       "      <td>1</td>\n",
       "      <td>True</td>\n",
       "      <td>9</td>\n",
       "    </tr>\n",
       "    <tr>\n",
       "      <th>3</th>\n",
       "      <td>WeightedEnsemble_L2</td>\n",
       "      <td>-291.516516</td>\n",
       "      <td>-309.940298</td>\n",
       "      <td>0.053795</td>\n",
       "      <td>0.021765</td>\n",
       "      <td>2.142879</td>\n",
       "      <td>0.004562</td>\n",
       "      <td>0.000469</td>\n",
       "      <td>0.323218</td>\n",
       "      <td>2</td>\n",
       "      <td>True</td>\n",
       "      <td>12</td>\n",
       "    </tr>\n",
       "    <tr>\n",
       "      <th>4</th>\n",
       "      <td>ExtraTreesMSE</td>\n",
       "      <td>-341.120293</td>\n",
       "      <td>-1106.036826</td>\n",
       "      <td>0.091649</td>\n",
       "      <td>0.069851</td>\n",
       "      <td>0.624060</td>\n",
       "      <td>0.091649</td>\n",
       "      <td>0.069851</td>\n",
       "      <td>0.624060</td>\n",
       "      <td>1</td>\n",
       "      <td>True</td>\n",
       "      <td>7</td>\n",
       "    </tr>\n",
       "    <tr>\n",
       "      <th>5</th>\n",
       "      <td>KNeighborsUnif</td>\n",
       "      <td>-396.011975</td>\n",
       "      <td>-862.500059</td>\n",
       "      <td>0.008120</td>\n",
       "      <td>0.007567</td>\n",
       "      <td>0.005166</td>\n",
       "      <td>0.008120</td>\n",
       "      <td>0.007567</td>\n",
       "      <td>0.005166</td>\n",
       "      <td>1</td>\n",
       "      <td>True</td>\n",
       "      <td>1</td>\n",
       "    </tr>\n",
       "    <tr>\n",
       "      <th>6</th>\n",
       "      <td>LightGBMLarge</td>\n",
       "      <td>-486.793311</td>\n",
       "      <td>-1631.023535</td>\n",
       "      <td>0.016027</td>\n",
       "      <td>0.003768</td>\n",
       "      <td>0.930701</td>\n",
       "      <td>0.016027</td>\n",
       "      <td>0.003768</td>\n",
       "      <td>0.930701</td>\n",
       "      <td>1</td>\n",
       "      <td>True</td>\n",
       "      <td>11</td>\n",
       "    </tr>\n",
       "    <tr>\n",
       "      <th>7</th>\n",
       "      <td>CatBoost</td>\n",
       "      <td>-1166.653303</td>\n",
       "      <td>-1772.694629</td>\n",
       "      <td>0.005084</td>\n",
       "      <td>0.002042</td>\n",
       "      <td>4.203269</td>\n",
       "      <td>0.005084</td>\n",
       "      <td>0.002042</td>\n",
       "      <td>4.203269</td>\n",
       "      <td>1</td>\n",
       "      <td>True</td>\n",
       "      <td>6</td>\n",
       "    </tr>\n",
       "    <tr>\n",
       "      <th>8</th>\n",
       "      <td>LightGBM</td>\n",
       "      <td>-1176.950518</td>\n",
       "      <td>-2074.578867</td>\n",
       "      <td>0.006529</td>\n",
       "      <td>0.002813</td>\n",
       "      <td>0.366227</td>\n",
       "      <td>0.006529</td>\n",
       "      <td>0.002813</td>\n",
       "      <td>0.366227</td>\n",
       "      <td>1</td>\n",
       "      <td>True</td>\n",
       "      <td>4</td>\n",
       "    </tr>\n",
       "    <tr>\n",
       "      <th>9</th>\n",
       "      <td>NeuralNetTorch</td>\n",
       "      <td>-1621.456528</td>\n",
       "      <td>-1331.839609</td>\n",
       "      <td>0.031447</td>\n",
       "      <td>0.008114</td>\n",
       "      <td>1.376722</td>\n",
       "      <td>0.031447</td>\n",
       "      <td>0.008114</td>\n",
       "      <td>1.376722</td>\n",
       "      <td>1</td>\n",
       "      <td>True</td>\n",
       "      <td>10</td>\n",
       "    </tr>\n",
       "    <tr>\n",
       "      <th>10</th>\n",
       "      <td>LightGBMXT</td>\n",
       "      <td>-1782.253140</td>\n",
       "      <td>-2661.487051</td>\n",
       "      <td>0.004916</td>\n",
       "      <td>0.002595</td>\n",
       "      <td>0.792960</td>\n",
       "      <td>0.004916</td>\n",
       "      <td>0.002595</td>\n",
       "      <td>0.792960</td>\n",
       "      <td>1</td>\n",
       "      <td>True</td>\n",
       "      <td>3</td>\n",
       "    </tr>\n",
       "    <tr>\n",
       "      <th>11</th>\n",
       "      <td>NeuralNetFastAI</td>\n",
       "      <td>-5957.200703</td>\n",
       "      <td>-7666.360000</td>\n",
       "      <td>0.033334</td>\n",
       "      <td>0.009542</td>\n",
       "      <td>1.395062</td>\n",
       "      <td>0.033334</td>\n",
       "      <td>0.009542</td>\n",
       "      <td>1.395062</td>\n",
       "      <td>1</td>\n",
       "      <td>True</td>\n",
       "      <td>8</td>\n",
       "    </tr>\n",
       "  </tbody>\n",
       "</table>\n",
       "</div>"
      ],
      "text/plain": [
       "                  model   score_test    score_val  pred_time_test  \\\n",
       "0        KNeighborsDist    -0.000039  -988.986118        0.009191   \n",
       "1       RandomForestMSE  -236.845176 -1012.825942        0.086971   \n",
       "2               XGBoost  -247.035073  -349.035073        0.009666   \n",
       "3   WeightedEnsemble_L2  -291.516516  -309.940298        0.053795   \n",
       "4         ExtraTreesMSE  -341.120293 -1106.036826        0.091649   \n",
       "5        KNeighborsUnif  -396.011975  -862.500059        0.008120   \n",
       "6         LightGBMLarge  -486.793311 -1631.023535        0.016027   \n",
       "7              CatBoost -1166.653303 -1772.694629        0.005084   \n",
       "8              LightGBM -1176.950518 -2074.578867        0.006529   \n",
       "9        NeuralNetTorch -1621.456528 -1331.839609        0.031447   \n",
       "10           LightGBMXT -1782.253140 -2661.487051        0.004916   \n",
       "11      NeuralNetFastAI -5957.200703 -7666.360000        0.033334   \n",
       "\n",
       "    pred_time_val  fit_time  pred_time_test_marginal  pred_time_val_marginal  \\\n",
       "0        0.007140  0.004394                 0.009191                0.007140   \n",
       "1        0.068776  0.644107                 0.086971                0.068776   \n",
       "2        0.005615  0.437773                 0.009666                0.005615   \n",
       "3        0.021765  2.142879                 0.004562                0.000469   \n",
       "4        0.069851  0.624060                 0.091649                0.069851   \n",
       "5        0.007567  0.005166                 0.008120                0.007567   \n",
       "6        0.003768  0.930701                 0.016027                0.003768   \n",
       "7        0.002042  4.203269                 0.005084                0.002042   \n",
       "8        0.002813  0.366227                 0.006529                0.002813   \n",
       "9        0.008114  1.376722                 0.031447                0.008114   \n",
       "10       0.002595  0.792960                 0.004916                0.002595   \n",
       "11       0.009542  1.395062                 0.033334                0.009542   \n",
       "\n",
       "    fit_time_marginal  stack_level  can_infer  fit_order  \n",
       "0            0.004394            1       True          2  \n",
       "1            0.644107            1       True          5  \n",
       "2            0.437773            1       True          9  \n",
       "3            0.323218            2       True         12  \n",
       "4            0.624060            1       True          7  \n",
       "5            0.005166            1       True          1  \n",
       "6            0.930701            1       True         11  \n",
       "7            4.203269            1       True          6  \n",
       "8            0.366227            1       True          4  \n",
       "9            1.376722            1       True         10  \n",
       "10           0.792960            1       True          3  \n",
       "11           1.395062            1       True          8  "
      ]
     },
     "execution_count": 21,
     "metadata": {},
     "output_type": "execute_result"
    }
   ],
   "source": [
    "predictor.leaderboard(test_data, silent=True)"
   ]
  },
  {
   "cell_type": "code",
   "execution_count": 22,
   "id": "3aeca123-7665-4b1c-8778-6a73547a164c",
   "metadata": {},
   "outputs": [
    {
     "name": "stdout",
     "output_type": "stream",
     "text": [
      "MAE: 9565.182551713424\n",
      "MSE: 1069304265.4402882\n",
      "RMSE: 32700.21812527079\n"
     ]
    }
   ],
   "source": [
    "# Metrics\n",
    "from sklearn import metrics\n",
    "\n",
    "print('MAE:', metrics.mean_absolute_error(y_test, y_pred))\n",
    "print('MSE:', metrics.mean_squared_error(y_test, y_pred))\n",
    "print('RMSE:', np.sqrt(metrics.mean_squared_error(y_test, y_pred)))"
   ]
  },
  {
   "cell_type": "code",
   "execution_count": 23,
   "id": "d82d3c4c-6750-4173-b337-2ea877ec6a03",
   "metadata": {},
   "outputs": [
    {
     "data": {
      "image/png": "[encoded data removed]",
      "text/plain": [
       "<Figure size 432x288 with 1 Axes>"
      ]
     },
     "metadata": {
      "needs_background": "light"
     },
     "output_type": "display_data"
    }
   ],
   "source": [
    "# Distributions of residuals\n",
    "sns.histplot(data=df_test_pred, x='residual', kde=True, bins=30);"
   ]
  },
  {
   "cell_type": "code",
   "execution_count": 24,
   "id": "ffc84ed1-1829-4f6b-8aaa-9205de2733ad",
   "metadata": {},
   "outputs": [
    {
     "name": "stderr",
     "output_type": "stream",
     "text": [
      "Computing feature importance via permutation shuffling for 4 features using 264 rows with 5 shuffle sets...\n",
      "\t1.59s\t= Expected runtime (0.32s per shuffle set)\n",
      "\t0.45s\t= Actual runtime (Completed 5 of 5 shuffle sets)\n"
     ]
    },
    {
     "data": {
      "text/html": [
       "<div>\n",
       "<style scoped>\n",
       "    .dataframe tbody tr th:only-of-type {\n",
       "        vertical-align: middle;\n",
       "    }\n",
       "\n",
       "    .dataframe tbody tr th {\n",
       "        vertical-align: top;\n",
       "    }\n",
       "\n",
       "    .dataframe thead th {\n",
       "        text-align: right;\n",
       "    }\n",
       "</style>\n",
       "<table border=\"1\" class=\"dataframe\">\n",
       "  <thead>\n",
       "    <tr style=\"text-align: right;\">\n",
       "      <th></th>\n",
       "      <th>importance</th>\n",
       "      <th>stddev</th>\n",
       "      <th>p_value</th>\n",
       "      <th>n</th>\n",
       "      <th>p99_high</th>\n",
       "      <th>p99_low</th>\n",
       "    </tr>\n",
       "  </thead>\n",
       "  <tbody>\n",
       "    <tr>\n",
       "      <th>amountfinancedByXepelin</th>\n",
       "      <td>254.655390</td>\n",
       "      <td>82.909893</td>\n",
       "      <td>0.001177</td>\n",
       "      <td>5</td>\n",
       "      <td>425.368005</td>\n",
       "      <td>83.942775</td>\n",
       "    </tr>\n",
       "    <tr>\n",
       "      <th>PayerId</th>\n",
       "      <td>25.247408</td>\n",
       "      <td>35.724199</td>\n",
       "      <td>0.094595</td>\n",
       "      <td>5</td>\n",
       "      <td>98.804027</td>\n",
       "      <td>-48.309211</td>\n",
       "    </tr>\n",
       "    <tr>\n",
       "      <th>ReceiverId</th>\n",
       "      <td>18.421281</td>\n",
       "      <td>31.400703</td>\n",
       "      <td>0.129906</td>\n",
       "      <td>5</td>\n",
       "      <td>83.075763</td>\n",
       "      <td>-46.233201</td>\n",
       "    </tr>\n",
       "    <tr>\n",
       "      <th>days</th>\n",
       "      <td>6.672455</td>\n",
       "      <td>4.778088</td>\n",
       "      <td>0.017719</td>\n",
       "      <td>5</td>\n",
       "      <td>16.510604</td>\n",
       "      <td>-3.165695</td>\n",
       "    </tr>\n",
       "  </tbody>\n",
       "</table>\n",
       "</div>"
      ],
      "text/plain": [
       "                         importance     stddev   p_value  n    p99_high  \\\n",
       "amountfinancedByXepelin  254.655390  82.909893  0.001177  5  425.368005   \n",
       "PayerId                   25.247408  35.724199  0.094595  5   98.804027   \n",
       "ReceiverId                18.421281  31.400703  0.129906  5   83.075763   \n",
       "days                       6.672455   4.778088  0.017719  5   16.510604   \n",
       "\n",
       "                           p99_low  \n",
       "amountfinancedByXepelin  83.942775  \n",
       "PayerId                 -48.309211  \n",
       "ReceiverId              -46.233201  \n",
       "days                     -3.165695  "
      ]
     },
     "execution_count": 24,
     "metadata": {},
     "output_type": "execute_result"
    }
   ],
   "source": [
    "f_importance = predictor.feature_importance(df_test)\n",
    "f_importance.head()"
   ]
  }
 ],
 "metadata": {
  "kernelspec": {
   "display_name": "Python 3 (ipykernel)",
   "language": "python",
   "name": "python3"
  },
  "language_info": {
   "codemirror_mode": {
    "name": "ipython",
    "version": 3
   },
   "file_extension": ".py",
   "mimetype": "text/x-python",
   "name": "python",
   "nbconvert_exporter": "python",
   "pygments_lexer": "ipython3",
   "version": "3.9.7"
  }
 },
 "nbformat": 4,
 "nbformat_minor": 5
}
