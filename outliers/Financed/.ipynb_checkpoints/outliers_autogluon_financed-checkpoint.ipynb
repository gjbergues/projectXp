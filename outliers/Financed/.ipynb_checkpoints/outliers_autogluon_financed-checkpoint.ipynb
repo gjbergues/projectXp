{
 "cells": [
  {
   "cell_type": "markdown",
   "id": "40da4d57-1233-4e0e-ad77-040704b3957a",
   "metadata": {},
   "source": [
    "<div align=\"center\">\n",
    "    <img src='../../xepimage.png' style='height:100px;'>\n",
    "</div>\n",
    "\n",
    "\n",
    "<center><h1 style='font-size:25px'>Model</h1></center>\n",
    "\n",
    "---\n",
    "\n",
    "**Autor: Guillermo J. Bergues**\n",
    "\n",
    "Autogluon for Xepelin project.\n",
    "\n",
    "Data = Outliers (second approach)."
   ]
  },
  {
   "cell_type": "code",
   "execution_count": 1,
   "id": "abb89766-c3a0-4700-a603-85abbcef55bd",
   "metadata": {},
   "outputs": [
    {
     "name": "stdout",
     "output_type": "stream",
     "text": [
      "\u001b[33mWARNING: Running pip as the 'root' user can result in broken permissions and conflicting behaviour with the system package manager. It is recommended to use a virtual environment instead: https://pip.pypa.io/warnings/venv\u001b[0m\n"
     ]
    }
   ],
   "source": [
    "! /opt/miniconda3/envs/myenv/bin/pip install --no-cache-dir autogluon -q"
   ]
  },
  {
   "cell_type": "code",
   "execution_count": 2,
   "id": "f1bde28a-5afa-45a6-97a0-38b680f0e003",
   "metadata": {},
   "outputs": [
    {
     "name": "stderr",
     "output_type": "stream",
     "text": [
      "/opt/miniconda3/envs/myenv/lib/python3.8/site-packages/tqdm/auto.py:22: TqdmWarning: IProgress not found. Please update jupyter and ipywidgets. See https://ipywidgets.readthedocs.io/en/stable/user_install.html\n",
      "  from .autonotebook import tqdm as notebook_tqdm\n"
     ]
    }
   ],
   "source": [
    "import pandas as pd \n",
    "import numpy as np\n",
    "\n",
    "from autogluon.tabular import TabularPredictor, TabularDataset\n",
    "\n",
    "import seaborn as sns\n",
    "import matplotlib.pyplot as plt\n",
    "%matplotlib inline"
   ]
  },
  {
   "cell_type": "code",
   "execution_count": 3,
   "id": "df059cb8-14bb-49f6-aec9-cc75a35184be",
   "metadata": {},
   "outputs": [],
   "source": [
    "df = pd.read_csv ('../../Data/ds_outliers.csv')"
   ]
  },
  {
   "cell_type": "code",
   "execution_count": 4,
   "id": "618161b3-a434-42d8-9350-7bb82c0bbc00",
   "metadata": {},
   "outputs": [
    {
     "data": {
      "text/html": [
       "<div>\n",
       "<style scoped>\n",
       "    .dataframe tbody tr th:only-of-type {\n",
       "        vertical-align: middle;\n",
       "    }\n",
       "\n",
       "    .dataframe tbody tr th {\n",
       "        vertical-align: top;\n",
       "    }\n",
       "\n",
       "    .dataframe thead th {\n",
       "        text-align: right;\n",
       "    }\n",
       "</style>\n",
       "<table border=\"1\" class=\"dataframe\">\n",
       "  <thead>\n",
       "    <tr style=\"text-align: right;\">\n",
       "      <th></th>\n",
       "      <th>PayerId</th>\n",
       "      <th>ReceiverId</th>\n",
       "      <th>days</th>\n",
       "      <th>amount</th>\n",
       "      <th>amountfinancedByXepelin</th>\n",
       "    </tr>\n",
       "  </thead>\n",
       "  <tbody>\n",
       "    <tr>\n",
       "      <th>0</th>\n",
       "      <td>151</td>\n",
       "      <td>19</td>\n",
       "      <td>0</td>\n",
       "      <td>1490.46</td>\n",
       "      <td>0.00</td>\n",
       "    </tr>\n",
       "    <tr>\n",
       "      <th>1</th>\n",
       "      <td>126</td>\n",
       "      <td>18</td>\n",
       "      <td>0</td>\n",
       "      <td>920.26</td>\n",
       "      <td>0.00</td>\n",
       "    </tr>\n",
       "    <tr>\n",
       "      <th>2</th>\n",
       "      <td>114</td>\n",
       "      <td>37</td>\n",
       "      <td>7</td>\n",
       "      <td>4035.26</td>\n",
       "      <td>0.00</td>\n",
       "    </tr>\n",
       "    <tr>\n",
       "      <th>3</th>\n",
       "      <td>122</td>\n",
       "      <td>12</td>\n",
       "      <td>10</td>\n",
       "      <td>27979.20</td>\n",
       "      <td>10520.15</td>\n",
       "    </tr>\n",
       "    <tr>\n",
       "      <th>4</th>\n",
       "      <td>55</td>\n",
       "      <td>34</td>\n",
       "      <td>22</td>\n",
       "      <td>1477.46</td>\n",
       "      <td>0.00</td>\n",
       "    </tr>\n",
       "  </tbody>\n",
       "</table>\n",
       "</div>"
      ],
      "text/plain": [
       "   PayerId  ReceiverId  days    amount  amountfinancedByXepelin\n",
       "0      151          19     0   1490.46                     0.00\n",
       "1      126          18     0    920.26                     0.00\n",
       "2      114          37     7   4035.26                     0.00\n",
       "3      122          12    10  27979.20                 10520.15\n",
       "4       55          34    22   1477.46                     0.00"
      ]
     },
     "execution_count": 4,
     "metadata": {},
     "output_type": "execute_result"
    }
   ],
   "source": [
    "df.head()"
   ]
  },
  {
   "cell_type": "code",
   "execution_count": 5,
   "id": "b2685814-0f2a-4b45-8894-09e20c7b96cd",
   "metadata": {},
   "outputs": [
    {
     "data": {
      "text/plain": [
       "<AxesSubplot:>"
      ]
     },
     "execution_count": 5,
     "metadata": {},
     "output_type": "execute_result"
    },
    {
     "data": {
      "image/png": "[encoded data removed]",
      "text/plain": [
       "<Figure size 432x288 with 1 Axes>"
      ]
     },
     "metadata": {
      "needs_background": "light"
     },
     "output_type": "display_data"
    }
   ],
   "source": [
    "df['days'].hist()"
   ]
  },
  {
   "cell_type": "code",
   "execution_count": 6,
   "id": "aca93c1b-0799-4665-b04b-ee2e2da5a05e",
   "metadata": {},
   "outputs": [],
   "source": [
    "save_path = \"agModels\""
   ]
  },
  {
   "cell_type": "code",
   "execution_count": 7,
   "id": "cadc57c4-5a1e-438f-b05d-b4a9424a75c4",
   "metadata": {},
   "outputs": [],
   "source": [
    "df_train = df[df[\"days\"] < 180]"
   ]
  },
  {
   "cell_type": "code",
   "execution_count": 8,
   "id": "3470f9a0-5f6a-41bc-a442-e7a530fbb0d0",
   "metadata": {},
   "outputs": [],
   "source": [
    "label = 'amountfinancedByXepelin'"
   ]
  },
  {
   "cell_type": "code",
   "execution_count": 9,
   "id": "590dee7b-4bab-4b59-baa4-8ea820fe6f9d",
   "metadata": {},
   "outputs": [],
   "source": [
    "df_train = TabularDataset(df)"
   ]
  },
  {
   "cell_type": "code",
   "execution_count": 10,
   "id": "31181acd-301b-4541-ba0c-c344010a6fef",
   "metadata": {
    "collapsed": true,
    "jupyter": {
     "outputs_hidden": true
    },
    "tags": []
   },
   "outputs": [
    {
     "name": "stderr",
     "output_type": "stream",
     "text": [
      "Warning: path already exists! This predictor may overwrite an existing predictor! path=\"agModels\"\n",
      "Beginning AutoGluon training ... Time limit = 18000s\n",
      "AutoGluon will save models to \"agModels/\"\n",
      "AutoGluon Version:  0.4.2\n",
      "Python Version:     3.8.10\n",
      "Operating System:   Linux\n",
      "Train Data Rows:    891\n",
      "Train Data Columns: 4\n",
      "Label Column: amountfinancedByXepelin\n",
      "Preprocessing data ...\n",
      "AutoGluon infers your prediction problem is: 'regression' (because dtype of label-column == float and many unique label-values observed).\n",
      "\tLabel info (max, min, mean, stddev): (1285010.2, 0.0, 14785.82659, 69037.3032)\n",
      "\tIf 'regression' is not the correct problem_type, please manually specify the problem_type parameter during predictor init (You may specify problem_type as one of: ['binary', 'multiclass', 'regression'])\n",
      "Using Feature Generators to preprocess the data ...\n",
      "Fitting AutoMLPipelineFeatureGenerator...\n",
      "\tAvailable Memory:                    62945.44 MB\n",
      "\tTrain Data (Original)  Memory Usage: 0.03 MB (0.0% of available memory)\n",
      "\tInferring data type of each feature based on column values. Set feature_metadata_in to manually specify special dtypes of the features.\n",
      "\tStage 1 Generators:\n",
      "\t\tFitting AsTypeFeatureGenerator...\n",
      "\tStage 2 Generators:\n",
      "\t\tFitting FillNaFeatureGenerator...\n",
      "\tStage 3 Generators:\n",
      "\t\tFitting IdentityFeatureGenerator...\n",
      "\tStage 4 Generators:\n",
      "\t\tFitting DropUniqueFeatureGenerator...\n",
      "\tTypes of features in original data (raw dtype, special dtypes):\n",
      "\t\t('float', []) : 1 | ['amount']\n",
      "\t\t('int', [])   : 3 | ['PayerId', 'ReceiverId', 'days']\n",
      "\tTypes of features in processed data (raw dtype, special dtypes):\n",
      "\t\t('float', []) : 1 | ['amount']\n",
      "\t\t('int', [])   : 3 | ['PayerId', 'ReceiverId', 'days']\n",
      "\t0.0s = Fit runtime\n",
      "\t4 features in original data used to generate 4 features in processed data.\n",
      "\tTrain Data (Processed) Memory Usage: 0.03 MB (0.0% of available memory)\n",
      "Data preprocessing and feature engineering runtime = 0.05s ...\n",
      "AutoGluon will gauge predictive performance using evaluation metric: 'median_absolute_error'\n",
      "\tTo change this, specify the eval_metric parameter of Predictor()\n",
      "Automatically generating train/validation split with holdout_frac=0.2, Train Rows: 712, Val Rows: 179\n",
      "Fitting 11 L1 models ...\n",
      "Fitting model: KNeighborsUnif ... Training model for up to 17999.95s of the 17999.95s of remaining time.\n",
      "\t-0.0\t = Validation score   (median_absolute_error)\n",
      "\t0.01s\t = Training   runtime\n",
      "\t0.01s\t = Validation runtime\n",
      "Fitting model: KNeighborsDist ... Training model for up to 17999.88s of the 17999.87s of remaining time.\n",
      "\t-0.0\t = Validation score   (median_absolute_error)\n",
      "\t0.0s\t = Training   runtime\n",
      "\t0.01s\t = Validation runtime\n",
      "Fitting model: LightGBMXT ... Training model for up to 17999.81s of the 17999.81s of remaining time.\n",
      "\t-1192.176\t = Validation score   (median_absolute_error)\n",
      "\t0.79s\t = Training   runtime\n",
      "\t0.0s\t = Validation runtime\n",
      "Fitting model: LightGBM ... Training model for up to 17998.95s of the 17998.94s of remaining time.\n",
      "\t-197.468\t = Validation score   (median_absolute_error)\n",
      "\t0.42s\t = Training   runtime\n",
      "\t0.0s\t = Validation runtime\n",
      "Fitting model: RandomForestMSE ... Training model for up to 17998.44s of the 17998.44s of remaining time.\n",
      "\t-0.0\t = Validation score   (median_absolute_error)\n",
      "\t0.61s\t = Training   runtime\n",
      "\t0.07s\t = Validation runtime\n",
      "Fitting model: CatBoost ... Training model for up to 17997.61s of the 17997.61s of remaining time.\n",
      "\t-663.4815\t = Validation score   (median_absolute_error)\n",
      "\t2.32s\t = Training   runtime\n",
      "\t0.0s\t = Validation runtime\n",
      "Fitting model: ExtraTreesMSE ... Training model for up to 17995.18s of the 17995.18s of remaining time.\n",
      "\t-3.3334\t = Validation score   (median_absolute_error)\n",
      "\t0.58s\t = Training   runtime\n",
      "\t0.07s\t = Validation runtime\n",
      "Fitting model: NeuralNetFastAI ... Training model for up to 17994.39s of the 17994.39s of remaining time.\n",
      "\t-3202.6895\t = Validation score   (median_absolute_error)\n",
      "\t1.38s\t = Training   runtime\n",
      "\t0.01s\t = Validation runtime\n",
      "Fitting model: XGBoost ... Training model for up to 17992.91s of the 17992.91s of remaining time.\n",
      "\t-0.5982\t = Validation score   (median_absolute_error)\n",
      "\t0.43s\t = Training   runtime\n",
      "\t0.01s\t = Validation runtime\n",
      "Fitting model: NeuralNetTorch ... Training model for up to 17992.36s of the 17992.35s of remaining time.\n",
      "\t-0.0\t = Validation score   (median_absolute_error)\n",
      "\t52.6s\t = Training   runtime\n",
      "\t0.01s\t = Validation runtime\n",
      "Fitting model: LightGBMLarge ... Training model for up to 17939.66s of the 17939.66s of remaining time.\n",
      "\t-19.817\t = Validation score   (median_absolute_error)\n",
      "\t1.02s\t = Training   runtime\n",
      "\t0.0s\t = Validation runtime\n",
      "Fitting model: WeightedEnsemble_L2 ... Training model for up to 1799.99s of the 17938.13s of remaining time.\n",
      "\t-0.0\t = Validation score   (median_absolute_error)\n",
      "\t0.31s\t = Training   runtime\n",
      "\t0.0s\t = Validation runtime\n",
      "AutoGluon training complete, total runtime = 62.44s ... Best model: \"WeightedEnsemble_L2\"\n",
      "TabularPredictor saved. To load, use: predictor = TabularPredictor.load(\"agModels/\")\n"
     ]
    }
   ],
   "source": [
    "predictor = TabularPredictor(label=label, path=save_path, eval_metric='median_absolute_error').fit(df_train, time_limit=18000)"
   ]
  },
  {
   "cell_type": "code",
   "execution_count": 11,
   "id": "d7327254-a7dc-44c6-b141-56088cf9fbb9",
   "metadata": {},
   "outputs": [],
   "source": [
    "test_data = df[df[\"days\"] >= 180]"
   ]
  },
  {
   "cell_type": "code",
   "execution_count": 12,
   "id": "6ce7a879-83e2-413b-80b8-10a4c5e3e728",
   "metadata": {},
   "outputs": [],
   "source": [
    "df_test = TabularDataset(test_data)"
   ]
  },
  {
   "cell_type": "code",
   "execution_count": 13,
   "id": "ca35a04b-8469-42f1-88ab-2bab4a69e68b",
   "metadata": {},
   "outputs": [],
   "source": [
    "# values to predict\n",
    "y_test = df_test[label]  "
   ]
  },
  {
   "cell_type": "code",
   "execution_count": 14,
   "id": "5658d422-bffa-4e03-b423-11c79fd3d79a",
   "metadata": {},
   "outputs": [],
   "source": [
    "# delete label column to prove we're not cheating\n",
    "test_data_nolab = df_test.drop(columns=[label])  "
   ]
  },
  {
   "cell_type": "code",
   "execution_count": 15,
   "id": "b9c12c0c-6b65-489c-bd05-56f3e6ff955a",
   "metadata": {},
   "outputs": [
    {
     "data": {
      "text/html": [
       "<div>\n",
       "<style scoped>\n",
       "    .dataframe tbody tr th:only-of-type {\n",
       "        vertical-align: middle;\n",
       "    }\n",
       "\n",
       "    .dataframe tbody tr th {\n",
       "        vertical-align: top;\n",
       "    }\n",
       "\n",
       "    .dataframe thead th {\n",
       "        text-align: right;\n",
       "    }\n",
       "</style>\n",
       "<table border=\"1\" class=\"dataframe\">\n",
       "  <thead>\n",
       "    <tr style=\"text-align: right;\">\n",
       "      <th></th>\n",
       "      <th>PayerId</th>\n",
       "      <th>ReceiverId</th>\n",
       "      <th>days</th>\n",
       "      <th>amount</th>\n",
       "    </tr>\n",
       "  </thead>\n",
       "  <tbody>\n",
       "    <tr>\n",
       "      <th>627</th>\n",
       "      <td>174</td>\n",
       "      <td>82</td>\n",
       "      <td>182</td>\n",
       "      <td>1792.46</td>\n",
       "    </tr>\n",
       "    <tr>\n",
       "      <th>628</th>\n",
       "      <td>187</td>\n",
       "      <td>55</td>\n",
       "      <td>182</td>\n",
       "      <td>725.46</td>\n",
       "    </tr>\n",
       "    <tr>\n",
       "      <th>629</th>\n",
       "      <td>173</td>\n",
       "      <td>35</td>\n",
       "      <td>183</td>\n",
       "      <td>5220.00</td>\n",
       "    </tr>\n",
       "    <tr>\n",
       "      <th>630</th>\n",
       "      <td>110</td>\n",
       "      <td>46</td>\n",
       "      <td>183</td>\n",
       "      <td>4035.06</td>\n",
       "    </tr>\n",
       "    <tr>\n",
       "      <th>631</th>\n",
       "      <td>199</td>\n",
       "      <td>46</td>\n",
       "      <td>183</td>\n",
       "      <td>1490.26</td>\n",
       "    </tr>\n",
       "  </tbody>\n",
       "</table>\n",
       "</div>"
      ],
      "text/plain": [
       "     PayerId  ReceiverId  days   amount\n",
       "627      174          82   182  1792.46\n",
       "628      187          55   182   725.46\n",
       "629      173          35   183  5220.00\n",
       "630      110          46   183  4035.06\n",
       "631      199          46   183  1490.26"
      ]
     },
     "execution_count": 15,
     "metadata": {},
     "output_type": "execute_result"
    }
   ],
   "source": [
    "test_data_nolab.head()"
   ]
  },
  {
   "cell_type": "code",
   "execution_count": 16,
   "id": "c8231538-266e-47b0-9838-142e71672b96",
   "metadata": {},
   "outputs": [],
   "source": [
    "predictor = TabularPredictor.load(save_path)  "
   ]
  },
  {
   "cell_type": "code",
   "execution_count": 17,
   "id": "2e319bab-1554-429e-a7f3-7a1fbd2c70ba",
   "metadata": {},
   "outputs": [
    {
     "name": "stdout",
     "output_type": "stream",
     "text": [
      "Predictions:  \n",
      " 627       0.000000\n",
      "628       0.000000\n",
      "629    3007.909912\n",
      "630       0.000000\n",
      "631       0.000000\n",
      "          ...     \n",
      "886       0.000000\n",
      "887       0.000000\n",
      "888       0.000000\n",
      "889    8965.536133\n",
      "890       0.000000\n",
      "Name: amountfinancedByXepelin, Length: 264, dtype: float32\n"
     ]
    }
   ],
   "source": [
    "y_pred = predictor.predict(test_data_nolab)\n",
    "print(\"Predictions:  \\n\", y_pred)"
   ]
  },
  {
   "cell_type": "code",
   "execution_count": 18,
   "id": "a40d50cb-361a-47b6-9ab8-6a0a1ba36353",
   "metadata": {},
   "outputs": [
    {
     "name": "stderr",
     "output_type": "stream",
     "text": [
      "Evaluation: median_absolute_error on test data: -0.0\n",
      "Evaluations on test data:\n",
      "{\n",
      "    \"median_absolute_error\": -0.0,\n",
      "    \"root_mean_squared_error\": -19700.152125374647,\n",
      "    \"mean_squared_error\": -388095993.76290315,\n",
      "    \"mean_absolute_error\": -5263.93818773443,\n",
      "    \"r2\": 0.8635079385813069,\n",
      "    \"pearsonr\": 0.953817621224473\n",
      "}\n"
     ]
    }
   ],
   "source": [
    "perf = predictor.evaluate_predictions(y_true=y_test, y_pred=y_pred, auxiliary_metrics=True)"
   ]
  },
  {
   "cell_type": "code",
   "execution_count": 19,
   "id": "0d15a516-ee8a-4abd-8964-559bca28fa43",
   "metadata": {},
   "outputs": [
    {
     "data": {
      "text/html": [
       "<div>\n",
       "<style scoped>\n",
       "    .dataframe tbody tr th:only-of-type {\n",
       "        vertical-align: middle;\n",
       "    }\n",
       "\n",
       "    .dataframe tbody tr th {\n",
       "        vertical-align: top;\n",
       "    }\n",
       "\n",
       "    .dataframe thead th {\n",
       "        text-align: right;\n",
       "    }\n",
       "</style>\n",
       "<table border=\"1\" class=\"dataframe\">\n",
       "  <thead>\n",
       "    <tr style=\"text-align: right;\">\n",
       "      <th></th>\n",
       "      <th>test</th>\n",
       "      <th>prediction</th>\n",
       "      <th>residual</th>\n",
       "    </tr>\n",
       "  </thead>\n",
       "  <tbody>\n",
       "    <tr>\n",
       "      <th>627</th>\n",
       "      <td>0.0</td>\n",
       "      <td>0.000000</td>\n",
       "      <td>0.000000</td>\n",
       "    </tr>\n",
       "    <tr>\n",
       "      <th>628</th>\n",
       "      <td>0.0</td>\n",
       "      <td>0.000000</td>\n",
       "      <td>0.000000</td>\n",
       "    </tr>\n",
       "    <tr>\n",
       "      <th>629</th>\n",
       "      <td>5220.0</td>\n",
       "      <td>3007.909912</td>\n",
       "      <td>2212.090088</td>\n",
       "    </tr>\n",
       "    <tr>\n",
       "      <th>630</th>\n",
       "      <td>0.0</td>\n",
       "      <td>0.000000</td>\n",
       "      <td>0.000000</td>\n",
       "    </tr>\n",
       "    <tr>\n",
       "      <th>631</th>\n",
       "      <td>0.0</td>\n",
       "      <td>0.000000</td>\n",
       "      <td>0.000000</td>\n",
       "    </tr>\n",
       "  </tbody>\n",
       "</table>\n",
       "</div>"
      ],
      "text/plain": [
       "       test   prediction     residual\n",
       "627     0.0     0.000000     0.000000\n",
       "628     0.0     0.000000     0.000000\n",
       "629  5220.0  3007.909912  2212.090088\n",
       "630     0.0     0.000000     0.000000\n",
       "631     0.0     0.000000     0.000000"
      ]
     },
     "execution_count": 19,
     "metadata": {},
     "output_type": "execute_result"
    }
   ],
   "source": [
    "# Predictions and test data set\n",
    "df_test_pred = pd.concat([y_test, y_pred], axis=1)\n",
    "df_test_pred.columns = ['test', 'prediction']\n",
    "df_test_pred['residual'] = df_test_pred['test'] - df_test_pred['prediction']\n",
    "df_test_pred.head()"
   ]
  },
  {
   "cell_type": "code",
   "execution_count": 20,
   "id": "72c1bf6e-ad0b-47ae-91a4-8a27ecfaa837",
   "metadata": {},
   "outputs": [
    {
     "data": {
      "text/plain": [
       "Text(0, 0.5, 'Predicted values')"
      ]
     },
     "execution_count": 20,
     "metadata": {},
     "output_type": "execute_result"
    },
    {
     "data": {
      "image/png": "[encoded data removed]",
      "text/plain": [
       "<Figure size 432x288 with 1 Axes>"
      ]
     },
     "metadata": {
      "needs_background": "light"
     },
     "output_type": "display_data"
    }
   ],
   "source": [
    "sns.regplot(x=y_test, y=y_pred);\n",
    "plt.xlabel('Test values')\n",
    "plt.ylabel('Predicted values')"
   ]
  },
  {
   "cell_type": "code",
   "execution_count": 21,
   "id": "b7625a89-18c2-4c5d-b523-7c2b12be1cec",
   "metadata": {},
   "outputs": [
    {
     "data": {
      "text/html": [
       "<div>\n",
       "<style scoped>\n",
       "    .dataframe tbody tr th:only-of-type {\n",
       "        vertical-align: middle;\n",
       "    }\n",
       "\n",
       "    .dataframe tbody tr th {\n",
       "        vertical-align: top;\n",
       "    }\n",
       "\n",
       "    .dataframe thead th {\n",
       "        text-align: right;\n",
       "    }\n",
       "</style>\n",
       "<table border=\"1\" class=\"dataframe\">\n",
       "  <thead>\n",
       "    <tr style=\"text-align: right;\">\n",
       "      <th></th>\n",
       "      <th>model</th>\n",
       "      <th>score_test</th>\n",
       "      <th>score_val</th>\n",
       "      <th>pred_time_test</th>\n",
       "      <th>pred_time_val</th>\n",
       "      <th>fit_time</th>\n",
       "      <th>pred_time_test_marginal</th>\n",
       "      <th>pred_time_val_marginal</th>\n",
       "      <th>fit_time_marginal</th>\n",
       "      <th>stack_level</th>\n",
       "      <th>can_infer</th>\n",
       "      <th>fit_order</th>\n",
       "    </tr>\n",
       "  </thead>\n",
       "  <tbody>\n",
       "    <tr>\n",
       "      <th>0</th>\n",
       "      <td>KNeighborsUnif</td>\n",
       "      <td>-0.000000e+00</td>\n",
       "      <td>-0.000000e+00</td>\n",
       "      <td>0.007846</td>\n",
       "      <td>0.007867</td>\n",
       "      <td>0.005641</td>\n",
       "      <td>0.007846</td>\n",
       "      <td>0.007867</td>\n",
       "      <td>0.005641</td>\n",
       "      <td>1</td>\n",
       "      <td>True</td>\n",
       "      <td>1</td>\n",
       "    </tr>\n",
       "    <tr>\n",
       "      <th>1</th>\n",
       "      <td>KNeighborsDist</td>\n",
       "      <td>-0.000000e+00</td>\n",
       "      <td>-0.000000e+00</td>\n",
       "      <td>0.008288</td>\n",
       "      <td>0.006966</td>\n",
       "      <td>0.004221</td>\n",
       "      <td>0.008288</td>\n",
       "      <td>0.006966</td>\n",
       "      <td>0.004221</td>\n",
       "      <td>1</td>\n",
       "      <td>True</td>\n",
       "      <td>2</td>\n",
       "    </tr>\n",
       "    <tr>\n",
       "      <th>2</th>\n",
       "      <td>WeightedEnsemble_L2</td>\n",
       "      <td>-0.000000e+00</td>\n",
       "      <td>-0.000000e+00</td>\n",
       "      <td>0.011280</td>\n",
       "      <td>0.008304</td>\n",
       "      <td>0.316850</td>\n",
       "      <td>0.003434</td>\n",
       "      <td>0.000437</td>\n",
       "      <td>0.311209</td>\n",
       "      <td>2</td>\n",
       "      <td>True</td>\n",
       "      <td>12</td>\n",
       "    </tr>\n",
       "    <tr>\n",
       "      <th>3</th>\n",
       "      <td>ExtraTreesMSE</td>\n",
       "      <td>-0.000000e+00</td>\n",
       "      <td>-3.333367e+00</td>\n",
       "      <td>0.080320</td>\n",
       "      <td>0.067772</td>\n",
       "      <td>0.579705</td>\n",
       "      <td>0.080320</td>\n",
       "      <td>0.067772</td>\n",
       "      <td>0.579705</td>\n",
       "      <td>1</td>\n",
       "      <td>True</td>\n",
       "      <td>7</td>\n",
       "    </tr>\n",
       "    <tr>\n",
       "      <th>4</th>\n",
       "      <td>RandomForestMSE</td>\n",
       "      <td>-0.000000e+00</td>\n",
       "      <td>-0.000000e+00</td>\n",
       "      <td>0.082136</td>\n",
       "      <td>0.069108</td>\n",
       "      <td>0.610659</td>\n",
       "      <td>0.082136</td>\n",
       "      <td>0.069108</td>\n",
       "      <td>0.610659</td>\n",
       "      <td>1</td>\n",
       "      <td>True</td>\n",
       "      <td>5</td>\n",
       "    </tr>\n",
       "    <tr>\n",
       "      <th>5</th>\n",
       "      <td>NeuralNetTorch</td>\n",
       "      <td>-5.607631e-11</td>\n",
       "      <td>-6.060819e-11</td>\n",
       "      <td>0.042833</td>\n",
       "      <td>0.007909</td>\n",
       "      <td>52.599801</td>\n",
       "      <td>0.042833</td>\n",
       "      <td>0.007909</td>\n",
       "      <td>52.599801</td>\n",
       "      <td>1</td>\n",
       "      <td>True</td>\n",
       "      <td>10</td>\n",
       "    </tr>\n",
       "    <tr>\n",
       "      <th>6</th>\n",
       "      <td>XGBoost</td>\n",
       "      <td>-5.982359e-01</td>\n",
       "      <td>-5.982359e-01</td>\n",
       "      <td>0.008949</td>\n",
       "      <td>0.005622</td>\n",
       "      <td>0.428714</td>\n",
       "      <td>0.008949</td>\n",
       "      <td>0.005622</td>\n",
       "      <td>0.428714</td>\n",
       "      <td>1</td>\n",
       "      <td>True</td>\n",
       "      <td>9</td>\n",
       "    </tr>\n",
       "    <tr>\n",
       "      <th>7</th>\n",
       "      <td>LightGBMLarge</td>\n",
       "      <td>-1.326024e+01</td>\n",
       "      <td>-1.981702e+01</td>\n",
       "      <td>0.018182</td>\n",
       "      <td>0.004134</td>\n",
       "      <td>1.018121</td>\n",
       "      <td>0.018182</td>\n",
       "      <td>0.004134</td>\n",
       "      <td>1.018121</td>\n",
       "      <td>1</td>\n",
       "      <td>True</td>\n",
       "      <td>11</td>\n",
       "    </tr>\n",
       "    <tr>\n",
       "      <th>8</th>\n",
       "      <td>LightGBM</td>\n",
       "      <td>-1.274595e+02</td>\n",
       "      <td>-1.974680e+02</td>\n",
       "      <td>0.008081</td>\n",
       "      <td>0.003095</td>\n",
       "      <td>0.415765</td>\n",
       "      <td>0.008081</td>\n",
       "      <td>0.003095</td>\n",
       "      <td>0.415765</td>\n",
       "      <td>1</td>\n",
       "      <td>True</td>\n",
       "      <td>4</td>\n",
       "    </tr>\n",
       "    <tr>\n",
       "      <th>9</th>\n",
       "      <td>CatBoost</td>\n",
       "      <td>-4.557222e+02</td>\n",
       "      <td>-6.634815e+02</td>\n",
       "      <td>0.004380</td>\n",
       "      <td>0.001828</td>\n",
       "      <td>2.321536</td>\n",
       "      <td>0.004380</td>\n",
       "      <td>0.001828</td>\n",
       "      <td>2.321536</td>\n",
       "      <td>1</td>\n",
       "      <td>True</td>\n",
       "      <td>6</td>\n",
       "    </tr>\n",
       "    <tr>\n",
       "      <th>10</th>\n",
       "      <td>LightGBMXT</td>\n",
       "      <td>-1.285318e+03</td>\n",
       "      <td>-1.192176e+03</td>\n",
       "      <td>0.004850</td>\n",
       "      <td>0.002696</td>\n",
       "      <td>0.791391</td>\n",
       "      <td>0.004850</td>\n",
       "      <td>0.002696</td>\n",
       "      <td>0.791391</td>\n",
       "      <td>1</td>\n",
       "      <td>True</td>\n",
       "      <td>3</td>\n",
       "    </tr>\n",
       "    <tr>\n",
       "      <th>11</th>\n",
       "      <td>NeuralNetFastAI</td>\n",
       "      <td>-2.900670e+03</td>\n",
       "      <td>-3.202689e+03</td>\n",
       "      <td>0.026952</td>\n",
       "      <td>0.009692</td>\n",
       "      <td>1.376636</td>\n",
       "      <td>0.026952</td>\n",
       "      <td>0.009692</td>\n",
       "      <td>1.376636</td>\n",
       "      <td>1</td>\n",
       "      <td>True</td>\n",
       "      <td>8</td>\n",
       "    </tr>\n",
       "  </tbody>\n",
       "</table>\n",
       "</div>"
      ],
      "text/plain": [
       "                  model    score_test     score_val  pred_time_test  \\\n",
       "0        KNeighborsUnif -0.000000e+00 -0.000000e+00        0.007846   \n",
       "1        KNeighborsDist -0.000000e+00 -0.000000e+00        0.008288   \n",
       "2   WeightedEnsemble_L2 -0.000000e+00 -0.000000e+00        0.011280   \n",
       "3         ExtraTreesMSE -0.000000e+00 -3.333367e+00        0.080320   \n",
       "4       RandomForestMSE -0.000000e+00 -0.000000e+00        0.082136   \n",
       "5        NeuralNetTorch -5.607631e-11 -6.060819e-11        0.042833   \n",
       "6               XGBoost -5.982359e-01 -5.982359e-01        0.008949   \n",
       "7         LightGBMLarge -1.326024e+01 -1.981702e+01        0.018182   \n",
       "8              LightGBM -1.274595e+02 -1.974680e+02        0.008081   \n",
       "9              CatBoost -4.557222e+02 -6.634815e+02        0.004380   \n",
       "10           LightGBMXT -1.285318e+03 -1.192176e+03        0.004850   \n",
       "11      NeuralNetFastAI -2.900670e+03 -3.202689e+03        0.026952   \n",
       "\n",
       "    pred_time_val   fit_time  pred_time_test_marginal  pred_time_val_marginal  \\\n",
       "0        0.007867   0.005641                 0.007846                0.007867   \n",
       "1        0.006966   0.004221                 0.008288                0.006966   \n",
       "2        0.008304   0.316850                 0.003434                0.000437   \n",
       "3        0.067772   0.579705                 0.080320                0.067772   \n",
       "4        0.069108   0.610659                 0.082136                0.069108   \n",
       "5        0.007909  52.599801                 0.042833                0.007909   \n",
       "6        0.005622   0.428714                 0.008949                0.005622   \n",
       "7        0.004134   1.018121                 0.018182                0.004134   \n",
       "8        0.003095   0.415765                 0.008081                0.003095   \n",
       "9        0.001828   2.321536                 0.004380                0.001828   \n",
       "10       0.002696   0.791391                 0.004850                0.002696   \n",
       "11       0.009692   1.376636                 0.026952                0.009692   \n",
       "\n",
       "    fit_time_marginal  stack_level  can_infer  fit_order  \n",
       "0            0.005641            1       True          1  \n",
       "1            0.004221            1       True          2  \n",
       "2            0.311209            2       True         12  \n",
       "3            0.579705            1       True          7  \n",
       "4            0.610659            1       True          5  \n",
       "5           52.599801            1       True         10  \n",
       "6            0.428714            1       True          9  \n",
       "7            1.018121            1       True         11  \n",
       "8            0.415765            1       True          4  \n",
       "9            2.321536            1       True          6  \n",
       "10           0.791391            1       True          3  \n",
       "11           1.376636            1       True          8  "
      ]
     },
     "execution_count": 21,
     "metadata": {},
     "output_type": "execute_result"
    }
   ],
   "source": [
    "predictor.leaderboard(test_data, silent=True)"
   ]
  },
  {
   "cell_type": "code",
   "execution_count": 22,
   "id": "3aeca123-7665-4b1c-8778-6a73547a164c",
   "metadata": {},
   "outputs": [
    {
     "name": "stdout",
     "output_type": "stream",
     "text": [
      "MAE: 5263.93818773443\n",
      "MSE: 388095993.76290315\n",
      "RMSE: 19700.152125374647\n"
     ]
    }
   ],
   "source": [
    "# Metrics\n",
    "from sklearn import metrics\n",
    "\n",
    "print('MAE:', metrics.mean_absolute_error(y_test, y_pred))\n",
    "print('MSE:', metrics.mean_squared_error(y_test, y_pred))\n",
    "print('RMSE:', np.sqrt(metrics.mean_squared_error(y_test, y_pred)))"
   ]
  },
  {
   "cell_type": "code",
   "execution_count": 23,
   "id": "d82d3c4c-6750-4173-b337-2ea877ec6a03",
   "metadata": {},
   "outputs": [
    {
     "data": {
      "image/png": "[encoded data removed]",
      "text/plain": [
       "<Figure size 432x288 with 1 Axes>"
      ]
     },
     "metadata": {
      "needs_background": "light"
     },
     "output_type": "display_data"
    }
   ],
   "source": [
    "# Distributions of residuals\n",
    "sns.histplot(data=df_test_pred, x='residual', kde=True, bins=30);"
   ]
  },
  {
   "cell_type": "code",
   "execution_count": 24,
   "id": "ffc84ed1-1829-4f6b-8aaa-9205de2733ad",
   "metadata": {},
   "outputs": [
    {
     "name": "stderr",
     "output_type": "stream",
     "text": [
      "Computing feature importance via permutation shuffling for 4 features using 264 rows with 5 shuffle sets...\n",
      "\t0.38s\t= Expected runtime (0.08s per shuffle set)\n",
      "\t0.11s\t= Actual runtime (Completed 5 of 5 shuffle sets)\n"
     ]
    },
    {
     "data": {
      "text/html": [
       "<div>\n",
       "<style scoped>\n",
       "    .dataframe tbody tr th:only-of-type {\n",
       "        vertical-align: middle;\n",
       "    }\n",
       "\n",
       "    .dataframe tbody tr th {\n",
       "        vertical-align: top;\n",
       "    }\n",
       "\n",
       "    .dataframe thead th {\n",
       "        text-align: right;\n",
       "    }\n",
       "</style>\n",
       "<table border=\"1\" class=\"dataframe\">\n",
       "  <thead>\n",
       "    <tr style=\"text-align: right;\">\n",
       "      <th></th>\n",
       "      <th>importance</th>\n",
       "      <th>stddev</th>\n",
       "      <th>p_value</th>\n",
       "      <th>n</th>\n",
       "      <th>p99_high</th>\n",
       "      <th>p99_low</th>\n",
       "    </tr>\n",
       "  </thead>\n",
       "  <tbody>\n",
       "    <tr>\n",
       "      <th>PayerId</th>\n",
       "      <td>0.0</td>\n",
       "      <td>0.0</td>\n",
       "      <td>0.5</td>\n",
       "      <td>5</td>\n",
       "      <td>0.0</td>\n",
       "      <td>0.0</td>\n",
       "    </tr>\n",
       "    <tr>\n",
       "      <th>ReceiverId</th>\n",
       "      <td>0.0</td>\n",
       "      <td>0.0</td>\n",
       "      <td>0.5</td>\n",
       "      <td>5</td>\n",
       "      <td>0.0</td>\n",
       "      <td>0.0</td>\n",
       "    </tr>\n",
       "    <tr>\n",
       "      <th>days</th>\n",
       "      <td>0.0</td>\n",
       "      <td>0.0</td>\n",
       "      <td>0.5</td>\n",
       "      <td>5</td>\n",
       "      <td>0.0</td>\n",
       "      <td>0.0</td>\n",
       "    </tr>\n",
       "    <tr>\n",
       "      <th>amount</th>\n",
       "      <td>0.0</td>\n",
       "      <td>0.0</td>\n",
       "      <td>0.5</td>\n",
       "      <td>5</td>\n",
       "      <td>0.0</td>\n",
       "      <td>0.0</td>\n",
       "    </tr>\n",
       "  </tbody>\n",
       "</table>\n",
       "</div>"
      ],
      "text/plain": [
       "            importance  stddev  p_value  n  p99_high  p99_low\n",
       "PayerId            0.0     0.0      0.5  5       0.0      0.0\n",
       "ReceiverId         0.0     0.0      0.5  5       0.0      0.0\n",
       "days               0.0     0.0      0.5  5       0.0      0.0\n",
       "amount             0.0     0.0      0.5  5       0.0      0.0"
      ]
     },
     "execution_count": 24,
     "metadata": {},
     "output_type": "execute_result"
    }
   ],
   "source": [
    "f_importance = predictor.feature_importance(df_test)\n",
    "f_importance.head()"
   ]
  }
 ],
 "metadata": {
  "kernelspec": {
   "display_name": "Python 3 (ipykernel)",
   "language": "python",
   "name": "python3"
  },
  "language_info": {
   "codemirror_mode": {
    "name": "ipython",
    "version": 3
   },
   "file_extension": ".py",
   "mimetype": "text/x-python",
   "name": "python",
   "nbconvert_exporter": "python",
   "pygments_lexer": "ipython3",
   "version": "3.8.10"
  }
 },
 "nbformat": 4,
 "nbformat_minor": 5
}
