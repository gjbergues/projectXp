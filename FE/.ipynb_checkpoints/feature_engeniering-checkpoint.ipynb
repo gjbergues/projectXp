{
 "cells": [
  {
   "cell_type": "markdown",
   "id": "8677afa4-7ff6-48ff-b624-287c6d1bf364",
   "metadata": {},
   "source": [
    "<div align=\"center\">\n",
    "    <img src='../xepimage.png' style='height:100px;'>\n",
    "</div>\n",
    "\n",
    "\n",
    "<center><h1 style='font-size:25px'>Feature engenieering</h1></center>\n",
    "\n",
    "---\n",
    "\n",
    "**Autor: Guillermo J. Bergues**\n",
    "\n",
    "* PayerId = Id de la empresa que va a realizar el pago\n",
    "* ReceiverId\n",
    "* invoiceId\n",
    "* paidAt\n",
    "* amount = Monto de la factura pagada\n",
    "* amountfinancedByXepelin =  Monto de la factura que Xepelin financió al pagador para realizar la transacción\n",
    "* Status =  Estado de cada transacción Pagada, Procesando, Fallida."
   ]
  },
  {
   "cell_type": "code",
   "execution_count": 1,
   "id": "b5d43bda-ea99-4cfa-80e6-a20312dc3b65",
   "metadata": {},
   "outputs": [],
   "source": [
    "import pandas as pd\n",
    "import numpy as np\n",
    "import seaborn as sns\n",
    "\n",
    "from datetime import datetime\n",
    "\n",
    "# Scaling the numeric values in the dataset\n",
    "from sklearn.preprocessing import StandardScaler"
   ]
  },
  {
   "cell_type": "code",
   "execution_count": 3,
   "id": "08dd00a7-b109-498b-9439-5a5ce0fc70b8",
   "metadata": {},
   "outputs": [],
   "source": [
    "# Read data set\n",
    "df = pd.read_csv ('../Data/data_set.csv')"
   ]
  },
  {
   "cell_type": "markdown",
   "id": "3e6a858b-6738-4508-bdd0-50c15f1faa7c",
   "metadata": {},
   "source": [
    "# Prepare data set for Model"
   ]
  },
  {
   "cell_type": "code",
   "execution_count": 4,
   "id": "dac5e375-83bb-47ef-977d-b08512782649",
   "metadata": {},
   "outputs": [],
   "source": [
    "# Drop null values\n",
    "# We need to process the PAID transactions.\n",
    "df.dropna(inplace = True)"
   ]
  },
  {
   "cell_type": "markdown",
   "id": "3541e596-ff58-400f-ae3c-6711d232d769",
   "metadata": {},
   "source": [
    "I cannot add the transactions in process and failed to the model."
   ]
  },
  {
   "cell_type": "code",
   "execution_count": 5,
   "id": "9deab05a-ba48-49c3-8fca-bb3573061072",
   "metadata": {},
   "outputs": [],
   "source": [
    "# Drop columns\n",
    "df.drop(['invoiceId', 'status'], axis=1, inplace=True)"
   ]
  },
  {
   "cell_type": "markdown",
   "id": "c12a617f-f629-4963-a11c-8cee8e233572",
   "metadata": {},
   "source": [
    "status doesn't add information to the model, id does not go in."
   ]
  },
  {
   "cell_type": "markdown",
   "id": "6d9e481c-5600-4fb3-9cf9-27144447ee5e",
   "metadata": {},
   "source": [
    "# Time"
   ]
  },
  {
   "cell_type": "code",
   "execution_count": 6,
   "id": "d215c506-784f-403c-b849-2fb0ce7fdb76",
   "metadata": {},
   "outputs": [],
   "source": [
    "def time_fe(df):\n",
    "    # Convert to string\n",
    "    df.paidAt = df.paidAt.astype(\"str\")\n",
    "    # Arrange date column\n",
    "    df[\"paidAt\"] = df[\"paidAt\"].astype(str).str[:-9]\n",
    "    df['paidAt'] = pd.to_datetime(df['paidAt'], format='%Y-%m-%d')\n",
    "    df['paidAt'] = df['paidAt'] - min(df['paidAt'])\n",
    "    df['paidAt'] = df['paidAt'].dt.days\n",
    "    df.rename(columns={'paidAt': 'days'}, inplace=True)\n",
    "    return df "
   ]
  },
  {
   "cell_type": "code",
   "execution_count": 7,
   "id": "82c9f383-a669-46bd-bdfa-42b4c3dc329d",
   "metadata": {},
   "outputs": [],
   "source": [
    "df = time_fe(df)"
   ]
  },
  {
   "cell_type": "code",
   "execution_count": 8,
   "id": "d220a7c0-551b-4ab3-b5c3-1989d407905d",
   "metadata": {},
   "outputs": [
    {
     "data": {
      "text/html": [
       "<div>\n",
       "<style scoped>\n",
       "    .dataframe tbody tr th:only-of-type {\n",
       "        vertical-align: middle;\n",
       "    }\n",
       "\n",
       "    .dataframe tbody tr th {\n",
       "        vertical-align: top;\n",
       "    }\n",
       "\n",
       "    .dataframe thead th {\n",
       "        text-align: right;\n",
       "    }\n",
       "</style>\n",
       "<table border=\"1\" class=\"dataframe\">\n",
       "  <thead>\n",
       "    <tr style=\"text-align: right;\">\n",
       "      <th></th>\n",
       "      <th>PayerId</th>\n",
       "      <th>ReceiverId</th>\n",
       "      <th>days</th>\n",
       "      <th>amount</th>\n",
       "      <th>amountfinancedByXepelin</th>\n",
       "    </tr>\n",
       "  </thead>\n",
       "  <tbody>\n",
       "    <tr>\n",
       "      <th>0</th>\n",
       "      <td>53</td>\n",
       "      <td>10</td>\n",
       "      <td>196</td>\n",
       "      <td>1490.46</td>\n",
       "      <td>0.00</td>\n",
       "    </tr>\n",
       "    <tr>\n",
       "      <th>1</th>\n",
       "      <td>93</td>\n",
       "      <td>11</td>\n",
       "      <td>42</td>\n",
       "      <td>6418.28</td>\n",
       "      <td>624.48</td>\n",
       "    </tr>\n",
       "    <tr>\n",
       "      <th>2</th>\n",
       "      <td>122</td>\n",
       "      <td>12</td>\n",
       "      <td>10</td>\n",
       "      <td>27979.20</td>\n",
       "      <td>10520.15</td>\n",
       "    </tr>\n",
       "    <tr>\n",
       "      <th>3</th>\n",
       "      <td>85</td>\n",
       "      <td>13</td>\n",
       "      <td>35</td>\n",
       "      <td>183070.77</td>\n",
       "      <td>79421.63</td>\n",
       "    </tr>\n",
       "    <tr>\n",
       "      <th>4</th>\n",
       "      <td>87</td>\n",
       "      <td>14</td>\n",
       "      <td>165</td>\n",
       "      <td>20532.00</td>\n",
       "      <td>20532.00</td>\n",
       "    </tr>\n",
       "  </tbody>\n",
       "</table>\n",
       "</div>"
      ],
      "text/plain": [
       "   PayerId  ReceiverId  days     amount  amountfinancedByXepelin\n",
       "0       53          10   196    1490.46                     0.00\n",
       "1       93          11    42    6418.28                   624.48\n",
       "2      122          12    10   27979.20                 10520.15\n",
       "3       85          13    35  183070.77                 79421.63\n",
       "4       87          14   165   20532.00                 20532.00"
      ]
     },
     "execution_count": 8,
     "metadata": {},
     "output_type": "execute_result"
    }
   ],
   "source": [
    "df.head()"
   ]
  },
  {
   "cell_type": "code",
   "execution_count": 9,
   "id": "b099e5dd-e6f4-46c5-8828-bfa9bf798453",
   "metadata": {},
   "outputs": [],
   "source": [
    "# Change data type in two columns\n",
    "change_type = ['PayerId', 'ReceiverId',]\n",
    "df[change_type] = df[change_type].astype(\"int\")"
   ]
  },
  {
   "cell_type": "code",
   "execution_count": 10,
   "id": "04bc5d64-9bc0-4db8-bb8f-24de87fc843d",
   "metadata": {},
   "outputs": [],
   "source": [
    "df = df.sort_values(by=[\"days\"]) "
   ]
  },
  {
   "cell_type": "code",
   "execution_count": 11,
   "id": "1ae59392-1d3b-4968-b617-b897aad23fdc",
   "metadata": {},
   "outputs": [
    {
     "data": {
      "text/html": [
       "<div>\n",
       "<style scoped>\n",
       "    .dataframe tbody tr th:only-of-type {\n",
       "        vertical-align: middle;\n",
       "    }\n",
       "\n",
       "    .dataframe tbody tr th {\n",
       "        vertical-align: top;\n",
       "    }\n",
       "\n",
       "    .dataframe thead th {\n",
       "        text-align: right;\n",
       "    }\n",
       "</style>\n",
       "<table border=\"1\" class=\"dataframe\">\n",
       "  <thead>\n",
       "    <tr style=\"text-align: right;\">\n",
       "      <th></th>\n",
       "      <th>PayerId</th>\n",
       "      <th>ReceiverId</th>\n",
       "      <th>days</th>\n",
       "      <th>amount</th>\n",
       "      <th>amountfinancedByXepelin</th>\n",
       "    </tr>\n",
       "  </thead>\n",
       "  <tbody>\n",
       "    <tr>\n",
       "      <th>9</th>\n",
       "      <td>151</td>\n",
       "      <td>19</td>\n",
       "      <td>0</td>\n",
       "      <td>1490.46</td>\n",
       "      <td>0.00</td>\n",
       "    </tr>\n",
       "    <tr>\n",
       "      <th>8</th>\n",
       "      <td>126</td>\n",
       "      <td>18</td>\n",
       "      <td>0</td>\n",
       "      <td>920.26</td>\n",
       "      <td>0.00</td>\n",
       "    </tr>\n",
       "    <tr>\n",
       "      <th>15</th>\n",
       "      <td>114</td>\n",
       "      <td>37</td>\n",
       "      <td>7</td>\n",
       "      <td>4035.26</td>\n",
       "      <td>0.00</td>\n",
       "    </tr>\n",
       "    <tr>\n",
       "      <th>2</th>\n",
       "      <td>122</td>\n",
       "      <td>12</td>\n",
       "      <td>10</td>\n",
       "      <td>27979.20</td>\n",
       "      <td>10520.15</td>\n",
       "    </tr>\n",
       "    <tr>\n",
       "      <th>12</th>\n",
       "      <td>55</td>\n",
       "      <td>34</td>\n",
       "      <td>22</td>\n",
       "      <td>1477.46</td>\n",
       "      <td>0.00</td>\n",
       "    </tr>\n",
       "  </tbody>\n",
       "</table>\n",
       "</div>"
      ],
      "text/plain": [
       "    PayerId  ReceiverId  days    amount  amountfinancedByXepelin\n",
       "9       151          19     0   1490.46                     0.00\n",
       "8       126          18     0    920.26                     0.00\n",
       "15      114          37     7   4035.26                     0.00\n",
       "2       122          12    10  27979.20                 10520.15\n",
       "12       55          34    22   1477.46                     0.00"
      ]
     },
     "execution_count": 11,
     "metadata": {},
     "output_type": "execute_result"
    }
   ],
   "source": [
    "df.head()"
   ]
  },
  {
   "cell_type": "code",
   "execution_count": 12,
   "id": "c10ecc53-4826-44c4-b776-ac0c0f3c6428",
   "metadata": {},
   "outputs": [],
   "source": [
    "df.to_csv('../Data/ds_basic.csv', index=False)"
   ]
  },
  {
   "cell_type": "markdown",
   "id": "02a13b5e-f8ef-43ca-9b7a-32e43fc130cf",
   "metadata": {},
   "source": [
    "# DS without ouliers"
   ]
  },
  {
   "cell_type": "code",
   "execution_count": 13,
   "id": "94b40a3f-10f7-41f3-8d4b-90b82aa47f1b",
   "metadata": {},
   "outputs": [
    {
     "data": {
      "image/png": "[encoded data removed]",
      "text/plain": [
       "<Figure size 432x288 with 1 Axes>"
      ]
     },
     "metadata": {},
     "output_type": "display_data"
    }
   ],
   "source": [
    "sns.set_theme(style=\"whitegrid\")\n",
    "ax = sns.boxplot(x=df[\"amount\"])"
   ]
  },
  {
   "cell_type": "code",
   "execution_count": 14,
   "id": "14adf399-c2d2-4884-94e9-57d2c2e011ed",
   "metadata": {},
   "outputs": [],
   "source": [
    "df2 = df.copy()\n",
    "df2 = df2[df2['amount'] < 3000000]"
   ]
  },
  {
   "cell_type": "code",
   "execution_count": 15,
   "id": "c47eaeb7-789b-4db6-9aa6-c7119c19f9a8",
   "metadata": {},
   "outputs": [
    {
     "data": {
      "image/png": "[encoded data removed]",
      "text/plain": [
       "<Figure size 432x288 with 1 Axes>"
      ]
     },
     "metadata": {},
     "output_type": "display_data"
    }
   ],
   "source": [
    "sns.set_theme(style=\"whitegrid\")\n",
    "ax = sns.boxplot(x=df2[\"amount\"])"
   ]
  },
  {
   "cell_type": "code",
   "execution_count": 16,
   "id": "24ad19ef-c320-47b5-94c2-f2b9cd5acd5d",
   "metadata": {},
   "outputs": [],
   "source": [
    "df2 = df2.sort_values(by=[\"days\"]) "
   ]
  },
  {
   "cell_type": "code",
   "execution_count": 17,
   "id": "f73682e0-0036-463c-b0a6-088ff0201048",
   "metadata": {},
   "outputs": [],
   "source": [
    "df2.to_csv('../Data/ds_outliers.csv', index=False)"
   ]
  },
  {
   "cell_type": "markdown",
   "id": "67a715ce-69c3-4ce1-a0a6-34920b947e7a",
   "metadata": {},
   "source": [
    "# Scale numerical columns"
   ]
  },
  {
   "cell_type": "code",
   "execution_count": 18,
   "id": "352fa223-dea5-4376-bbb1-95e71ed6c0f4",
   "metadata": {},
   "outputs": [],
   "source": [
    "df3 = df.copy()"
   ]
  },
  {
   "cell_type": "code",
   "execution_count": 19,
   "id": "d3756daf-f09b-40ee-a4a4-fe3f67082f4e",
   "metadata": {},
   "outputs": [],
   "source": [
    "# Select columns to scale.\n",
    "num_df = df3[['amount', \n",
    "         'amountfinancedByXepelin']]"
   ]
  },
  {
   "cell_type": "code",
   "execution_count": 20,
   "id": "51e4750e-e1d8-44b5-9daa-6a0ba229ba91",
   "metadata": {},
   "outputs": [],
   "source": [
    "scaler = StandardScaler()\n",
    "scaled_data = scaler.fit_transform(num_df)"
   ]
  },
  {
   "cell_type": "code",
   "execution_count": 21,
   "id": "2ab03f02-b161-4d45-9ea2-b15a8feb94f7",
   "metadata": {},
   "outputs": [
    {
     "data": {
      "text/html": [
       "<div>\n",
       "<style scoped>\n",
       "    .dataframe tbody tr th:only-of-type {\n",
       "        vertical-align: middle;\n",
       "    }\n",
       "\n",
       "    .dataframe tbody tr th {\n",
       "        vertical-align: top;\n",
       "    }\n",
       "\n",
       "    .dataframe thead th {\n",
       "        text-align: right;\n",
       "    }\n",
       "</style>\n",
       "<table border=\"1\" class=\"dataframe\">\n",
       "  <thead>\n",
       "    <tr style=\"text-align: right;\">\n",
       "      <th></th>\n",
       "      <th>amount</th>\n",
       "      <th>amountfinancedByXepelin</th>\n",
       "    </tr>\n",
       "  </thead>\n",
       "  <tbody>\n",
       "    <tr>\n",
       "      <th>9</th>\n",
       "      <td>-0.189905</td>\n",
       "      <td>-0.140745</td>\n",
       "    </tr>\n",
       "    <tr>\n",
       "      <th>8</th>\n",
       "      <td>-0.193606</td>\n",
       "      <td>-0.140745</td>\n",
       "    </tr>\n",
       "    <tr>\n",
       "      <th>15</th>\n",
       "      <td>-0.173390</td>\n",
       "      <td>-0.140745</td>\n",
       "    </tr>\n",
       "    <tr>\n",
       "      <th>2</th>\n",
       "      <td>-0.017997</td>\n",
       "      <td>-0.060917</td>\n",
       "    </tr>\n",
       "    <tr>\n",
       "      <th>12</th>\n",
       "      <td>-0.189990</td>\n",
       "      <td>-0.140745</td>\n",
       "    </tr>\n",
       "  </tbody>\n",
       "</table>\n",
       "</div>"
      ],
      "text/plain": [
       "      amount  amountfinancedByXepelin\n",
       "9  -0.189905                -0.140745\n",
       "8  -0.193606                -0.140745\n",
       "15 -0.173390                -0.140745\n",
       "2  -0.017997                -0.060917\n",
       "12 -0.189990                -0.140745"
      ]
     },
     "execution_count": 21,
     "metadata": {},
     "output_type": "execute_result"
    }
   ],
   "source": [
    "scaled_num_df = pd.DataFrame(data = scaled_data, columns = num_df.columns, index = df3.index)\n",
    "scaled_num_df.head()"
   ]
  },
  {
   "cell_type": "code",
   "execution_count": 22,
   "id": "212a009e-d635-49cf-8b95-a404922cb12f",
   "metadata": {},
   "outputs": [],
   "source": [
    "# Drop old numerical and not scaled Data\n",
    "df3.drop(columns = scaled_num_df.columns, inplace = True)"
   ]
  },
  {
   "cell_type": "code",
   "execution_count": 23,
   "id": "6a33fb8a-ab9a-4036-ac35-7c7bccf9d907",
   "metadata": {},
   "outputs": [],
   "source": [
    "# Create new X_train with the scaled data.\n",
    "df3 = pd.concat([scaled_num_df, df3], axis = 1)"
   ]
  },
  {
   "cell_type": "code",
   "execution_count": 24,
   "id": "d83722af-abe0-48c9-82cf-3d520ce46839",
   "metadata": {},
   "outputs": [
    {
     "data": {
      "text/html": [
       "<div>\n",
       "<style scoped>\n",
       "    .dataframe tbody tr th:only-of-type {\n",
       "        vertical-align: middle;\n",
       "    }\n",
       "\n",
       "    .dataframe tbody tr th {\n",
       "        vertical-align: top;\n",
       "    }\n",
       "\n",
       "    .dataframe thead th {\n",
       "        text-align: right;\n",
       "    }\n",
       "</style>\n",
       "<table border=\"1\" class=\"dataframe\">\n",
       "  <thead>\n",
       "    <tr style=\"text-align: right;\">\n",
       "      <th></th>\n",
       "      <th>amount</th>\n",
       "      <th>amountfinancedByXepelin</th>\n",
       "      <th>PayerId</th>\n",
       "      <th>ReceiverId</th>\n",
       "      <th>days</th>\n",
       "    </tr>\n",
       "  </thead>\n",
       "  <tbody>\n",
       "    <tr>\n",
       "      <th>9</th>\n",
       "      <td>-0.189905</td>\n",
       "      <td>-0.140745</td>\n",
       "      <td>151</td>\n",
       "      <td>19</td>\n",
       "      <td>0</td>\n",
       "    </tr>\n",
       "    <tr>\n",
       "      <th>8</th>\n",
       "      <td>-0.193606</td>\n",
       "      <td>-0.140745</td>\n",
       "      <td>126</td>\n",
       "      <td>18</td>\n",
       "      <td>0</td>\n",
       "    </tr>\n",
       "    <tr>\n",
       "      <th>15</th>\n",
       "      <td>-0.173390</td>\n",
       "      <td>-0.140745</td>\n",
       "      <td>114</td>\n",
       "      <td>37</td>\n",
       "      <td>7</td>\n",
       "    </tr>\n",
       "    <tr>\n",
       "      <th>2</th>\n",
       "      <td>-0.017997</td>\n",
       "      <td>-0.060917</td>\n",
       "      <td>122</td>\n",
       "      <td>12</td>\n",
       "      <td>10</td>\n",
       "    </tr>\n",
       "    <tr>\n",
       "      <th>12</th>\n",
       "      <td>-0.189990</td>\n",
       "      <td>-0.140745</td>\n",
       "      <td>55</td>\n",
       "      <td>34</td>\n",
       "      <td>22</td>\n",
       "    </tr>\n",
       "  </tbody>\n",
       "</table>\n",
       "</div>"
      ],
      "text/plain": [
       "      amount  amountfinancedByXepelin  PayerId  ReceiverId  days\n",
       "9  -0.189905                -0.140745      151          19     0\n",
       "8  -0.193606                -0.140745      126          18     0\n",
       "15 -0.173390                -0.140745      114          37     7\n",
       "2  -0.017997                -0.060917      122          12    10\n",
       "12 -0.189990                -0.140745       55          34    22"
      ]
     },
     "execution_count": 24,
     "metadata": {},
     "output_type": "execute_result"
    }
   ],
   "source": [
    "df3.head()"
   ]
  },
  {
   "cell_type": "code",
   "execution_count": 26,
   "id": "bd78adb8-ef61-45fa-bf2f-b31b661faa01",
   "metadata": {},
   "outputs": [],
   "source": [
    "df3.to_csv('../Data/ds_scale.csv', index=False)"
   ]
  }
 ],
 "metadata": {
  "kernelspec": {
   "display_name": "Python 3 (ipykernel)",
   "language": "python",
   "name": "python3"
  },
  "language_info": {
   "codemirror_mode": {
    "name": "ipython",
    "version": 3
   },
   "file_extension": ".py",
   "mimetype": "text/x-python",
   "name": "python",
   "nbconvert_exporter": "python",
   "pygments_lexer": "ipython3",
   "version": "3.9.7"
  }
 },
 "nbformat": 4,
 "nbformat_minor": 5
}
