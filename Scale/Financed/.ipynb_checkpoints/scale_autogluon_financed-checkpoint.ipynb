{
 "cells": [
  {
   "cell_type": "markdown",
   "id": "40da4d57-1233-4e0e-ad77-040704b3957a",
   "metadata": {},
   "source": [
    "<div align=\"center\">\n",
    "    <img src='../../xepimage.png' style='height:100px;'>\n",
    "</div>\n",
    "\n",
    "\n",
    "<center><h1 style='font-size:25px'>Model</h1></center>\n",
    "\n",
    "---\n",
    "\n",
    "**Autor: Guillermo J. Bergues**\n",
    "\n",
    "Linear regression for Xepelin project.\n",
    "\n",
    "Data = scale (third aproach)."
   ]
  },
  {
   "cell_type": "code",
   "execution_count": 1,
   "id": "abb89766-c3a0-4700-a603-85abbcef55bd",
   "metadata": {},
   "outputs": [
    {
     "name": "stdout",
     "output_type": "stream",
     "text": [
      "\u001b[33mWARNING: autogluon-core 0.5.0 does not provide the extra 'ray-tune'\u001b[0m\n",
      "\u001b[33mWARNING: Running pip as the 'root' user can result in broken permissions and conflicting behaviour with the system package manager. It is recommended to use a virtual environment instead: https://pip.pypa.io/warnings/venv\u001b[0m\n"
     ]
    }
   ],
   "source": [
    "! /opt/miniconda3/envs/myenv/bin/pip install --no-cache-dir autogluon -q"
   ]
  },
  {
   "cell_type": "code",
   "execution_count": 2,
   "id": "f1bde28a-5afa-45a6-97a0-38b680f0e003",
   "metadata": {},
   "outputs": [
    {
     "name": "stderr",
     "output_type": "stream",
     "text": [
      "/opt/miniconda3/envs/myenv/lib/python3.8/site-packages/tqdm/auto.py:22: TqdmWarning: IProgress not found. Please update jupyter and ipywidgets. See https://ipywidgets.readthedocs.io/en/stable/user_install.html\n",
      "  from .autonotebook import tqdm as notebook_tqdm\n"
     ]
    }
   ],
   "source": [
    "import pandas as pd \n",
    "import numpy as np\n",
    "\n",
    "from autogluon.tabular import TabularPredictor, TabularDataset\n",
    "\n",
    "# Metrics\n",
    "from sklearn import metrics\n",
    "\n",
    "import seaborn as sns\n",
    "import matplotlib.pyplot as plt\n",
    "%matplotlib inline"
   ]
  },
  {
   "cell_type": "code",
   "execution_count": 3,
   "id": "df059cb8-14bb-49f6-aec9-cc75a35184be",
   "metadata": {},
   "outputs": [],
   "source": [
    "df = pd.read_csv ('../../Data/ds_scale.csv')"
   ]
  },
  {
   "cell_type": "code",
   "execution_count": 4,
   "id": "618161b3-a434-42d8-9350-7bb82c0bbc00",
   "metadata": {},
   "outputs": [
    {
     "data": {
      "text/html": [
       "<div>\n",
       "<style scoped>\n",
       "    .dataframe tbody tr th:only-of-type {\n",
       "        vertical-align: middle;\n",
       "    }\n",
       "\n",
       "    .dataframe tbody tr th {\n",
       "        vertical-align: top;\n",
       "    }\n",
       "\n",
       "    .dataframe thead th {\n",
       "        text-align: right;\n",
       "    }\n",
       "</style>\n",
       "<table border=\"1\" class=\"dataframe\">\n",
       "  <thead>\n",
       "    <tr style=\"text-align: right;\">\n",
       "      <th></th>\n",
       "      <th>amount</th>\n",
       "      <th>amountfinancedByXepelin</th>\n",
       "      <th>PayerId</th>\n",
       "      <th>ReceiverId</th>\n",
       "      <th>days</th>\n",
       "    </tr>\n",
       "  </thead>\n",
       "  <tbody>\n",
       "    <tr>\n",
       "      <th>0</th>\n",
       "      <td>-0.189905</td>\n",
       "      <td>-0.140745</td>\n",
       "      <td>151</td>\n",
       "      <td>19</td>\n",
       "      <td>0</td>\n",
       "    </tr>\n",
       "    <tr>\n",
       "      <th>1</th>\n",
       "      <td>-0.193606</td>\n",
       "      <td>-0.140745</td>\n",
       "      <td>126</td>\n",
       "      <td>18</td>\n",
       "      <td>0</td>\n",
       "    </tr>\n",
       "    <tr>\n",
       "      <th>2</th>\n",
       "      <td>-0.173390</td>\n",
       "      <td>-0.140745</td>\n",
       "      <td>114</td>\n",
       "      <td>37</td>\n",
       "      <td>7</td>\n",
       "    </tr>\n",
       "    <tr>\n",
       "      <th>3</th>\n",
       "      <td>-0.017997</td>\n",
       "      <td>-0.060917</td>\n",
       "      <td>122</td>\n",
       "      <td>12</td>\n",
       "      <td>10</td>\n",
       "    </tr>\n",
       "    <tr>\n",
       "      <th>4</th>\n",
       "      <td>-0.189990</td>\n",
       "      <td>-0.140745</td>\n",
       "      <td>55</td>\n",
       "      <td>34</td>\n",
       "      <td>22</td>\n",
       "    </tr>\n",
       "  </tbody>\n",
       "</table>\n",
       "</div>"
      ],
      "text/plain": [
       "     amount  amountfinancedByXepelin  PayerId  ReceiverId  days\n",
       "0 -0.189905                -0.140745      151          19     0\n",
       "1 -0.193606                -0.140745      126          18     0\n",
       "2 -0.173390                -0.140745      114          37     7\n",
       "3 -0.017997                -0.060917      122          12    10\n",
       "4 -0.189990                -0.140745       55          34    22"
      ]
     },
     "execution_count": 4,
     "metadata": {},
     "output_type": "execute_result"
    }
   ],
   "source": [
    "df.head()"
   ]
  },
  {
   "cell_type": "code",
   "execution_count": 5,
   "id": "b2685814-0f2a-4b45-8894-09e20c7b96cd",
   "metadata": {},
   "outputs": [
    {
     "data": {
      "text/plain": [
       "<AxesSubplot:>"
      ]
     },
     "execution_count": 5,
     "metadata": {},
     "output_type": "execute_result"
    },
    {
     "data": {
      "image/png": "[encoded data removed]",
      "text/plain": [
       "<Figure size 432x288 with 1 Axes>"
      ]
     },
     "metadata": {
      "needs_background": "light"
     },
     "output_type": "display_data"
    }
   ],
   "source": [
    "df['days'].hist()"
   ]
  },
  {
   "cell_type": "code",
   "execution_count": 6,
   "id": "aca93c1b-0799-4665-b04b-ee2e2da5a05e",
   "metadata": {},
   "outputs": [],
   "source": [
    "save_path = \"agModels\""
   ]
  },
  {
   "cell_type": "code",
   "execution_count": 7,
   "id": "cadc57c4-5a1e-438f-b05d-b4a9424a75c4",
   "metadata": {},
   "outputs": [],
   "source": [
    "df_train = df[df[\"days\"] < 180]"
   ]
  },
  {
   "cell_type": "code",
   "execution_count": 8,
   "id": "3470f9a0-5f6a-41bc-a442-e7a530fbb0d0",
   "metadata": {},
   "outputs": [],
   "source": [
    "label = 'amountfinancedByXepelin'"
   ]
  },
  {
   "cell_type": "code",
   "execution_count": 9,
   "id": "590dee7b-4bab-4b59-baa4-8ea820fe6f9d",
   "metadata": {},
   "outputs": [],
   "source": [
    "df_train = TabularDataset(df)"
   ]
  },
  {
   "cell_type": "code",
   "execution_count": 10,
   "id": "31181acd-301b-4541-ba0c-c344010a6fef",
   "metadata": {},
   "outputs": [
    {
     "name": "stderr",
     "output_type": "stream",
     "text": [
      "Beginning AutoGluon training ... Time limit = 18000s\n",
      "AutoGluon will save models to \"agModels/\"\n",
      "AutoGluon Version:  0.5.0\n",
      "Python Version:     3.8.10\n",
      "Operating System:   Linux\n",
      "Train Data Rows:    892\n",
      "Train Data Columns: 4\n",
      "Label Column: amountfinancedByXepelin\n",
      "Preprocessing data ...\n",
      "AutoGluon infers your prediction problem is: 'regression' (because dtype of label-column == float and many unique label-values observed).\n",
      "\tLabel info (max, min, mean, stddev): (25.436782429666547, -0.1407449106269688, 0.0, 1.00056)\n",
      "\tIf 'regression' is not the correct problem_type, please manually specify the problem_type parameter during predictor init (You may specify problem_type as one of: ['binary', 'multiclass', 'regression'])\n",
      "Using Feature Generators to preprocess the data ...\n",
      "Fitting AutoMLPipelineFeatureGenerator...\n",
      "\tAvailable Memory:                    62048.29 MB\n",
      "\tTrain Data (Original)  Memory Usage: 0.03 MB (0.0% of available memory)\n",
      "\tInferring data type of each feature based on column values. Set feature_metadata_in to manually specify special dtypes of the features.\n",
      "\tStage 1 Generators:\n",
      "\t\tFitting AsTypeFeatureGenerator...\n",
      "\tStage 2 Generators:\n",
      "\t\tFitting FillNaFeatureGenerator...\n",
      "\tStage 3 Generators:\n",
      "\t\tFitting IdentityFeatureGenerator...\n",
      "\tStage 4 Generators:\n",
      "\t\tFitting DropUniqueFeatureGenerator...\n",
      "\tTypes of features in original data (raw dtype, special dtypes):\n",
      "\t\t('float', []) : 1 | ['amount']\n",
      "\t\t('int', [])   : 3 | ['PayerId', 'ReceiverId', 'days']\n",
      "\tTypes of features in processed data (raw dtype, special dtypes):\n",
      "\t\t('float', []) : 1 | ['amount']\n",
      "\t\t('int', [])   : 3 | ['PayerId', 'ReceiverId', 'days']\n",
      "\t0.0s = Fit runtime\n",
      "\t4 features in original data used to generate 4 features in processed data.\n",
      "\tTrain Data (Processed) Memory Usage: 0.03 MB (0.0% of available memory)\n",
      "Data preprocessing and feature engineering runtime = 0.04s ...\n",
      "AutoGluon will gauge predictive performance using evaluation metric: 'median_absolute_error'\n",
      "\tThis metric's sign has been flipped to adhere to being higher_is_better. The metric score can be multiplied by -1 to get the metric value.\n",
      "\tTo change this, specify the eval_metric parameter of Predictor()\n",
      "Automatically generating train/validation split with holdout_frac=0.2, Train Rows: 713, Val Rows: 179\n",
      "Fitting 11 L1 models ...\n",
      "Fitting model: KNeighborsUnif ... Training model for up to 17999.96s of the 17999.96s of remaining time.\n",
      "\t-0.0349\t = Validation score   (-median_absolute_error)\n",
      "\t0.01s\t = Training   runtime\n",
      "\t0.01s\t = Validation runtime\n",
      "Fitting model: KNeighborsDist ... Training model for up to 17999.9s of the 17999.9s of remaining time.\n",
      "\t-0.0299\t = Validation score   (-median_absolute_error)\n",
      "\t0.0s\t = Training   runtime\n",
      "\t0.01s\t = Validation runtime\n",
      "Fitting model: LightGBMXT ... Training model for up to 17999.85s of the 17999.85s of remaining time.\n",
      "\t-0.1476\t = Validation score   (-median_absolute_error)\n",
      "\t0.65s\t = Training   runtime\n",
      "\t0.0s\t = Validation runtime\n",
      "Fitting model: LightGBM ... Training model for up to 17999.16s of the 17999.16s of remaining time.\n",
      "\t-0.1475\t = Validation score   (-median_absolute_error)\n",
      "\t0.29s\t = Training   runtime\n",
      "\t0.0s\t = Validation runtime\n",
      "Fitting model: RandomForestMSE ... Training model for up to 17998.83s of the 17998.83s of remaining time.\n",
      "\t-0.0\t = Validation score   (-median_absolute_error)\n",
      "\t0.61s\t = Training   runtime\n",
      "\t0.07s\t = Validation runtime\n",
      "Fitting model: CatBoost ... Training model for up to 17998.04s of the 17998.03s of remaining time.\n",
      "\t-0.007\t = Validation score   (-median_absolute_error)\n",
      "\t11.98s\t = Training   runtime\n",
      "\t0.0s\t = Validation runtime\n",
      "Fitting model: ExtraTreesMSE ... Training model for up to 17985.96s of the 17985.95s of remaining time.\n",
      "\t-0.0001\t = Validation score   (-median_absolute_error)\n",
      "\t0.58s\t = Training   runtime\n",
      "\t0.07s\t = Validation runtime\n",
      "Fitting model: NeuralNetFastAI ... Training model for up to 17985.2s of the 17985.2s of remaining time.\n",
      "\t-0.0357\t = Validation score   (-median_absolute_error)\n",
      "\t1.36s\t = Training   runtime\n",
      "\t0.01s\t = Validation runtime\n",
      "Fitting model: XGBoost ... Training model for up to 17983.73s of the 17983.73s of remaining time.\n",
      "/opt/miniconda3/envs/myenv/lib/python3.8/site-packages/xgboost/compat.py:31: FutureWarning: pandas.Int64Index is deprecated and will be removed from pandas in a future version. Use pandas.Index with the appropriate dtype instead.\n",
      "  from pandas import MultiIndex, Int64Index\n",
      "\t-0.0007\t = Validation score   (-median_absolute_error)\n",
      "\t0.54s\t = Training   runtime\n",
      "\t0.01s\t = Validation runtime\n",
      "Fitting model: NeuralNetTorch ... Training model for up to 17983.11s of the 17983.11s of remaining time.\n",
      "\t-0.0149\t = Validation score   (-median_absolute_error)\n",
      "\t7.44s\t = Training   runtime\n",
      "\t0.01s\t = Validation runtime\n",
      "Fitting model: LightGBMLarge ... Training model for up to 17975.59s of the 17975.58s of remaining time.\n",
      "\t-0.1506\t = Validation score   (-median_absolute_error)\n",
      "\t0.55s\t = Training   runtime\n",
      "\t0.0s\t = Validation runtime\n",
      "Fitting model: WeightedEnsemble_L2 ... Training model for up to 1800.0s of the 17974.66s of remaining time.\n",
      "\t-0.0\t = Validation score   (-median_absolute_error)\n",
      "\t0.31s\t = Training   runtime\n",
      "\t0.0s\t = Validation runtime\n",
      "AutoGluon training complete, total runtime = 25.85s ... Best model: \"WeightedEnsemble_L2\"\n",
      "TabularPredictor saved. To load, use: predictor = TabularPredictor.load(\"agModels/\")\n"
     ]
    }
   ],
   "source": [
    "predictor = TabularPredictor(label=label, path=save_path, eval_metric='median_absolute_error').fit(df_train, time_limit=18000)"
   ]
  },
  {
   "cell_type": "code",
   "execution_count": 11,
   "id": "d7327254-a7dc-44c6-b141-56088cf9fbb9",
   "metadata": {},
   "outputs": [],
   "source": [
    "test_data = df[df[\"days\"] >= 180]"
   ]
  },
  {
   "cell_type": "code",
   "execution_count": 12,
   "id": "6ce7a879-83e2-413b-80b8-10a4c5e3e728",
   "metadata": {},
   "outputs": [],
   "source": [
    "df_test = TabularDataset(test_data)"
   ]
  },
  {
   "cell_type": "code",
   "execution_count": 13,
   "id": "ca35a04b-8469-42f1-88ab-2bab4a69e68b",
   "metadata": {},
   "outputs": [],
   "source": [
    "# values to predict\n",
    "y_test = df_test[label]  "
   ]
  },
  {
   "cell_type": "code",
   "execution_count": 14,
   "id": "5658d422-bffa-4e03-b423-11c79fd3d79a",
   "metadata": {},
   "outputs": [],
   "source": [
    "# delete label column to prove we're not cheating\n",
    "test_data_nolab = df_test.drop(columns=[label])  "
   ]
  },
  {
   "cell_type": "code",
   "execution_count": 15,
   "id": "b9c12c0c-6b65-489c-bd05-56f3e6ff955a",
   "metadata": {},
   "outputs": [
    {
     "data": {
      "text/html": [
       "<div>\n",
       "<style scoped>\n",
       "    .dataframe tbody tr th:only-of-type {\n",
       "        vertical-align: middle;\n",
       "    }\n",
       "\n",
       "    .dataframe tbody tr th {\n",
       "        vertical-align: top;\n",
       "    }\n",
       "\n",
       "    .dataframe thead th {\n",
       "        text-align: right;\n",
       "    }\n",
       "</style>\n",
       "<table border=\"1\" class=\"dataframe\">\n",
       "  <thead>\n",
       "    <tr style=\"text-align: right;\">\n",
       "      <th></th>\n",
       "      <th>amount</th>\n",
       "      <th>PayerId</th>\n",
       "      <th>ReceiverId</th>\n",
       "      <th>days</th>\n",
       "    </tr>\n",
       "  </thead>\n",
       "  <tbody>\n",
       "    <tr>\n",
       "      <th>628</th>\n",
       "      <td>-0.194870</td>\n",
       "      <td>187</td>\n",
       "      <td>55</td>\n",
       "      <td>182</td>\n",
       "    </tr>\n",
       "    <tr>\n",
       "      <th>629</th>\n",
       "      <td>-0.187945</td>\n",
       "      <td>174</td>\n",
       "      <td>82</td>\n",
       "      <td>182</td>\n",
       "    </tr>\n",
       "    <tr>\n",
       "      <th>630</th>\n",
       "      <td>-0.192181</td>\n",
       "      <td>145</td>\n",
       "      <td>42</td>\n",
       "      <td>183</td>\n",
       "    </tr>\n",
       "    <tr>\n",
       "      <th>631</th>\n",
       "      <td>-0.186257</td>\n",
       "      <td>138</td>\n",
       "      <td>44</td>\n",
       "      <td>183</td>\n",
       "    </tr>\n",
       "    <tr>\n",
       "      <th>632</th>\n",
       "      <td>-0.190182</td>\n",
       "      <td>169</td>\n",
       "      <td>38</td>\n",
       "      <td>183</td>\n",
       "    </tr>\n",
       "  </tbody>\n",
       "</table>\n",
       "</div>"
      ],
      "text/plain": [
       "       amount  PayerId  ReceiverId  days\n",
       "628 -0.194870      187          55   182\n",
       "629 -0.187945      174          82   182\n",
       "630 -0.192181      145          42   183\n",
       "631 -0.186257      138          44   183\n",
       "632 -0.190182      169          38   183"
      ]
     },
     "execution_count": 15,
     "metadata": {},
     "output_type": "execute_result"
    }
   ],
   "source": [
    "test_data_nolab.head()"
   ]
  },
  {
   "cell_type": "code",
   "execution_count": 16,
   "id": "c8231538-266e-47b0-9838-142e71672b96",
   "metadata": {},
   "outputs": [],
   "source": [
    "predictor = TabularPredictor.load(save_path)  "
   ]
  },
  {
   "cell_type": "code",
   "execution_count": 17,
   "id": "2e319bab-1554-429e-a7f3-7a1fbd2c70ba",
   "metadata": {},
   "outputs": [
    {
     "name": "stdout",
     "output_type": "stream",
     "text": [
      "Predictions:  \n",
      " 628   -0.140745\n",
      "629   -0.140745\n",
      "630   -0.140745\n",
      "631   -0.138557\n",
      "632   -0.140745\n",
      "         ...   \n",
      "887   -0.140745\n",
      "888   -0.140745\n",
      "889   -0.108632\n",
      "890   -0.140745\n",
      "891   -0.140745\n",
      "Name: amountfinancedByXepelin, Length: 264, dtype: float32\n"
     ]
    }
   ],
   "source": [
    "y_pred = predictor.predict(test_data_nolab)\n",
    "print(\"Predictions:  \\n\", y_pred)"
   ]
  },
  {
   "cell_type": "code",
   "execution_count": 18,
   "id": "a40d50cb-361a-47b6-9ab8-6a0a1ba36353",
   "metadata": {},
   "outputs": [
    {
     "name": "stderr",
     "output_type": "stream",
     "text": [
      "Evaluation: median_absolute_error on test data: -9.828419189616966e-10\n",
      "\tNote: Scores are always higher_is_better. This metric score can be multiplied by -1 to get the metric value.\n",
      "Evaluations on test data:\n",
      "{\n",
      "    \"median_absolute_error\": -9.828419189616966e-10,\n",
      "    \"root_mean_squared_error\": -0.07002561129825359,\n",
      "    \"mean_squared_error\": -0.004903586237694101,\n",
      "    \"mean_absolute_error\": -0.019359172786031976,\n",
      "    \"r2\": 0.970048681878183,\n",
      "    \"pearsonr\": 0.9897920152931613\n",
      "}\n"
     ]
    }
   ],
   "source": [
    "perf = predictor.evaluate_predictions(y_true=y_test, y_pred=y_pred, auxiliary_metrics=True)"
   ]
  },
  {
   "cell_type": "code",
   "execution_count": 19,
   "id": "0d15a516-ee8a-4abd-8964-559bca28fa43",
   "metadata": {},
   "outputs": [
    {
     "data": {
      "text/html": [
       "<div>\n",
       "<style scoped>\n",
       "    .dataframe tbody tr th:only-of-type {\n",
       "        vertical-align: middle;\n",
       "    }\n",
       "\n",
       "    .dataframe tbody tr th {\n",
       "        vertical-align: top;\n",
       "    }\n",
       "\n",
       "    .dataframe thead th {\n",
       "        text-align: right;\n",
       "    }\n",
       "</style>\n",
       "<table border=\"1\" class=\"dataframe\">\n",
       "  <thead>\n",
       "    <tr style=\"text-align: right;\">\n",
       "      <th></th>\n",
       "      <th>test</th>\n",
       "      <th>prediction</th>\n",
       "      <th>residual</th>\n",
       "    </tr>\n",
       "  </thead>\n",
       "  <tbody>\n",
       "    <tr>\n",
       "      <th>628</th>\n",
       "      <td>-0.140745</td>\n",
       "      <td>-0.140745</td>\n",
       "      <td>-9.828419e-10</td>\n",
       "    </tr>\n",
       "    <tr>\n",
       "      <th>629</th>\n",
       "      <td>-0.140745</td>\n",
       "      <td>-0.140745</td>\n",
       "      <td>-9.828419e-10</td>\n",
       "    </tr>\n",
       "    <tr>\n",
       "      <th>630</th>\n",
       "      <td>-0.140745</td>\n",
       "      <td>-0.140745</td>\n",
       "      <td>-9.828419e-10</td>\n",
       "    </tr>\n",
       "    <tr>\n",
       "      <th>631</th>\n",
       "      <td>-0.140745</td>\n",
       "      <td>-0.138557</td>\n",
       "      <td>-2.187953e-03</td>\n",
       "    </tr>\n",
       "    <tr>\n",
       "      <th>632</th>\n",
       "      <td>-0.140745</td>\n",
       "      <td>-0.140745</td>\n",
       "      <td>-9.828419e-10</td>\n",
       "    </tr>\n",
       "  </tbody>\n",
       "</table>\n",
       "</div>"
      ],
      "text/plain": [
       "         test  prediction      residual\n",
       "628 -0.140745   -0.140745 -9.828419e-10\n",
       "629 -0.140745   -0.140745 -9.828419e-10\n",
       "630 -0.140745   -0.140745 -9.828419e-10\n",
       "631 -0.140745   -0.138557 -2.187953e-03\n",
       "632 -0.140745   -0.140745 -9.828419e-10"
      ]
     },
     "execution_count": 19,
     "metadata": {},
     "output_type": "execute_result"
    }
   ],
   "source": [
    "# Predictions and test data set\n",
    "df_test_pred = pd.concat([y_test, y_pred], axis=1)\n",
    "df_test_pred.columns = ['test', 'prediction']\n",
    "df_test_pred['residual'] = df_test_pred['test'] - df_test_pred['prediction']\n",
    "df_test_pred.head()"
   ]
  },
  {
   "cell_type": "code",
   "execution_count": 20,
   "id": "72c1bf6e-ad0b-47ae-91a4-8a27ecfaa837",
   "metadata": {},
   "outputs": [
    {
     "data": {
      "text/plain": [
       "Text(0, 0.5, 'Predicted Y')"
      ]
     },
     "execution_count": 20,
     "metadata": {},
     "output_type": "execute_result"
    },
    {
     "data": {
      "image/png": "[encoded data removed]",
      "text/plain": [
       "<Figure size 432x288 with 1 Axes>"
      ]
     },
     "metadata": {
      "needs_background": "light"
     },
     "output_type": "display_data"
    }
   ],
   "source": [
    "sns.regplot(x=y_test, y=y_pred);\n",
    "plt.xlabel('Test values')\n",
    "plt.ylabel('Predicted values')"
   ]
  },
  {
   "cell_type": "code",
   "execution_count": 21,
   "id": "b7625a89-18c2-4c5d-b523-7c2b12be1cec",
   "metadata": {},
   "outputs": [
    {
     "data": {
      "text/html": [
       "<div>\n",
       "<style scoped>\n",
       "    .dataframe tbody tr th:only-of-type {\n",
       "        vertical-align: middle;\n",
       "    }\n",
       "\n",
       "    .dataframe tbody tr th {\n",
       "        vertical-align: top;\n",
       "    }\n",
       "\n",
       "    .dataframe thead th {\n",
       "        text-align: right;\n",
       "    }\n",
       "</style>\n",
       "<table border=\"1\" class=\"dataframe\">\n",
       "  <thead>\n",
       "    <tr style=\"text-align: right;\">\n",
       "      <th></th>\n",
       "      <th>model</th>\n",
       "      <th>score_test</th>\n",
       "      <th>score_val</th>\n",
       "      <th>pred_time_test</th>\n",
       "      <th>pred_time_val</th>\n",
       "      <th>fit_time</th>\n",
       "      <th>pred_time_test_marginal</th>\n",
       "      <th>pred_time_val_marginal</th>\n",
       "      <th>fit_time_marginal</th>\n",
       "      <th>stack_level</th>\n",
       "      <th>can_infer</th>\n",
       "      <th>fit_order</th>\n",
       "    </tr>\n",
       "  </thead>\n",
       "  <tbody>\n",
       "    <tr>\n",
       "      <th>0</th>\n",
       "      <td>KNeighborsDist</td>\n",
       "      <td>-9.828419e-10</td>\n",
       "      <td>-2.989000e-02</td>\n",
       "      <td>0.008992</td>\n",
       "      <td>0.006724</td>\n",
       "      <td>0.004091</td>\n",
       "      <td>0.008992</td>\n",
       "      <td>0.006724</td>\n",
       "      <td>0.004091</td>\n",
       "      <td>1</td>\n",
       "      <td>True</td>\n",
       "      <td>2</td>\n",
       "    </tr>\n",
       "    <tr>\n",
       "      <th>1</th>\n",
       "      <td>ExtraTreesMSE</td>\n",
       "      <td>-9.828419e-10</td>\n",
       "      <td>-6.014207e-05</td>\n",
       "      <td>0.082623</td>\n",
       "      <td>0.069057</td>\n",
       "      <td>0.582942</td>\n",
       "      <td>0.082623</td>\n",
       "      <td>0.069057</td>\n",
       "      <td>0.582942</td>\n",
       "      <td>1</td>\n",
       "      <td>True</td>\n",
       "      <td>7</td>\n",
       "    </tr>\n",
       "    <tr>\n",
       "      <th>2</th>\n",
       "      <td>RandomForestMSE</td>\n",
       "      <td>-9.828419e-10</td>\n",
       "      <td>-9.828419e-10</td>\n",
       "      <td>0.083201</td>\n",
       "      <td>0.068039</td>\n",
       "      <td>0.608876</td>\n",
       "      <td>0.083201</td>\n",
       "      <td>0.068039</td>\n",
       "      <td>0.608876</td>\n",
       "      <td>1</td>\n",
       "      <td>True</td>\n",
       "      <td>5</td>\n",
       "    </tr>\n",
       "    <tr>\n",
       "      <th>3</th>\n",
       "      <td>WeightedEnsemble_L2</td>\n",
       "      <td>-9.828419e-10</td>\n",
       "      <td>-9.828419e-10</td>\n",
       "      <td>0.087761</td>\n",
       "      <td>0.068481</td>\n",
       "      <td>0.917439</td>\n",
       "      <td>0.004560</td>\n",
       "      <td>0.000442</td>\n",
       "      <td>0.308563</td>\n",
       "      <td>2</td>\n",
       "      <td>True</td>\n",
       "      <td>12</td>\n",
       "    </tr>\n",
       "    <tr>\n",
       "      <th>4</th>\n",
       "      <td>XGBoost</td>\n",
       "      <td>-4.512593e-04</td>\n",
       "      <td>-7.327805e-04</td>\n",
       "      <td>0.012554</td>\n",
       "      <td>0.006253</td>\n",
       "      <td>0.544335</td>\n",
       "      <td>0.012554</td>\n",
       "      <td>0.006253</td>\n",
       "      <td>0.544335</td>\n",
       "      <td>1</td>\n",
       "      <td>True</td>\n",
       "      <td>9</td>\n",
       "    </tr>\n",
       "    <tr>\n",
       "      <th>5</th>\n",
       "      <td>CatBoost</td>\n",
       "      <td>-1.378648e-03</td>\n",
       "      <td>-7.030685e-03</td>\n",
       "      <td>0.006072</td>\n",
       "      <td>0.002268</td>\n",
       "      <td>11.984648</td>\n",
       "      <td>0.006072</td>\n",
       "      <td>0.002268</td>\n",
       "      <td>11.984648</td>\n",
       "      <td>1</td>\n",
       "      <td>True</td>\n",
       "      <td>6</td>\n",
       "    </tr>\n",
       "    <tr>\n",
       "      <th>6</th>\n",
       "      <td>NeuralNetTorch</td>\n",
       "      <td>-1.348963e-02</td>\n",
       "      <td>-1.494177e-02</td>\n",
       "      <td>0.038851</td>\n",
       "      <td>0.007978</td>\n",
       "      <td>7.441242</td>\n",
       "      <td>0.038851</td>\n",
       "      <td>0.007978</td>\n",
       "      <td>7.441242</td>\n",
       "      <td>1</td>\n",
       "      <td>True</td>\n",
       "      <td>10</td>\n",
       "    </tr>\n",
       "    <tr>\n",
       "      <th>7</th>\n",
       "      <td>KNeighborsUnif</td>\n",
       "      <td>-1.846358e-02</td>\n",
       "      <td>-3.493478e-02</td>\n",
       "      <td>0.009062</td>\n",
       "      <td>0.007525</td>\n",
       "      <td>0.010944</td>\n",
       "      <td>0.009062</td>\n",
       "      <td>0.007525</td>\n",
       "      <td>0.010944</td>\n",
       "      <td>1</td>\n",
       "      <td>True</td>\n",
       "      <td>1</td>\n",
       "    </tr>\n",
       "    <tr>\n",
       "      <th>8</th>\n",
       "      <td>NeuralNetFastAI</td>\n",
       "      <td>-3.385419e-02</td>\n",
       "      <td>-3.573063e-02</td>\n",
       "      <td>0.038919</td>\n",
       "      <td>0.009463</td>\n",
       "      <td>1.356521</td>\n",
       "      <td>0.038919</td>\n",
       "      <td>0.009463</td>\n",
       "      <td>1.356521</td>\n",
       "      <td>1</td>\n",
       "      <td>True</td>\n",
       "      <td>8</td>\n",
       "    </tr>\n",
       "    <tr>\n",
       "      <th>9</th>\n",
       "      <td>LightGBM</td>\n",
       "      <td>-1.475014e-01</td>\n",
       "      <td>-1.475014e-01</td>\n",
       "      <td>0.003881</td>\n",
       "      <td>0.001514</td>\n",
       "      <td>0.290857</td>\n",
       "      <td>0.003881</td>\n",
       "      <td>0.001514</td>\n",
       "      <td>0.290857</td>\n",
       "      <td>1</td>\n",
       "      <td>True</td>\n",
       "      <td>4</td>\n",
       "    </tr>\n",
       "    <tr>\n",
       "      <th>10</th>\n",
       "      <td>LightGBMXT</td>\n",
       "      <td>-1.475987e-01</td>\n",
       "      <td>-1.475987e-01</td>\n",
       "      <td>0.003240</td>\n",
       "      <td>0.001567</td>\n",
       "      <td>0.649889</td>\n",
       "      <td>0.003240</td>\n",
       "      <td>0.001567</td>\n",
       "      <td>0.649889</td>\n",
       "      <td>1</td>\n",
       "      <td>True</td>\n",
       "      <td>3</td>\n",
       "    </tr>\n",
       "    <tr>\n",
       "      <th>11</th>\n",
       "      <td>LightGBMLarge</td>\n",
       "      <td>-1.506067e-01</td>\n",
       "      <td>-1.506067e-01</td>\n",
       "      <td>0.003411</td>\n",
       "      <td>0.001606</td>\n",
       "      <td>0.550462</td>\n",
       "      <td>0.003411</td>\n",
       "      <td>0.001606</td>\n",
       "      <td>0.550462</td>\n",
       "      <td>1</td>\n",
       "      <td>True</td>\n",
       "      <td>11</td>\n",
       "    </tr>\n",
       "  </tbody>\n",
       "</table>\n",
       "</div>"
      ],
      "text/plain": [
       "                  model    score_test     score_val  pred_time_test  \\\n",
       "0        KNeighborsDist -9.828419e-10 -2.989000e-02        0.008992   \n",
       "1         ExtraTreesMSE -9.828419e-10 -6.014207e-05        0.082623   \n",
       "2       RandomForestMSE -9.828419e-10 -9.828419e-10        0.083201   \n",
       "3   WeightedEnsemble_L2 -9.828419e-10 -9.828419e-10        0.087761   \n",
       "4               XGBoost -4.512593e-04 -7.327805e-04        0.012554   \n",
       "5              CatBoost -1.378648e-03 -7.030685e-03        0.006072   \n",
       "6        NeuralNetTorch -1.348963e-02 -1.494177e-02        0.038851   \n",
       "7        KNeighborsUnif -1.846358e-02 -3.493478e-02        0.009062   \n",
       "8       NeuralNetFastAI -3.385419e-02 -3.573063e-02        0.038919   \n",
       "9              LightGBM -1.475014e-01 -1.475014e-01        0.003881   \n",
       "10           LightGBMXT -1.475987e-01 -1.475987e-01        0.003240   \n",
       "11        LightGBMLarge -1.506067e-01 -1.506067e-01        0.003411   \n",
       "\n",
       "    pred_time_val   fit_time  pred_time_test_marginal  pred_time_val_marginal  \\\n",
       "0        0.006724   0.004091                 0.008992                0.006724   \n",
       "1        0.069057   0.582942                 0.082623                0.069057   \n",
       "2        0.068039   0.608876                 0.083201                0.068039   \n",
       "3        0.068481   0.917439                 0.004560                0.000442   \n",
       "4        0.006253   0.544335                 0.012554                0.006253   \n",
       "5        0.002268  11.984648                 0.006072                0.002268   \n",
       "6        0.007978   7.441242                 0.038851                0.007978   \n",
       "7        0.007525   0.010944                 0.009062                0.007525   \n",
       "8        0.009463   1.356521                 0.038919                0.009463   \n",
       "9        0.001514   0.290857                 0.003881                0.001514   \n",
       "10       0.001567   0.649889                 0.003240                0.001567   \n",
       "11       0.001606   0.550462                 0.003411                0.001606   \n",
       "\n",
       "    fit_time_marginal  stack_level  can_infer  fit_order  \n",
       "0            0.004091            1       True          2  \n",
       "1            0.582942            1       True          7  \n",
       "2            0.608876            1       True          5  \n",
       "3            0.308563            2       True         12  \n",
       "4            0.544335            1       True          9  \n",
       "5           11.984648            1       True          6  \n",
       "6            7.441242            1       True         10  \n",
       "7            0.010944            1       True          1  \n",
       "8            1.356521            1       True          8  \n",
       "9            0.290857            1       True          4  \n",
       "10           0.649889            1       True          3  \n",
       "11           0.550462            1       True         11  "
      ]
     },
     "execution_count": 21,
     "metadata": {},
     "output_type": "execute_result"
    }
   ],
   "source": [
    "predictor.leaderboard(test_data, silent=True)"
   ]
  },
  {
   "cell_type": "code",
   "execution_count": 22,
   "id": "3aeca123-7665-4b1c-8778-6a73547a164c",
   "metadata": {},
   "outputs": [
    {
     "name": "stdout",
     "output_type": "stream",
     "text": [
      "MAE: 0.019359172786031976\n",
      "MSE: 0.004903586237694101\n",
      "RMSE: 0.07002561129825359\n"
     ]
    }
   ],
   "source": [
    "print('MAE:', metrics.mean_absolute_error(y_test, y_pred))\n",
    "print('MSE:', metrics.mean_squared_error(y_test, y_pred))\n",
    "print('RMSE:', np.sqrt(metrics.mean_squared_error(y_test, y_pred)))"
   ]
  },
  {
   "cell_type": "code",
   "execution_count": 23,
   "id": "d82d3c4c-6750-4173-b337-2ea877ec6a03",
   "metadata": {},
   "outputs": [
    {
     "data": {
      "image/png": "[encoded data removed]",
      "text/plain": [
       "<Figure size 432x288 with 1 Axes>"
      ]
     },
     "metadata": {
      "needs_background": "light"
     },
     "output_type": "display_data"
    }
   ],
   "source": [
    "# Distributions of residuals\n",
    "sns.histplot(data=df_test_pred, x='residual', kde=True, bins=30);"
   ]
  },
  {
   "cell_type": "code",
   "execution_count": 24,
   "id": "ffc84ed1-1829-4f6b-8aaa-9205de2733ad",
   "metadata": {},
   "outputs": [
    {
     "name": "stderr",
     "output_type": "stream",
     "text": [
      "Computing feature importance via permutation shuffling for 4 features using 264 rows with 5 shuffle sets...\n",
      "\t2.22s\t= Expected runtime (0.44s per shuffle set)\n",
      "\t0.67s\t= Actual runtime (Completed 5 of 5 shuffle sets)\n"
     ]
    },
    {
     "data": {
      "text/html": [
       "<div>\n",
       "<style scoped>\n",
       "    .dataframe tbody tr th:only-of-type {\n",
       "        vertical-align: middle;\n",
       "    }\n",
       "\n",
       "    .dataframe tbody tr th {\n",
       "        vertical-align: top;\n",
       "    }\n",
       "\n",
       "    .dataframe thead th {\n",
       "        text-align: right;\n",
       "    }\n",
       "</style>\n",
       "<table border=\"1\" class=\"dataframe\">\n",
       "  <thead>\n",
       "    <tr style=\"text-align: right;\">\n",
       "      <th></th>\n",
       "      <th>importance</th>\n",
       "      <th>stddev</th>\n",
       "      <th>p_value</th>\n",
       "      <th>n</th>\n",
       "      <th>p99_high</th>\n",
       "      <th>p99_low</th>\n",
       "    </tr>\n",
       "  </thead>\n",
       "  <tbody>\n",
       "    <tr>\n",
       "      <th>amount</th>\n",
       "      <td>0.000003</td>\n",
       "      <td>0.000006</td>\n",
       "      <td>0.18695</td>\n",
       "      <td>5</td>\n",
       "      <td>0.000014</td>\n",
       "      <td>-0.000009</td>\n",
       "    </tr>\n",
       "    <tr>\n",
       "      <th>PayerId</th>\n",
       "      <td>0.000000</td>\n",
       "      <td>0.000000</td>\n",
       "      <td>0.50000</td>\n",
       "      <td>5</td>\n",
       "      <td>0.000000</td>\n",
       "      <td>0.000000</td>\n",
       "    </tr>\n",
       "    <tr>\n",
       "      <th>ReceiverId</th>\n",
       "      <td>0.000000</td>\n",
       "      <td>0.000000</td>\n",
       "      <td>0.50000</td>\n",
       "      <td>5</td>\n",
       "      <td>0.000000</td>\n",
       "      <td>0.000000</td>\n",
       "    </tr>\n",
       "    <tr>\n",
       "      <th>days</th>\n",
       "      <td>0.000000</td>\n",
       "      <td>0.000000</td>\n",
       "      <td>0.50000</td>\n",
       "      <td>5</td>\n",
       "      <td>0.000000</td>\n",
       "      <td>0.000000</td>\n",
       "    </tr>\n",
       "  </tbody>\n",
       "</table>\n",
       "</div>"
      ],
      "text/plain": [
       "            importance    stddev  p_value  n  p99_high   p99_low\n",
       "amount        0.000003  0.000006  0.18695  5  0.000014 -0.000009\n",
       "PayerId       0.000000  0.000000  0.50000  5  0.000000  0.000000\n",
       "ReceiverId    0.000000  0.000000  0.50000  5  0.000000  0.000000\n",
       "days          0.000000  0.000000  0.50000  5  0.000000  0.000000"
      ]
     },
     "execution_count": 24,
     "metadata": {},
     "output_type": "execute_result"
    }
   ],
   "source": [
    "f_importance = predictor.feature_importance(df_test)\n",
    "f_importance.head()"
   ]
  }
 ],
 "metadata": {
  "kernelspec": {
   "display_name": "Python 3 (ipykernel)",
   "language": "python",
   "name": "python3"
  },
  "language_info": {
   "codemirror_mode": {
    "name": "ipython",
    "version": 3
   },
   "file_extension": ".py",
   "mimetype": "text/x-python",
   "name": "python",
   "nbconvert_exporter": "python",
   "pygments_lexer": "ipython3",
   "version": "3.8.10"
  }
 },
 "nbformat": 4,
 "nbformat_minor": 5
}
