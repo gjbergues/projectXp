{
 "cells": [
  {
   "cell_type": "markdown",
   "id": "40da4d57-1233-4e0e-ad77-040704b3957a",
   "metadata": {},
   "source": [
    "<div align=\"center\">\n",
    "    <img src='../../xepimage.png' style='height:100px;'>\n",
    "</div>\n",
    "\n",
    "\n",
    "<center><h1 style='font-size:25px'>Model</h1></center>\n",
    "\n",
    "---\n",
    "\n",
    "**Autor: Guillermo J. Bergues**\n",
    "\n",
    "Linear regression for Xepelin project.\n",
    "\n",
    "Data = scale (third aproach)."
   ]
  },
  {
   "cell_type": "code",
   "execution_count": 1,
   "id": "f1bde28a-5afa-45a6-97a0-38b680f0e003",
   "metadata": {},
   "outputs": [],
   "source": [
    "import pandas as pd \n",
    "import numpy as np\n",
    "\n",
    "# Create a test data\n",
    "from sklearn.model_selection import train_test_split\n",
    "from sklearn.linear_model import LinearRegression\n",
    "\n",
    "# Metrics\n",
    "from sklearn import metrics\n",
    "from scipy.stats import pearsonr\n",
    "\n",
    "import seaborn as sns\n",
    "import matplotlib.pyplot as plt\n",
    "%matplotlib inline"
   ]
  },
  {
   "cell_type": "code",
   "execution_count": 2,
   "id": "df059cb8-14bb-49f6-aec9-cc75a35184be",
   "metadata": {},
   "outputs": [],
   "source": [
    "df = pd.read_csv ('../../Data/ds_scale.csv')"
   ]
  },
  {
   "cell_type": "code",
   "execution_count": 3,
   "id": "618161b3-a434-42d8-9350-7bb82c0bbc00",
   "metadata": {},
   "outputs": [
    {
     "data": {
      "text/html": [
       "<div>\n",
       "<style scoped>\n",
       "    .dataframe tbody tr th:only-of-type {\n",
       "        vertical-align: middle;\n",
       "    }\n",
       "\n",
       "    .dataframe tbody tr th {\n",
       "        vertical-align: top;\n",
       "    }\n",
       "\n",
       "    .dataframe thead th {\n",
       "        text-align: right;\n",
       "    }\n",
       "</style>\n",
       "<table border=\"1\" class=\"dataframe\">\n",
       "  <thead>\n",
       "    <tr style=\"text-align: right;\">\n",
       "      <th></th>\n",
       "      <th>amount</th>\n",
       "      <th>amountfinancedByXepelin</th>\n",
       "      <th>PayerId</th>\n",
       "      <th>ReceiverId</th>\n",
       "      <th>days</th>\n",
       "    </tr>\n",
       "  </thead>\n",
       "  <tbody>\n",
       "    <tr>\n",
       "      <th>0</th>\n",
       "      <td>-0.189905</td>\n",
       "      <td>-0.140745</td>\n",
       "      <td>151</td>\n",
       "      <td>19</td>\n",
       "      <td>0</td>\n",
       "    </tr>\n",
       "    <tr>\n",
       "      <th>1</th>\n",
       "      <td>-0.193606</td>\n",
       "      <td>-0.140745</td>\n",
       "      <td>126</td>\n",
       "      <td>18</td>\n",
       "      <td>0</td>\n",
       "    </tr>\n",
       "    <tr>\n",
       "      <th>2</th>\n",
       "      <td>-0.173390</td>\n",
       "      <td>-0.140745</td>\n",
       "      <td>114</td>\n",
       "      <td>37</td>\n",
       "      <td>7</td>\n",
       "    </tr>\n",
       "    <tr>\n",
       "      <th>3</th>\n",
       "      <td>-0.017997</td>\n",
       "      <td>-0.060917</td>\n",
       "      <td>122</td>\n",
       "      <td>12</td>\n",
       "      <td>10</td>\n",
       "    </tr>\n",
       "    <tr>\n",
       "      <th>4</th>\n",
       "      <td>-0.189990</td>\n",
       "      <td>-0.140745</td>\n",
       "      <td>55</td>\n",
       "      <td>34</td>\n",
       "      <td>22</td>\n",
       "    </tr>\n",
       "  </tbody>\n",
       "</table>\n",
       "</div>"
      ],
      "text/plain": [
       "     amount  amountfinancedByXepelin  PayerId  ReceiverId  days\n",
       "0 -0.189905                -0.140745      151          19     0\n",
       "1 -0.193606                -0.140745      126          18     0\n",
       "2 -0.173390                -0.140745      114          37     7\n",
       "3 -0.017997                -0.060917      122          12    10\n",
       "4 -0.189990                -0.140745       55          34    22"
      ]
     },
     "execution_count": 3,
     "metadata": {},
     "output_type": "execute_result"
    }
   ],
   "source": [
    "df.head()"
   ]
  },
  {
   "cell_type": "code",
   "execution_count": 4,
   "id": "aca93c1b-0799-4665-b04b-ee2e2da5a05e",
   "metadata": {},
   "outputs": [],
   "source": [
    "# Assigning \"y\" to score value\n",
    "y = df['amount']"
   ]
  },
  {
   "cell_type": "code",
   "execution_count": 5,
   "id": "cadc57c4-5a1e-438f-b05d-b4a9424a75c4",
   "metadata": {},
   "outputs": [],
   "source": [
    "# Chossing some columns for the model\n",
    "X = df[['PayerId',\n",
    "        'ReceiverId', \n",
    "        'days',\n",
    "        'amountfinancedByXepelin']]"
   ]
  },
  {
   "cell_type": "code",
   "execution_count": 6,
   "id": "3470f9a0-5f6a-41bc-a442-e7a530fbb0d0",
   "metadata": {},
   "outputs": [],
   "source": [
    "# Use random_state for reproducibility\n",
    "X_train, X_test, y_train, y_test = train_test_split(X, y, test_size=0.3, random_state=45)"
   ]
  },
  {
   "cell_type": "code",
   "execution_count": 7,
   "id": "590dee7b-4bab-4b59-baa4-8ea820fe6f9d",
   "metadata": {},
   "outputs": [],
   "source": [
    "# Linear regression object\n",
    "lm = LinearRegression()"
   ]
  },
  {
   "cell_type": "code",
   "execution_count": 8,
   "id": "31181acd-301b-4541-ba0c-c344010a6fef",
   "metadata": {},
   "outputs": [
    {
     "data": {
      "text/plain": [
       "LinearRegression()"
      ]
     },
     "execution_count": 8,
     "metadata": {},
     "output_type": "execute_result"
    }
   ],
   "source": [
    "# Fit the training data\n",
    "lm.fit(X_train,y_train)"
   ]
  },
  {
   "cell_type": "code",
   "execution_count": 9,
   "id": "d7327254-a7dc-44c6-b141-56088cf9fbb9",
   "metadata": {},
   "outputs": [
    {
     "data": {
      "text/html": [
       "<div>\n",
       "<style scoped>\n",
       "    .dataframe tbody tr th:only-of-type {\n",
       "        vertical-align: middle;\n",
       "    }\n",
       "\n",
       "    .dataframe tbody tr th {\n",
       "        vertical-align: top;\n",
       "    }\n",
       "\n",
       "    .dataframe thead th {\n",
       "        text-align: right;\n",
       "    }\n",
       "</style>\n",
       "<table border=\"1\" class=\"dataframe\">\n",
       "  <thead>\n",
       "    <tr style=\"text-align: right;\">\n",
       "      <th></th>\n",
       "      <th>Coeff</th>\n",
       "    </tr>\n",
       "  </thead>\n",
       "  <tbody>\n",
       "    <tr>\n",
       "      <th>PayerId</th>\n",
       "      <td>-0.000281</td>\n",
       "    </tr>\n",
       "    <tr>\n",
       "      <th>ReceiverId</th>\n",
       "      <td>-0.000641</td>\n",
       "    </tr>\n",
       "    <tr>\n",
       "      <th>days</th>\n",
       "      <td>-0.000427</td>\n",
       "    </tr>\n",
       "    <tr>\n",
       "      <th>amountfinancedByXepelin</th>\n",
       "      <td>0.872825</td>\n",
       "    </tr>\n",
       "  </tbody>\n",
       "</table>\n",
       "</div>"
      ],
      "text/plain": [
       "                            Coeff\n",
       "PayerId                 -0.000281\n",
       "ReceiverId              -0.000641\n",
       "days                    -0.000427\n",
       "amountfinancedByXepelin  0.872825"
      ]
     },
     "execution_count": 9,
     "metadata": {},
     "output_type": "execute_result"
    }
   ],
   "source": [
    "# Coefficients\n",
    "cdf = pd.DataFrame(lm.coef_, X.columns, columns=['Coeff'])\n",
    "cdf.head()"
   ]
  },
  {
   "cell_type": "code",
   "execution_count": 10,
   "id": "6ce7a879-83e2-413b-80b8-10a4c5e3e728",
   "metadata": {},
   "outputs": [],
   "source": [
    "# Predictions\n",
    "predictions = lm.predict( X_test)"
   ]
  },
  {
   "cell_type": "code",
   "execution_count": 11,
   "id": "ca35a04b-8469-42f1-88ab-2bab4a69e68b",
   "metadata": {},
   "outputs": [
    {
     "data": {
      "text/plain": [
       "Text(0, 0.5, 'Predicted values')"
      ]
     },
     "execution_count": 11,
     "metadata": {},
     "output_type": "execute_result"
    },
    {
     "data": {
      "image/png": "[encoded data removed]",
      "text/plain": [
       "<Figure size 432x288 with 1 Axes>"
      ]
     },
     "metadata": {
      "needs_background": "light"
     },
     "output_type": "display_data"
    }
   ],
   "source": [
    "sns.regplot(x=y_test, y=predictions);\n",
    "plt.xlabel('Test values')\n",
    "plt.ylabel('Predicted values')"
   ]
  },
  {
   "cell_type": "code",
   "execution_count": 12,
   "id": "5658d422-bffa-4e03-b423-11c79fd3d79a",
   "metadata": {},
   "outputs": [
    {
     "name": "stdout",
     "output_type": "stream",
     "text": [
      "MAE: 0.15376071250016804\n",
      "MSE: 0.2951694432633771\n",
      "RMSE: 0.5432949873350361\n"
     ]
    }
   ],
   "source": [
    "print('MAE:', metrics.mean_absolute_error(y_test, predictions))\n",
    "print('MSE:', metrics.mean_squared_error(y_test, predictions))\n",
    "print('RMSE:', np.sqrt(metrics.mean_squared_error(y_test, predictions)))"
   ]
  },
  {
   "cell_type": "code",
   "execution_count": 13,
   "id": "10fd1411-3bda-4ad7-8567-ee49090a7546",
   "metadata": {},
   "outputs": [
    {
     "name": "stdout",
     "output_type": "stream",
     "text": [
      "Pearsons correlation: 0.826\n"
     ]
    }
   ],
   "source": [
    "corr, _ = pearsonr(y_test, predictions)\n",
    "print('Pearsons correlation: %.3f' % corr)"
   ]
  },
  {
   "cell_type": "code",
   "execution_count": 14,
   "id": "492f8e46-1bc9-443a-b7c2-af68302a5925",
   "metadata": {},
   "outputs": [
    {
     "name": "stderr",
     "output_type": "stream",
     "text": [
      "/opt/miniconda3/envs/myenv/lib/python3.8/site-packages/seaborn/distributions.py:2619: FutureWarning: `distplot` is a deprecated function and will be removed in a future version. Please adapt your code to use either `displot` (a figure-level function with similar flexibility) or `histplot` (an axes-level function for histograms).\n",
      "  warnings.warn(msg, FutureWarning)\n"
     ]
    },
    {
     "data": {
      "text/plain": [
       "<AxesSubplot:xlabel='amount', ylabel='Density'>"
      ]
     },
     "execution_count": 14,
     "metadata": {},
     "output_type": "execute_result"
    },
    {
     "data": {
      "image/png": "[encoded data removed]",
      "text/plain": [
       "<Figure size 432x288 with 1 Axes>"
      ]
     },
     "metadata": {
      "needs_background": "light"
     },
     "output_type": "display_data"
    }
   ],
   "source": [
    "# Distributions of residuals\n",
    "sns.distplot((y_test-predictions),bins=30)"
   ]
  }
 ],
 "metadata": {
  "kernelspec": {
   "display_name": "Python 3 (ipykernel)",
   "language": "python",
   "name": "python3"
  },
  "language_info": {
   "codemirror_mode": {
    "name": "ipython",
    "version": 3
   },
   "file_extension": ".py",
   "mimetype": "text/x-python",
   "name": "python",
   "nbconvert_exporter": "python",
   "pygments_lexer": "ipython3",
   "version": "3.8.10"
  }
 },
 "nbformat": 4,
 "nbformat_minor": 5
}
