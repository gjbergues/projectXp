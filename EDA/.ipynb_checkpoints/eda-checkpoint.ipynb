{
 "cells": [
  {
   "cell_type": "markdown",
   "id": "8677afa4-7ff6-48ff-b624-287c6d1bf364",
   "metadata": {},
   "source": [
    "<div align=\"center\">\n",
    "    <img src='../xepimage.png' style='height:100px;'>\n",
    "</div>\n",
    "\n",
    "\n",
    "<center><h1 style='font-size:25px'>EDA</h1></center>\n",
    "\n",
    "---\n",
    "\n",
    "**Autor: Guillermo J. Bergues**\n",
    "\n",
    "Exploratory data analysis for the Xepelin project.\n",
    "\n",
    "* PayerId = Id de la empresa que va a realizar el pago\n",
    "* ReceiverId\n",
    "* invoiceId\n",
    "* paidAt\n",
    "* amount = Monto de la factura pagada\n",
    "* amountfinancedByXepelin =  Monto de la factura que Xepelin financió al pagador para realizar la transacción\n",
    "* Status =  Estado de cada transacción Pagada, Procesando, Fallida."
   ]
  },
  {
   "cell_type": "code",
   "execution_count": 1,
   "id": "1a09ec9a-711c-4623-a6cf-6621040a17b3",
   "metadata": {},
   "outputs": [
    {
     "name": "stdout",
     "output_type": "stream",
     "text": [
      "\u001b[33mWARNING: Running pip as the 'root' user can result in broken permissions and conflicting behaviour with the system package manager. It is recommended to use a virtual environment instead: https://pip.pypa.io/warnings/venv\u001b[0m\n",
      "\u001b[33mWARNING: Running pip as the 'root' user can result in broken permissions and conflicting behaviour with the system package manager. It is recommended to use a virtual environment instead: https://pip.pypa.io/warnings/venv\u001b[0m\n"
     ]
    }
   ],
   "source": [
    "pip install missingno"
   ]
  },
  {
   "cell_type": "code",
   "execution_count": 2,
   "id": "b5d43bda-ea99-4cfa-80e6-a20312dc3b65",
   "metadata": {},
   "outputs": [],
   "source": [
    "import pandas as pd\n",
    "import numpy as np\n",
    "\n",
    "import seaborn as sns\n",
    "import matplotlib.pyplot as plt\n",
    "import missingno as msno\n",
    "\n",
    "%matplotlib inline"
   ]
  },
  {
   "cell_type": "code",
   "execution_count": 3,
   "id": "80abb636-1d8f-4b2a-9c64-214576cca38f",
   "metadata": {},
   "outputs": [],
   "source": [
    "# Boxplot Marker\n",
    "mark1 = dict(marker='+', markerfacecolor='g', markersize=15,\n",
    "                  linestyle='none', markeredgecolor='r')\n",
    "\n",
    "mark2 = dict(marker='+', markerfacecolor='g', markersize=15,\n",
    "                  linestyle='none', markeredgecolor='b')"
   ]
  },
  {
   "cell_type": "code",
   "execution_count": 4,
   "id": "08dd00a7-b109-498b-9439-5a5ce0fc70b8",
   "metadata": {},
   "outputs": [],
   "source": [
    "# Read data set\n",
    "df = pd.read_csv ('../Data/data_set.csv')"
   ]
  },
  {
   "cell_type": "markdown",
   "id": "91d3947f-d6ae-4c50-a18e-04d4198d10e5",
   "metadata": {},
   "source": [
    "# General information"
   ]
  },
  {
   "cell_type": "code",
   "execution_count": 5,
   "id": "019684fd-526c-4649-ac9a-2f5f2b7c8738",
   "metadata": {},
   "outputs": [
    {
     "data": {
      "text/html": [
       "<div>\n",
       "<style scoped>\n",
       "    .dataframe tbody tr th:only-of-type {\n",
       "        vertical-align: middle;\n",
       "    }\n",
       "\n",
       "    .dataframe tbody tr th {\n",
       "        vertical-align: top;\n",
       "    }\n",
       "\n",
       "    .dataframe thead th {\n",
       "        text-align: right;\n",
       "    }\n",
       "</style>\n",
       "<table border=\"1\" class=\"dataframe\">\n",
       "  <thead>\n",
       "    <tr style=\"text-align: right;\">\n",
       "      <th></th>\n",
       "      <th>PayerId</th>\n",
       "      <th>ReceiverId</th>\n",
       "      <th>invoiceId</th>\n",
       "      <th>paidAt</th>\n",
       "      <th>amount</th>\n",
       "      <th>amountfinancedByXepelin</th>\n",
       "      <th>status</th>\n",
       "    </tr>\n",
       "  </thead>\n",
       "  <tbody>\n",
       "    <tr>\n",
       "      <th>0</th>\n",
       "      <td>53</td>\n",
       "      <td>10</td>\n",
       "      <td>18660729</td>\n",
       "      <td>2022-04-23 00:00:00</td>\n",
       "      <td>1490.46</td>\n",
       "      <td>0.00</td>\n",
       "      <td>PAID</td>\n",
       "    </tr>\n",
       "    <tr>\n",
       "      <th>1</th>\n",
       "      <td>93</td>\n",
       "      <td>11</td>\n",
       "      <td>18660730</td>\n",
       "      <td>2021-11-20 00:00:00</td>\n",
       "      <td>6418.28</td>\n",
       "      <td>624.48</td>\n",
       "      <td>PAID</td>\n",
       "    </tr>\n",
       "    <tr>\n",
       "      <th>2</th>\n",
       "      <td>122</td>\n",
       "      <td>12</td>\n",
       "      <td>18660731</td>\n",
       "      <td>2021-10-19 00:00:00</td>\n",
       "      <td>27979.20</td>\n",
       "      <td>10520.15</td>\n",
       "      <td>PAID</td>\n",
       "    </tr>\n",
       "    <tr>\n",
       "      <th>3</th>\n",
       "      <td>85</td>\n",
       "      <td>13</td>\n",
       "      <td>18660732</td>\n",
       "      <td>2021-11-13 00:00:00</td>\n",
       "      <td>183070.77</td>\n",
       "      <td>79421.63</td>\n",
       "      <td>PAID</td>\n",
       "    </tr>\n",
       "    <tr>\n",
       "      <th>4</th>\n",
       "      <td>87</td>\n",
       "      <td>14</td>\n",
       "      <td>18660733</td>\n",
       "      <td>2022-03-23 00:00:00</td>\n",
       "      <td>20532.00</td>\n",
       "      <td>20532.00</td>\n",
       "      <td>PAID</td>\n",
       "    </tr>\n",
       "  </tbody>\n",
       "</table>\n",
       "</div>"
      ],
      "text/plain": [
       "   PayerId  ReceiverId  invoiceId               paidAt     amount  \\\n",
       "0       53          10   18660729  2022-04-23 00:00:00    1490.46   \n",
       "1       93          11   18660730  2021-11-20 00:00:00    6418.28   \n",
       "2      122          12   18660731  2021-10-19 00:00:00   27979.20   \n",
       "3       85          13   18660732  2021-11-13 00:00:00  183070.77   \n",
       "4       87          14   18660733  2022-03-23 00:00:00   20532.00   \n",
       "\n",
       "   amountfinancedByXepelin status  \n",
       "0                     0.00   PAID  \n",
       "1                   624.48   PAID  \n",
       "2                 10520.15   PAID  \n",
       "3                 79421.63   PAID  \n",
       "4                 20532.00   PAID  "
      ]
     },
     "execution_count": 5,
     "metadata": {},
     "output_type": "execute_result"
    }
   ],
   "source": [
    "# Data overview\n",
    "df.head()"
   ]
  },
  {
   "cell_type": "code",
   "execution_count": 6,
   "id": "061ea33a-ee84-4967-be9e-939670a3f45c",
   "metadata": {},
   "outputs": [],
   "source": [
    "# Rename column for better reading\n",
    "df.rename(columns={'amountfinancedByXepelin': 'financed'}, inplace=True)"
   ]
  },
  {
   "cell_type": "code",
   "execution_count": 7,
   "id": "34b61cc7-be93-4560-8ce2-6ff80bb4b1be",
   "metadata": {},
   "outputs": [
    {
     "name": "stdout",
     "output_type": "stream",
     "text": [
      "<class 'pandas.core.frame.DataFrame'>\n",
      "RangeIndex: 1200 entries, 0 to 1199\n",
      "Data columns (total 7 columns):\n",
      " #   Column      Non-Null Count  Dtype  \n",
      "---  ------      --------------  -----  \n",
      " 0   PayerId     1200 non-null   int64  \n",
      " 1   ReceiverId  1200 non-null   int64  \n",
      " 2   invoiceId   1200 non-null   int64  \n",
      " 3   paidAt      892 non-null    object \n",
      " 4   amount      1200 non-null   float64\n",
      " 5   financed    1200 non-null   float64\n",
      " 6   status      1200 non-null   object \n",
      "dtypes: float64(2), int64(3), object(2)\n",
      "memory usage: 65.8+ KB\n"
     ]
    }
   ],
   "source": [
    "# Data information per column\n",
    "df.info()"
   ]
  },
  {
   "cell_type": "markdown",
   "id": "f44d3a14-b8ea-463d-b4f4-1c94de93a184",
   "metadata": {},
   "source": [
    "**Data set size: 1200 columns**"
   ]
  },
  {
   "cell_type": "code",
   "execution_count": 8,
   "id": "11bf69ae-efe0-419d-b192-1babb259df3b",
   "metadata": {},
   "outputs": [
    {
     "data": {
      "text/html": [
       "<div>\n",
       "<style scoped>\n",
       "    .dataframe tbody tr th:only-of-type {\n",
       "        vertical-align: middle;\n",
       "    }\n",
       "\n",
       "    .dataframe tbody tr th {\n",
       "        vertical-align: top;\n",
       "    }\n",
       "\n",
       "    .dataframe thead th {\n",
       "        text-align: right;\n",
       "    }\n",
       "</style>\n",
       "<table border=\"1\" class=\"dataframe\">\n",
       "  <thead>\n",
       "    <tr style=\"text-align: right;\">\n",
       "      <th></th>\n",
       "      <th>PayerId</th>\n",
       "      <th>ReceiverId</th>\n",
       "      <th>invoiceId</th>\n",
       "      <th>amount</th>\n",
       "      <th>financed</th>\n",
       "    </tr>\n",
       "  </thead>\n",
       "  <tbody>\n",
       "    <tr>\n",
       "      <th>count</th>\n",
       "      <td>1200.000000</td>\n",
       "      <td>1200.000000</td>\n",
       "      <td>1.200000e+03</td>\n",
       "      <td>1.200000e+03</td>\n",
       "      <td>1.200000e+03</td>\n",
       "    </tr>\n",
       "    <tr>\n",
       "      <th>mean</th>\n",
       "      <td>101.567500</td>\n",
       "      <td>60.290000</td>\n",
       "      <td>1.866133e+07</td>\n",
       "      <td>2.785217e+04</td>\n",
       "      <td>1.749303e+04</td>\n",
       "    </tr>\n",
       "    <tr>\n",
       "      <th>std</th>\n",
       "      <td>57.232888</td>\n",
       "      <td>40.187333</td>\n",
       "      <td>3.465545e+02</td>\n",
       "      <td>1.414899e+05</td>\n",
       "      <td>1.229016e+05</td>\n",
       "    </tr>\n",
       "    <tr>\n",
       "      <th>min</th>\n",
       "      <td>1.000000</td>\n",
       "      <td>10.000000</td>\n",
       "      <td>1.866073e+07</td>\n",
       "      <td>5.816000e+01</td>\n",
       "      <td>0.000000e+00</td>\n",
       "    </tr>\n",
       "    <tr>\n",
       "      <th>25%</th>\n",
       "      <td>52.000000</td>\n",
       "      <td>16.000000</td>\n",
       "      <td>1.866103e+07</td>\n",
       "      <td>1.251810e+03</td>\n",
       "      <td>0.000000e+00</td>\n",
       "    </tr>\n",
       "    <tr>\n",
       "      <th>50%</th>\n",
       "      <td>103.000000</td>\n",
       "      <td>58.000000</td>\n",
       "      <td>1.866133e+07</td>\n",
       "      <td>1.490460e+03</td>\n",
       "      <td>0.000000e+00</td>\n",
       "    </tr>\n",
       "    <tr>\n",
       "      <th>75%</th>\n",
       "      <td>151.250000</td>\n",
       "      <td>89.500000</td>\n",
       "      <td>1.866163e+07</td>\n",
       "      <td>4.120858e+03</td>\n",
       "      <td>0.000000e+00</td>\n",
       "    </tr>\n",
       "    <tr>\n",
       "      <th>max</th>\n",
       "      <td>200.000000</td>\n",
       "      <td>154.000000</td>\n",
       "      <td>1.866193e+07</td>\n",
       "      <td>3.370742e+06</td>\n",
       "      <td>3.370742e+06</td>\n",
       "    </tr>\n",
       "  </tbody>\n",
       "</table>\n",
       "</div>"
      ],
      "text/plain": [
       "           PayerId   ReceiverId     invoiceId        amount      financed\n",
       "count  1200.000000  1200.000000  1.200000e+03  1.200000e+03  1.200000e+03\n",
       "mean    101.567500    60.290000  1.866133e+07  2.785217e+04  1.749303e+04\n",
       "std      57.232888    40.187333  3.465545e+02  1.414899e+05  1.229016e+05\n",
       "min       1.000000    10.000000  1.866073e+07  5.816000e+01  0.000000e+00\n",
       "25%      52.000000    16.000000  1.866103e+07  1.251810e+03  0.000000e+00\n",
       "50%     103.000000    58.000000  1.866133e+07  1.490460e+03  0.000000e+00\n",
       "75%     151.250000    89.500000  1.866163e+07  4.120858e+03  0.000000e+00\n",
       "max     200.000000   154.000000  1.866193e+07  3.370742e+06  3.370742e+06"
      ]
     },
     "execution_count": 8,
     "metadata": {},
     "output_type": "execute_result"
    }
   ],
   "source": [
    "# Describe data\n",
    "df.describe()"
   ]
  },
  {
   "cell_type": "markdown",
   "id": "faafb821-7930-43fa-917f-decb9fb53076",
   "metadata": {},
   "source": [
    "# Data discovery and understanding"
   ]
  },
  {
   "cell_type": "code",
   "execution_count": 9,
   "id": "596f33d5-db0d-4269-8588-6200346c050c",
   "metadata": {},
   "outputs": [
    {
     "data": {
      "text/plain": [
       "487    106\n",
       "Name: PayerId, dtype: int64"
      ]
     },
     "execution_count": 9,
     "metadata": {},
     "output_type": "execute_result"
    }
   ],
   "source": [
    "# Which is the PayerId with the highest -amountfinancedByXepelin-?\n",
    "# This information is for a further discovery.\n",
    "# We need to know why we financed sush amount.\n",
    "df[df['financed']==df['financed'].max()]['PayerId']"
   ]
  },
  {
   "cell_type": "code",
   "execution_count": 10,
   "id": "6ff7cda7-9d6e-4205-957e-83bf98b939aa",
   "metadata": {},
   "outputs": [
    {
     "data": {
      "text/plain": [
       "487    126\n",
       "Name: ReceiverId, dtype: int64"
      ]
     },
     "execution_count": 10,
     "metadata": {},
     "output_type": "execute_result"
    }
   ],
   "source": [
    "# Which is the ReceiverId with the highest -amountfinancedByXepelin-?\n",
    "df[df['financed']==df['financed'].max()]['ReceiverId']"
   ]
  },
  {
   "cell_type": "markdown",
   "id": "cdabb938-5b36-46f9-b09d-97cab11dc82f",
   "metadata": {},
   "source": [
    "# Amounts distributions"
   ]
  },
  {
   "cell_type": "markdown",
   "id": "31058b34-5fe5-470d-9493-02b79404f7df",
   "metadata": {},
   "source": [
    "### Amount"
   ]
  },
  {
   "cell_type": "code",
   "execution_count": 11,
   "id": "fce7ebf7-07a3-4b93-b7f4-385ed3a244ea",
   "metadata": {},
   "outputs": [
    {
     "data": {
      "image/png": "[encoded data removed]",
      "text/plain": [
       "<Figure size 432x288 with 1 Axes>"
      ]
     },
     "metadata": {},
     "output_type": "display_data"
    }
   ],
   "source": [
    "# Box plot amount\n",
    "sns.set_theme(style=\"whitegrid\")\n",
    "ax = sns.boxplot(x=df[\"amount\"], flierprops=mark2)"
   ]
  },
  {
   "cell_type": "markdown",
   "id": "6a0c5df1-9f5d-4581-a28e-5d807ea3c9af",
   "metadata": {},
   "source": [
    "There are some outliers. But I can't say if the data is correct or not. Maybe there are some transactions that are very high (or maybe is an outlier)."
   ]
  },
  {
   "cell_type": "code",
   "execution_count": 12,
   "id": "13ce8d75-a06c-4e05-9d4f-6a417092e892",
   "metadata": {},
   "outputs": [
    {
     "data": {
      "text/plain": [
       "3370741.92"
      ]
     },
     "execution_count": 12,
     "metadata": {},
     "output_type": "execute_result"
    }
   ],
   "source": [
    "# Max amount transaction. \n",
    "df['amount'].max()"
   ]
  },
  {
   "cell_type": "code",
   "execution_count": 13,
   "id": "93026883-38e6-4563-8108-925f028e7c74",
   "metadata": {},
   "outputs": [
    {
     "data": {
      "text/plain": [
       "<AxesSubplot:xlabel='amount', ylabel='Count'>"
      ]
     },
     "execution_count": 13,
     "metadata": {},
     "output_type": "execute_result"
    },
    {
     "data": {
      "image/png": "[encoded data removed]",
      "text/plain": [
       "<Figure size 432x288 with 1 Axes>"
      ]
     },
     "metadata": {},
     "output_type": "display_data"
    }
   ],
   "source": [
    "# Amount distribution\n",
    "sns.histplot(data=df, x=df[\"amount\"], bins=50)"
   ]
  },
  {
   "cell_type": "markdown",
   "id": "c4c67bc4-ee0d-4d9c-aeb0-916fd49c5fc8",
   "metadata": {},
   "source": [
    "The amounts do not have a normal distribution."
   ]
  },
  {
   "cell_type": "markdown",
   "id": "73c9c3d8-6973-4716-bc0a-2662055c2c97",
   "metadata": {},
   "source": [
    "### Amount financed By Xepelin"
   ]
  },
  {
   "cell_type": "code",
   "execution_count": 14,
   "id": "ad946490-e202-4523-8eb5-eb8519c22a55",
   "metadata": {},
   "outputs": [
    {
     "data": {
      "image/png": "[encoded data removed]",
      "text/plain": [
       "<Figure size 432x288 with 1 Axes>"
      ]
     },
     "metadata": {},
     "output_type": "display_data"
    }
   ],
   "source": [
    "# Financed by Xepelin\n",
    "sns.set_theme(style=\"whitegrid\")\n",
    "ax = sns.boxplot(x=df[\"financed\"], flierprops=mark2)"
   ]
  },
  {
   "cell_type": "code",
   "execution_count": 15,
   "id": "db9f36e6-6c8e-47bb-b7d1-6f288b80a5a8",
   "metadata": {},
   "outputs": [
    {
     "data": {
      "text/plain": [
       "3370741.92"
      ]
     },
     "execution_count": 15,
     "metadata": {},
     "output_type": "execute_result"
    }
   ],
   "source": [
    "# Max financed Amount \n",
    "df['financed'].max()"
   ]
  },
  {
   "cell_type": "markdown",
   "id": "c871520d-1d1a-4465-9725-7cb0538b8a43",
   "metadata": {},
   "source": [
    "The max amount is completly financed by Xepelin (it sound like a mistake)."
   ]
  },
  {
   "cell_type": "code",
   "execution_count": 16,
   "id": "bdc80094-0cfd-40b2-b584-076d5d7b3b28",
   "metadata": {},
   "outputs": [
    {
     "data": {
      "text/plain": [
       "<AxesSubplot:xlabel='financed', ylabel='Count'>"
      ]
     },
     "execution_count": 16,
     "metadata": {},
     "output_type": "execute_result"
    },
    {
     "data": {
      "image/png": "[encoded data removed]",
      "text/plain": [
       "<Figure size 432x288 with 1 Axes>"
      ]
     },
     "metadata": {},
     "output_type": "display_data"
    }
   ],
   "source": [
    "# Financed amount distribution.\n",
    "sns.histplot(data=df, x=df[\"financed\"], bins=50)"
   ]
  },
  {
   "cell_type": "markdown",
   "id": "75168333-a1bd-4bb0-bf6b-54c448073a38",
   "metadata": {},
   "source": [
    "The financed amounts do not have a normal distribution."
   ]
  },
  {
   "cell_type": "markdown",
   "id": "b4befac5-4d03-48a0-bfb7-2877ad38fd60",
   "metadata": {},
   "source": [
    "## Null Values"
   ]
  },
  {
   "cell_type": "code",
   "execution_count": 17,
   "id": "05ad6d74-772c-4b93-bc04-0949847f4a54",
   "metadata": {},
   "outputs": [
    {
     "data": {
      "text/plain": [
       "PayerId         0\n",
       "ReceiverId      0\n",
       "invoiceId       0\n",
       "paidAt        308\n",
       "amount          0\n",
       "financed        0\n",
       "status          0\n",
       "dtype: int64"
      ]
     },
     "execution_count": 17,
     "metadata": {},
     "output_type": "execute_result"
    }
   ],
   "source": [
    "# Null values per column\n",
    "df.isnull().sum()"
   ]
  },
  {
   "cell_type": "code",
   "execution_count": 18,
   "id": "256e194a-70ef-434a-ad86-f223bb214c13",
   "metadata": {},
   "outputs": [
    {
     "data": {
      "image/png": "[encoded data removed]",
      "text/plain": [
       "<Figure size 1800x720 with 3 Axes>"
      ]
     },
     "metadata": {},
     "output_type": "display_data"
    }
   ],
   "source": [
    "# If the column is small it has more null values\n",
    "# If the column is hight (near 1200 values) the informations is complete\n",
    "msno.bar(df, color=\"dodgerblue\", sort=\"ascending\")\n",
    "plt.show()"
   ]
  },
  {
   "cell_type": "code",
   "execution_count": 19,
   "id": "83e784e4-73bd-43b0-9204-eb432c2c4181",
   "metadata": {},
   "outputs": [
    {
     "data": {
      "text/plain": [
       "PAID          892\n",
       "PROCESSING    269\n",
       "FAILED         39\n",
       "Name: status, dtype: int64"
      ]
     },
     "execution_count": 19,
     "metadata": {},
     "output_type": "execute_result"
    }
   ],
   "source": [
    "# Null values in detail per status\n",
    "df['status'].value_counts()"
   ]
  },
  {
   "cell_type": "markdown",
   "id": "588aeaf1-ebce-4a46-9060-890066fe22dc",
   "metadata": {},
   "source": [
    "null values = PROCESSING + FAILED = 308"
   ]
  },
  {
   "cell_type": "markdown",
   "id": "2b5fb4c5-3f8c-4876-8b73-a2e55e8a37bb",
   "metadata": {},
   "source": [
    "# Duplicated values"
   ]
  },
  {
   "cell_type": "code",
   "execution_count": 20,
   "id": "8f8147ac-2545-432b-9963-9e49298a4cc0",
   "metadata": {},
   "outputs": [
    {
     "data": {
      "text/html": [
       "<div>\n",
       "<style scoped>\n",
       "    .dataframe tbody tr th:only-of-type {\n",
       "        vertical-align: middle;\n",
       "    }\n",
       "\n",
       "    .dataframe tbody tr th {\n",
       "        vertical-align: top;\n",
       "    }\n",
       "\n",
       "    .dataframe thead th {\n",
       "        text-align: right;\n",
       "    }\n",
       "</style>\n",
       "<table border=\"1\" class=\"dataframe\">\n",
       "  <thead>\n",
       "    <tr style=\"text-align: right;\">\n",
       "      <th></th>\n",
       "      <th>PayerId</th>\n",
       "      <th>ReceiverId</th>\n",
       "      <th>invoiceId</th>\n",
       "      <th>paidAt</th>\n",
       "      <th>amount</th>\n",
       "      <th>financed</th>\n",
       "      <th>status</th>\n",
       "    </tr>\n",
       "  </thead>\n",
       "  <tbody>\n",
       "  </tbody>\n",
       "</table>\n",
       "</div>"
      ],
      "text/plain": [
       "Empty DataFrame\n",
       "Columns: [PayerId, ReceiverId, invoiceId, paidAt, amount, financed, status]\n",
       "Index: []"
      ]
     },
     "execution_count": 20,
     "metadata": {},
     "output_type": "execute_result"
    }
   ],
   "source": [
    "# Do we have duplicated invoiceId'?\n",
    "df[df['invoiceId'].duplicated() == True]"
   ]
  },
  {
   "cell_type": "code",
   "execution_count": 21,
   "id": "3e762eda-0ba9-4b4a-8e05-cea3ca488ce2",
   "metadata": {},
   "outputs": [
    {
     "data": {
      "text/plain": [
       "PayerId        200\n",
       "ReceiverId      77\n",
       "invoiceId     1200\n",
       "paidAt         132\n",
       "amount         478\n",
       "financed       269\n",
       "status           3\n",
       "dtype: int64"
      ]
     },
     "execution_count": 21,
     "metadata": {},
     "output_type": "execute_result"
    }
   ],
   "source": [
    "# Unique values\n",
    "df.nunique()"
   ]
  },
  {
   "cell_type": "markdown",
   "id": "2b3a2b5b-f332-46f9-8b57-47ab4e75fdae",
   "metadata": {},
   "source": [
    "We don't have duplicated values (analizing invoiceID)."
   ]
  },
  {
   "cell_type": "markdown",
   "id": "5dcbfa9e-aae8-408b-bdbf-2ab89307c3a6",
   "metadata": {},
   "source": [
    "# FAILED, PAID and PROCESSING"
   ]
  },
  {
   "cell_type": "markdown",
   "id": "1a9ff276-de83-4635-b694-3e5cba507382",
   "metadata": {},
   "source": [
    "## Financiados"
   ]
  },
  {
   "cell_type": "code",
   "execution_count": 22,
   "id": "5cf2151c-b3cb-4c17-a4f0-e448dbf2da82",
   "metadata": {},
   "outputs": [],
   "source": [
    "# Rearrenge table for financed amounts.\n",
    "df_financed = df.pivot(index='invoiceId', \n",
    "                       columns='status', \n",
    "                       values='financed').reset_index()"
   ]
  },
  {
   "cell_type": "code",
   "execution_count": 23,
   "id": "515ef32b-903f-41ae-b996-169e46d91df3",
   "metadata": {},
   "outputs": [
    {
     "data": {
      "text/html": [
       "<div>\n",
       "<style scoped>\n",
       "    .dataframe tbody tr th:only-of-type {\n",
       "        vertical-align: middle;\n",
       "    }\n",
       "\n",
       "    .dataframe tbody tr th {\n",
       "        vertical-align: top;\n",
       "    }\n",
       "\n",
       "    .dataframe thead th {\n",
       "        text-align: right;\n",
       "    }\n",
       "</style>\n",
       "<table border=\"1\" class=\"dataframe\">\n",
       "  <thead>\n",
       "    <tr style=\"text-align: right;\">\n",
       "      <th>status</th>\n",
       "      <th>invoiceId</th>\n",
       "      <th>FAILED</th>\n",
       "      <th>PAID</th>\n",
       "      <th>PROCESSING</th>\n",
       "    </tr>\n",
       "  </thead>\n",
       "  <tbody>\n",
       "    <tr>\n",
       "      <th>0</th>\n",
       "      <td>18660729</td>\n",
       "      <td>NaN</td>\n",
       "      <td>0.00</td>\n",
       "      <td>NaN</td>\n",
       "    </tr>\n",
       "    <tr>\n",
       "      <th>1</th>\n",
       "      <td>18660730</td>\n",
       "      <td>NaN</td>\n",
       "      <td>624.48</td>\n",
       "      <td>NaN</td>\n",
       "    </tr>\n",
       "    <tr>\n",
       "      <th>2</th>\n",
       "      <td>18660731</td>\n",
       "      <td>NaN</td>\n",
       "      <td>10520.15</td>\n",
       "      <td>NaN</td>\n",
       "    </tr>\n",
       "    <tr>\n",
       "      <th>3</th>\n",
       "      <td>18660732</td>\n",
       "      <td>NaN</td>\n",
       "      <td>79421.63</td>\n",
       "      <td>NaN</td>\n",
       "    </tr>\n",
       "    <tr>\n",
       "      <th>4</th>\n",
       "      <td>18660733</td>\n",
       "      <td>NaN</td>\n",
       "      <td>20532.00</td>\n",
       "      <td>NaN</td>\n",
       "    </tr>\n",
       "  </tbody>\n",
       "</table>\n",
       "</div>"
      ],
      "text/plain": [
       "status  invoiceId  FAILED      PAID  PROCESSING\n",
       "0        18660729     NaN      0.00         NaN\n",
       "1        18660730     NaN    624.48         NaN\n",
       "2        18660731     NaN  10520.15         NaN\n",
       "3        18660732     NaN  79421.63         NaN\n",
       "4        18660733     NaN  20532.00         NaN"
      ]
     },
     "execution_count": 23,
     "metadata": {},
     "output_type": "execute_result"
    }
   ],
   "source": [
    "df_financed.head()"
   ]
  },
  {
   "cell_type": "code",
   "execution_count": 24,
   "id": "5ad9b716-6994-41ba-a484-b400c089fb52",
   "metadata": {},
   "outputs": [
    {
     "data": {
      "text/html": [
       "<div>\n",
       "<style scoped>\n",
       "    .dataframe tbody tr th:only-of-type {\n",
       "        vertical-align: middle;\n",
       "    }\n",
       "\n",
       "    .dataframe tbody tr th {\n",
       "        vertical-align: top;\n",
       "    }\n",
       "\n",
       "    .dataframe thead th {\n",
       "        text-align: right;\n",
       "    }\n",
       "</style>\n",
       "<table border=\"1\" class=\"dataframe\">\n",
       "  <thead>\n",
       "    <tr style=\"text-align: right;\">\n",
       "      <th>status</th>\n",
       "      <th>invoiceId</th>\n",
       "      <th>FAILED</th>\n",
       "      <th>PAID</th>\n",
       "      <th>PROCESSING</th>\n",
       "    </tr>\n",
       "  </thead>\n",
       "  <tbody>\n",
       "    <tr>\n",
       "      <th>count</th>\n",
       "      <td>1.200000e+03</td>\n",
       "      <td>3.900000e+01</td>\n",
       "      <td>8.920000e+02</td>\n",
       "      <td>269.000000</td>\n",
       "    </tr>\n",
       "    <tr>\n",
       "      <th>mean</th>\n",
       "      <td>1.866133e+07</td>\n",
       "      <td>6.244917e+04</td>\n",
       "      <td>1.854811e+04</td>\n",
       "      <td>7476.591078</td>\n",
       "    </tr>\n",
       "    <tr>\n",
       "      <th>std</th>\n",
       "      <td>3.465545e+02</td>\n",
       "      <td>2.390382e+05</td>\n",
       "      <td>1.318592e+05</td>\n",
       "      <td>35663.729829</td>\n",
       "    </tr>\n",
       "    <tr>\n",
       "      <th>min</th>\n",
       "      <td>1.866073e+07</td>\n",
       "      <td>0.000000e+00</td>\n",
       "      <td>0.000000e+00</td>\n",
       "      <td>0.000000</td>\n",
       "    </tr>\n",
       "    <tr>\n",
       "      <th>25%</th>\n",
       "      <td>1.866103e+07</td>\n",
       "      <td>0.000000e+00</td>\n",
       "      <td>0.000000e+00</td>\n",
       "      <td>0.000000</td>\n",
       "    </tr>\n",
       "    <tr>\n",
       "      <th>50%</th>\n",
       "      <td>1.866133e+07</td>\n",
       "      <td>0.000000e+00</td>\n",
       "      <td>0.000000e+00</td>\n",
       "      <td>0.000000</td>\n",
       "    </tr>\n",
       "    <tr>\n",
       "      <th>75%</th>\n",
       "      <td>1.866163e+07</td>\n",
       "      <td>4.467075e+03</td>\n",
       "      <td>0.000000e+00</td>\n",
       "      <td>0.000000</td>\n",
       "    </tr>\n",
       "    <tr>\n",
       "      <th>max</th>\n",
       "      <td>1.866193e+07</td>\n",
       "      <td>1.404453e+06</td>\n",
       "      <td>3.370742e+06</td>\n",
       "      <td>451130.190000</td>\n",
       "    </tr>\n",
       "  </tbody>\n",
       "</table>\n",
       "</div>"
      ],
      "text/plain": [
       "status     invoiceId        FAILED          PAID     PROCESSING\n",
       "count   1.200000e+03  3.900000e+01  8.920000e+02     269.000000\n",
       "mean    1.866133e+07  6.244917e+04  1.854811e+04    7476.591078\n",
       "std     3.465545e+02  2.390382e+05  1.318592e+05   35663.729829\n",
       "min     1.866073e+07  0.000000e+00  0.000000e+00       0.000000\n",
       "25%     1.866103e+07  0.000000e+00  0.000000e+00       0.000000\n",
       "50%     1.866133e+07  0.000000e+00  0.000000e+00       0.000000\n",
       "75%     1.866163e+07  4.467075e+03  0.000000e+00       0.000000\n",
       "max     1.866193e+07  1.404453e+06  3.370742e+06  451130.190000"
      ]
     },
     "execution_count": 24,
     "metadata": {},
     "output_type": "execute_result"
    }
   ],
   "source": [
    "df_financed.describe()"
   ]
  },
  {
   "cell_type": "code",
   "execution_count": 25,
   "id": "9b5b2583-ab08-45c8-a7e9-03de4ee9a298",
   "metadata": {},
   "outputs": [
    {
     "data": {
      "image/png": "[encoded data removed]",
      "text/plain": [
       "<Figure size 432x288 with 1 Axes>"
      ]
     },
     "metadata": {},
     "output_type": "display_data"
    }
   ],
   "source": [
    "# Distribution per status\n",
    "ax = sns.boxplot(x=\"status\", y=\"financed\", data=df, flierprops=mark1)"
   ]
  },
  {
   "cell_type": "markdown",
   "id": "d7523767-fb3a-4ab5-a25e-ba5bf4ad2895",
   "metadata": {},
   "source": [
    "* Most values are at one extreme (lower amounts).\n",
    "* We have an outlier on PAID"
   ]
  },
  {
   "cell_type": "markdown",
   "id": "00e459c2-e3e9-457a-b8b5-c5ebeb9f7328",
   "metadata": {},
   "source": [
    "### Adding values"
   ]
  },
  {
   "cell_type": "code",
   "execution_count": 26,
   "id": "a1372e8b-ece8-422e-a0bd-10be7e918284",
   "metadata": {},
   "outputs": [
    {
     "data": {
      "text/plain": [
       "2435517.73"
      ]
     },
     "execution_count": 26,
     "metadata": {},
     "output_type": "execute_result"
    }
   ],
   "source": [
    "# Montos financiados fallidos\n",
    "df_financed['FAILED'].sum()"
   ]
  },
  {
   "cell_type": "code",
   "execution_count": 27,
   "id": "b609fdcc-5634-47a7-9775-c51ad14eab29",
   "metadata": {},
   "outputs": [
    {
     "data": {
      "text/plain": [
       "2011203.0"
      ]
     },
     "execution_count": 27,
     "metadata": {},
     "output_type": "execute_result"
    }
   ],
   "source": [
    "# Montos financiados en proceso\n",
    "df_financed['PROCESSING'].sum()"
   ]
  },
  {
   "cell_type": "code",
   "execution_count": 28,
   "id": "827e391d-0ece-45ff-a47e-c323147065a1",
   "metadata": {},
   "outputs": [
    {
     "data": {
      "text/plain": [
       "16544913.41"
      ]
     },
     "execution_count": 28,
     "metadata": {},
     "output_type": "execute_result"
    }
   ],
   "source": [
    "# Montos financiados pagados\n",
    "df_financed['PAID'].sum()"
   ]
  },
  {
   "cell_type": "markdown",
   "id": "658d52c8-b1f2-42fb-918d-71ddf967ed68",
   "metadata": {},
   "source": [
    "## Mount"
   ]
  },
  {
   "cell_type": "code",
   "execution_count": 29,
   "id": "8a4732d4-fe09-4e15-907e-5ae226961898",
   "metadata": {},
   "outputs": [],
   "source": [
    "df_amount = df.pivot(index='invoiceId', \n",
    "                     columns='status', \n",
    "                     values='amount').reset_index()"
   ]
  },
  {
   "cell_type": "code",
   "execution_count": 30,
   "id": "67a46838-e126-48a8-b3b2-9a35b9a854b0",
   "metadata": {},
   "outputs": [
    {
     "data": {
      "text/html": [
       "<div>\n",
       "<style scoped>\n",
       "    .dataframe tbody tr th:only-of-type {\n",
       "        vertical-align: middle;\n",
       "    }\n",
       "\n",
       "    .dataframe tbody tr th {\n",
       "        vertical-align: top;\n",
       "    }\n",
       "\n",
       "    .dataframe thead th {\n",
       "        text-align: right;\n",
       "    }\n",
       "</style>\n",
       "<table border=\"1\" class=\"dataframe\">\n",
       "  <thead>\n",
       "    <tr style=\"text-align: right;\">\n",
       "      <th>status</th>\n",
       "      <th>invoiceId</th>\n",
       "      <th>FAILED</th>\n",
       "      <th>PAID</th>\n",
       "      <th>PROCESSING</th>\n",
       "    </tr>\n",
       "  </thead>\n",
       "  <tbody>\n",
       "    <tr>\n",
       "      <th>0</th>\n",
       "      <td>18660729</td>\n",
       "      <td>NaN</td>\n",
       "      <td>1490.46</td>\n",
       "      <td>NaN</td>\n",
       "    </tr>\n",
       "    <tr>\n",
       "      <th>1</th>\n",
       "      <td>18660730</td>\n",
       "      <td>NaN</td>\n",
       "      <td>6418.28</td>\n",
       "      <td>NaN</td>\n",
       "    </tr>\n",
       "    <tr>\n",
       "      <th>2</th>\n",
       "      <td>18660731</td>\n",
       "      <td>NaN</td>\n",
       "      <td>27979.20</td>\n",
       "      <td>NaN</td>\n",
       "    </tr>\n",
       "    <tr>\n",
       "      <th>3</th>\n",
       "      <td>18660732</td>\n",
       "      <td>NaN</td>\n",
       "      <td>183070.77</td>\n",
       "      <td>NaN</td>\n",
       "    </tr>\n",
       "    <tr>\n",
       "      <th>4</th>\n",
       "      <td>18660733</td>\n",
       "      <td>NaN</td>\n",
       "      <td>20532.00</td>\n",
       "      <td>NaN</td>\n",
       "    </tr>\n",
       "  </tbody>\n",
       "</table>\n",
       "</div>"
      ],
      "text/plain": [
       "status  invoiceId  FAILED       PAID  PROCESSING\n",
       "0        18660729     NaN    1490.46         NaN\n",
       "1        18660730     NaN    6418.28         NaN\n",
       "2        18660731     NaN   27979.20         NaN\n",
       "3        18660732     NaN  183070.77         NaN\n",
       "4        18660733     NaN   20532.00         NaN"
      ]
     },
     "execution_count": 30,
     "metadata": {},
     "output_type": "execute_result"
    }
   ],
   "source": [
    "df_amount.head()"
   ]
  },
  {
   "cell_type": "code",
   "execution_count": 31,
   "id": "5d9c3fe6-04d3-4274-9e76-bbc49f36f67b",
   "metadata": {},
   "outputs": [
    {
     "data": {
      "text/html": [
       "<div>\n",
       "<style scoped>\n",
       "    .dataframe tbody tr th:only-of-type {\n",
       "        vertical-align: middle;\n",
       "    }\n",
       "\n",
       "    .dataframe tbody tr th {\n",
       "        vertical-align: top;\n",
       "    }\n",
       "\n",
       "    .dataframe thead th {\n",
       "        text-align: right;\n",
       "    }\n",
       "</style>\n",
       "<table border=\"1\" class=\"dataframe\">\n",
       "  <thead>\n",
       "    <tr style=\"text-align: right;\">\n",
       "      <th>status</th>\n",
       "      <th>invoiceId</th>\n",
       "      <th>FAILED</th>\n",
       "      <th>PAID</th>\n",
       "      <th>PROCESSING</th>\n",
       "    </tr>\n",
       "  </thead>\n",
       "  <tbody>\n",
       "    <tr>\n",
       "      <th>count</th>\n",
       "      <td>1.200000e+03</td>\n",
       "      <td>3.900000e+01</td>\n",
       "      <td>8.920000e+02</td>\n",
       "      <td>269.000000</td>\n",
       "    </tr>\n",
       "    <tr>\n",
       "      <th>mean</th>\n",
       "      <td>1.866133e+07</td>\n",
       "      <td>6.694802e+04</td>\n",
       "      <td>3.075226e+04</td>\n",
       "      <td>12567.335985</td>\n",
       "    </tr>\n",
       "    <tr>\n",
       "      <th>std</th>\n",
       "      <td>3.465545e+02</td>\n",
       "      <td>2.382753e+05</td>\n",
       "      <td>1.541727e+05</td>\n",
       "      <td>44781.266478</td>\n",
       "    </tr>\n",
       "    <tr>\n",
       "      <th>min</th>\n",
       "      <td>1.866073e+07</td>\n",
       "      <td>4.478600e+02</td>\n",
       "      <td>5.816000e+01</td>\n",
       "      <td>201.200000</td>\n",
       "    </tr>\n",
       "    <tr>\n",
       "      <th>25%</th>\n",
       "      <td>1.866103e+07</td>\n",
       "      <td>1.469060e+03</td>\n",
       "      <td>1.313610e+03</td>\n",
       "      <td>1107.260000</td>\n",
       "    </tr>\n",
       "    <tr>\n",
       "      <th>50%</th>\n",
       "      <td>1.866133e+07</td>\n",
       "      <td>1.490460e+03</td>\n",
       "      <td>1.490460e+03</td>\n",
       "      <td>1592.460000</td>\n",
       "    </tr>\n",
       "    <tr>\n",
       "      <th>75%</th>\n",
       "      <td>1.866163e+07</td>\n",
       "      <td>1.414270e+04</td>\n",
       "      <td>5.541030e+03</td>\n",
       "      <td>3000.000000</td>\n",
       "    </tr>\n",
       "    <tr>\n",
       "      <th>max</th>\n",
       "      <td>1.866193e+07</td>\n",
       "      <td>1.404453e+06</td>\n",
       "      <td>3.370742e+06</td>\n",
       "      <td>451130.190000</td>\n",
       "    </tr>\n",
       "  </tbody>\n",
       "</table>\n",
       "</div>"
      ],
      "text/plain": [
       "status     invoiceId        FAILED          PAID     PROCESSING\n",
       "count   1.200000e+03  3.900000e+01  8.920000e+02     269.000000\n",
       "mean    1.866133e+07  6.694802e+04  3.075226e+04   12567.335985\n",
       "std     3.465545e+02  2.382753e+05  1.541727e+05   44781.266478\n",
       "min     1.866073e+07  4.478600e+02  5.816000e+01     201.200000\n",
       "25%     1.866103e+07  1.469060e+03  1.313610e+03    1107.260000\n",
       "50%     1.866133e+07  1.490460e+03  1.490460e+03    1592.460000\n",
       "75%     1.866163e+07  1.414270e+04  5.541030e+03    3000.000000\n",
       "max     1.866193e+07  1.404453e+06  3.370742e+06  451130.190000"
      ]
     },
     "execution_count": 31,
     "metadata": {},
     "output_type": "execute_result"
    }
   ],
   "source": [
    "df_amount.describe()"
   ]
  },
  {
   "cell_type": "code",
   "execution_count": 32,
   "id": "961f8482-a06b-4685-bf4f-6534471f62f2",
   "metadata": {},
   "outputs": [
    {
     "data": {
      "image/png": "[encoded data removed]",
      "text/plain": [
       "<Figure size 432x288 with 1 Axes>"
      ]
     },
     "metadata": {},
     "output_type": "display_data"
    }
   ],
   "source": [
    "# Distribution per status\n",
    "ax = sns.boxplot(x=\"status\", y=\"amount\", data=df, flierprops=mark1)"
   ]
  },
  {
   "cell_type": "markdown",
   "id": "85580379-8944-4302-af82-9994e93a2f7c",
   "metadata": {},
   "source": [
    "* Most values are at one extreme (lower amounts).\n",
    "* We have an outlier on PAID."
   ]
  },
  {
   "cell_type": "code",
   "execution_count": 33,
   "id": "e926b1b9-35d3-476f-93e3-86330494c148",
   "metadata": {},
   "outputs": [
    {
     "data": {
      "text/plain": [
       "2610972.74"
      ]
     },
     "execution_count": 33,
     "metadata": {},
     "output_type": "execute_result"
    }
   ],
   "source": [
    "# Montos fallidos\n",
    "df_amount['FAILED'].sum()"
   ]
  },
  {
   "cell_type": "code",
   "execution_count": 34,
   "id": "5a963b2a-a85d-4610-91be-ebbe2638b332",
   "metadata": {},
   "outputs": [
    {
     "data": {
      "text/plain": [
       "3380613.38"
      ]
     },
     "execution_count": 34,
     "metadata": {},
     "output_type": "execute_result"
    }
   ],
   "source": [
    "# Montos en proceso\n",
    "df_amount['PROCESSING'].sum()"
   ]
  },
  {
   "cell_type": "code",
   "execution_count": 35,
   "id": "a5dbeb39-402b-409a-a9eb-7dbe71efbefc",
   "metadata": {},
   "outputs": [
    {
     "data": {
      "text/plain": [
       "27431012.91"
      ]
     },
     "execution_count": 35,
     "metadata": {},
     "output_type": "execute_result"
    }
   ],
   "source": [
    "# Montos pagados\n",
    "df_amount['PAID'].sum()"
   ]
  },
  {
   "cell_type": "markdown",
   "id": "a199757c-3ef2-4387-83ef-44cd476c843f",
   "metadata": {},
   "source": [
    "# Correlation between features"
   ]
  },
  {
   "cell_type": "code",
   "execution_count": 36,
   "id": "24810e5a-c0f3-4fed-b698-62861f222e6a",
   "metadata": {},
   "outputs": [
    {
     "data": {
      "image/png": "[encoded data removed]",
      "text/plain": [
       "<Figure size 432x288 with 2 Axes>"
      ]
     },
     "metadata": {},
     "output_type": "display_data"
    }
   ],
   "source": [
    "# In the following plot we can see the corralation between all columns\n",
    "sns.heatmap(df.corr(), annot=True, cmap=\"YlGnBu\");"
   ]
  },
  {
   "cell_type": "code",
   "execution_count": 37,
   "id": "58102dd5-b5c6-4432-a003-900230834896",
   "metadata": {},
   "outputs": [
    {
     "data": {
      "image/png": "[encoded data removed]",
      "text/plain": [
       "<Figure size 432x432 with 3 Axes>"
      ]
     },
     "metadata": {},
     "output_type": "display_data"
    }
   ],
   "source": [
    "# Relation between GDP and Healthy life expectancy\n",
    "sns.jointplot(x='financed', y='amount', kind='reg', data=df);"
   ]
  },
  {
   "cell_type": "code",
   "execution_count": 38,
   "id": "fd3336a5-b863-4f2b-931d-9816902dc4a5",
   "metadata": {},
   "outputs": [
    {
     "data": {
      "text/plain": [
       "<seaborn.axisgrid.PairGrid at 0x7f8cca072100>"
      ]
     },
     "execution_count": 38,
     "metadata": {},
     "output_type": "execute_result"
    },
    {
     "data": {
      "image/png": "[encoded data removed]",
      "text/plain": [
       "<Figure size 720x720 with 20 Axes>"
      ]
     },
     "metadata": {},
     "output_type": "display_data"
    }
   ],
   "source": [
    "# A fast view around correlation of some special data.\n",
    "df_sub = df[['amount', 'financed', 'PayerId', 'ReceiverId']]\n",
    "sns.pairplot(df_sub, kind='reg')"
   ]
  },
  {
   "cell_type": "markdown",
   "id": "f8f1a206-b03b-4e1d-8cf0-ed9759d8e946",
   "metadata": {},
   "source": [
    "* The maximum correlation is between the amounts. This is surely due to a relationship established by business.\n",
    "* We don't have good correlations with features."
   ]
  },
  {
   "cell_type": "markdown",
   "id": "4ea75740-2c2d-4297-9855-b589dfe4fa4a",
   "metadata": {},
   "source": [
    "# Outliers PayerId, ReceiverId.\n",
    "\n",
    "Search for strange values."
   ]
  },
  {
   "cell_type": "code",
   "execution_count": 39,
   "id": "8b6cddf0-5e70-44a5-9227-2929e57c19f8",
   "metadata": {},
   "outputs": [
    {
     "name": "stderr",
     "output_type": "stream",
     "text": [
      "/opt/miniconda3/envs/myenv/lib/python3.8/site-packages/seaborn/_decorators.py:36: FutureWarning: Pass the following variable as a keyword arg: x. From version 0.12, the only valid positional argument will be `data`, and passing other arguments without an explicit keyword will result in an error or misinterpretation.\n",
      "  warnings.warn(\n",
      "/opt/miniconda3/envs/myenv/lib/python3.8/site-packages/seaborn/_decorators.py:36: FutureWarning: Pass the following variable as a keyword arg: x. From version 0.12, the only valid positional argument will be `data`, and passing other arguments without an explicit keyword will result in an error or misinterpretation.\n",
      "  warnings.warn(\n"
     ]
    },
    {
     "data": {
      "image/png": "[encoded data removed]",
      "text/plain": [
       "<Figure size 1440x1080 with 2 Axes>"
      ]
     },
     "metadata": {},
     "output_type": "display_data"
    }
   ],
   "source": [
    "col_list = ['PayerId', 'ReceiverId']\n",
    "\n",
    "plt.figure(figsize = (20, 15))\n",
    "plotnumber = 1\n",
    "\n",
    "for col in col_list:\n",
    "    if plotnumber <= 24:\n",
    "        ax = plt.subplot(5, 5, plotnumber)\n",
    "        sns.boxplot(df[col])\n",
    "        plt.xlabel(col, fontsize = 15)\n",
    "    \n",
    "    plotnumber += 1\n",
    "plt.tight_layout()\n",
    "plt.show()"
   ]
  },
  {
   "cell_type": "markdown",
   "id": "b17407d7-4717-4073-aa3c-c3eb8ef2ce1b",
   "metadata": {},
   "source": [
    "There is not strange values in payer and receiver. "
   ]
  }
 ],
 "metadata": {
  "kernelspec": {
   "display_name": "Python 3 (ipykernel)",
   "language": "python",
   "name": "python3"
  },
  "language_info": {
   "codemirror_mode": {
    "name": "ipython",
    "version": 3
   },
   "file_extension": ".py",
   "mimetype": "text/x-python",
   "name": "python",
   "nbconvert_exporter": "python",
   "pygments_lexer": "ipython3",
   "version": "3.9.7"
  }
 },
 "nbformat": 4,
 "nbformat_minor": 5
}
